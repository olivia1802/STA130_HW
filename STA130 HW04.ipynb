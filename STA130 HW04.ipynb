{
 "cells": [
  {
   "cell_type": "markdown",
   "id": "434622f8",
   "metadata": {},
   "source": [
    "# 1\n",
    "## Difference between Standard Error and Standard Deviation\n",
    "- Standard Deviation(SD): \n",
    "Describes how spread out the individual data points are from the mean of the original dataset. Gives an idea of the variability in the dataset itself. \n",
    "\n",
    "- Standard Error of the Mean(SEM): \n",
    "Describes how much the sample mean is expected to vary from the population mean(= average of a group characteristic) if we repeatedly sampled from the population. Shows how precise the sample mean is as an estimate of the population mean. \n",
    "\n",
    "In terms of bootstrapping, when we generate multiple bootstrapped samples and compute the mean individually:\n",
    "- SD of those means == Standard Error\n",
    "- Tells us how much the sample vary\n",
    "\n",
    "## Distinct Ideas Captured by Standard Error and Standard Deviation\n",
    "- Standard Deviation:\n",
    "Captures the spread of the data within a single dataset(the variability of the individual data points)\n",
    "\n",
    "- Standard Error:\n",
    "Captures the variability of the sample mean across multiple resamplings(deals with estimating the true population mean)\n",
    "\n",
    "## Boostrapping\n",
    "- Method to create multiple resamples of the original dataset by sampling with replacement\n",
    "1. Create a Boostrapped Datasets\n",
    "2. Calculate a Statistic\n",
    "3. Repeat the Process\n",
    "4. Create a Distribution\n",
    "5. Confidence Intervals"
   ]
  },
  {
   "cell_type": "markdown",
   "id": "706fb897",
   "metadata": {},
   "source": [
    "# ChatGPT Summary\n",
    "## Question 1\n",
    "Here's a summary of our interaction:\n",
    "\n",
    "1. **Difference between Standard Error and Standard Deviation**:\n",
    "   - **Standard Deviation** measures how spread out individual data points are from the mean in the original dataset.\n",
    "   - **Standard Error** measures how much the sample mean would vary if we repeatedly sampled from the population, focusing on the precision of the sample mean.\n",
    "\n",
    "2. **Distinct Ideas**:\n",
    "   - **Standard Deviation** captures the variability within a single dataset, while **Standard Error** captures the variability of the sample mean across multiple samples.\n",
    "   \n",
    "3. **Bootstrapping Process**:\n",
    "   - Bootstrapping creates new datasets by randomly sampling from the original data with replacement.\n",
    "   - We repeat this process many times to calculate a distribution of a statistic (e.g., mean or median), then use that distribution to estimate the **Standard Error** and **Confidence Interval**.\n"
   ]
  },
  {
   "cell_type": "markdown",
   "id": "22d1aee7",
   "metadata": {},
   "source": [
    "# 2\n",
    "To create a 95% confidence interval using the standard error of the mean(SEM), which covers 95% of the bootstrapped sample means, we need to take 4 steps. \n",
    "1. Calculate the mean of the sample data\n",
    "2. Find the standard error of the mean(SEM), which tells how much the sample mean is expected to vary\n",
    "3. Multiply the SEM by approximately 2, to get the margin of error\n",
    "4. Add and subtract the margin of error to/from the sample mean to create the confidence interval"
   ]
  },
  {
   "cell_type": "markdown",
   "id": "6561e3f4",
   "metadata": {},
   "source": [
    "# ChatGPT Summary\n",
    "## Question 2\n",
    "Here's a summary of our interaction based on your request:\n",
    "\n",
    "---\n",
    "\n",
    "**Summary of Interaction:**\n",
    "\n",
    "In this discussion, I sought clarification on how the standard error of the mean (SEM) is used to create a traditional 95% confidence interval, not for theoretical purposes, but to contrast this method against bootstrapped confidence intervals, which are the focus of my class.\n",
    "\n",
    "The explanation provided was as follows:\n",
    "\n",
    "1. **Calculate the sample mean** of the data.\n",
    "2. **Determine the standard error of the mean** (SEM), which indicates how much the sample mean varies from the true population mean.\n",
    "3. **Multiply the SEM by approximately 2** (specifically, 1.96 for a 95% confidence level) to get the margin of error.\n",
    "4. **Construct the confidence interval** by adding and subtracting this margin of error from the sample mean.\n",
    "\n",
    "This traditional method gives a 95% confidence interval, which covers 95% of the potential sample means. This serves as a point of comparison for understanding bootstrapped confidence intervals.\n",
    "\n",
    "---\n",
    "\n",
    "This summary should provide a concise description of our conversation, highlighting the key aspects of the procedure you wanted to contrast for your assignment."
   ]
  },
  {
   "cell_type": "markdown",
   "id": "177ff4c2",
   "metadata": {},
   "source": [
    "# 3\n",
    "## Steps of Creating a 95% Bootstrapped Confidence Interval using Boostrapped Means\n",
    "1. Generate many boostrapped samples from the original dataset\n",
    "- Each sample must be the same size as the original sample\n",
    "- Bootstrapped samples are created by sampling with repleacement from the original data\n",
    "\n",
    "2. Calculate the mean of each bootstrapped sample to create a distribution of bootstrapped means\n",
    "\n",
    "3. Use the np,quantile() function to find the lower and upper bounds of the 95% confidence interval. Use the 2.5th and 97.5th percentiles of the boostrapped means:\n",
    "    Lower bound = np.quantile(bootstrapped_means, 0.025)\n",
    "    Upper bound = np.quantile(bootstrapped_means, 0.975)\n",
    "    \n",
    "4. Interval between these two quantiles => represents the 95% bootstrapped confidence interval, and will cover exactly 95% of the bootstrapped sample means"
   ]
  },
  {
   "cell_type": "markdown",
   "id": "224f8cb6",
   "metadata": {},
   "source": [
    "# ChatGPT Summary\n",
    "## Question 3\n",
    "Here's a summary of our interaction based on your request:\n",
    "\n",
    "---\n",
    "\n",
    "**Summary of Interaction:**\n",
    "\n",
    "In this discussion, I sought an explanation for how to create a 95% bootstrapped confidence interval using bootstrapped means, without relying on the standard error of the mean (SEM). The goal was to understand this procedure, contrasting it with the traditional \"sample mean plus and minus about 2 times the standard error\" method.\n",
    "\n",
    "The explanation provided was:\n",
    "\n",
    "1. **Generate bootstrapped samples** by resampling with replacement from the original dataset, keeping the same sample size as the original.\n",
    "2. **Calculate the mean** for each bootstrapped sample to form a distribution of bootstrapped means.\n",
    "3. **Use the `np.quantile()` function** to find the 2.5th and 97.5th percentiles of the bootstrapped means to form the lower and upper bounds of the confidence interval:\n",
    "   - `Lower bound = np.quantile(bootstrapped_means, 0.025)`\n",
    "   - `Upper bound = np.quantile(bootstrapped_means, 0.975)`\n",
    "4. This gives a **95% bootstrapped confidence interval**, covering exactly 95% of the bootstrapped means.\n",
    "\n",
    "This method provides a non-parametric way to estimate the variability of the sample mean without using the standard error."
   ]
  },
  {
   "cell_type": "markdown",
   "id": "f1c41571",
   "metadata": {},
   "source": [
    "# 4\n",
    "## Code for Bootstrapped Confidence Interval for Mean"
   ]
  },
  {
   "cell_type": "code",
   "execution_count": 1,
   "id": "a2ee3c52",
   "metadata": {},
   "outputs": [
    {
     "name": "stdout",
     "output_type": "stream",
     "text": [
      "95% Bootstrapped Confidence Interval for the Mean: [55.766666666666666, 74.2]\n"
     ]
    }
   ],
   "source": [
    "import numpy as np\n",
    "\n",
    "# Sample data\n",
    "data = np.random.randint(10, 100, size=30)  # Random sample of 30 values between 10 and 100\n",
    "\n",
    "# Number of bootstrap samples\n",
    "n_bootstraps = 10000\n",
    "\n",
    "# Store bootstrap means\n",
    "bootstrapped_means = []\n",
    "\n",
    "# Bootstrapping process\n",
    "for _ in range(n_bootstraps):\n",
    "    # Create a bootstrapped sample (sampling with replacement)\n",
    "    boot_sample = np.random.choice(data, size=len(data), replace=True)\n",
    "    \n",
    "    # Calculate and store the mean of the bootstrapped sample\n",
    "    bootstrapped_means.append(np.mean(boot_sample))\n",
    "\n",
    "# Compute the 95% bootstrapped confidence interval (for the mean)\n",
    "lower_bound = np.quantile(bootstrapped_means, 0.025)\n",
    "upper_bound = np.quantile(bootstrapped_means, 0.975)\n",
    "\n",
    "# Display the confidence interval for the mean\n",
    "print(f\"95% Bootstrapped Confidence Interval for the Mean: [{lower_bound}, {upper_bound}]\")\n"
   ]
  },
  {
   "cell_type": "markdown",
   "id": "f022ac0e",
   "metadata": {},
   "source": [
    "## Steps to Modify for Other Population Parameters"
   ]
  },
  {
   "cell_type": "code",
   "execution_count": 2,
   "id": "05f18435",
   "metadata": {},
   "outputs": [
    {
     "name": "stdout",
     "output_type": "stream",
     "text": [
      "95% Bootstrapped Confidence Interval for the Median: [53.0, 81.5]\n"
     ]
    }
   ],
   "source": [
    "# Store bootstrap medians\n",
    "bootstrapped_medians = []\n",
    "\n",
    "# Bootstrapping process\n",
    "for _ in range(n_bootstraps):\n",
    "    # Create a bootstrapped sample (sampling with replacement)\n",
    "    boot_sample = np.random.choice(data, size=len(data), replace=True)\n",
    "    \n",
    "    # Calculate and store the median of the bootstrapped sample\n",
    "    bootstrapped_medians.append(np.median(boot_sample))\n",
    "\n",
    "# Compute the 95% bootstrapped confidence interval (for the median)\n",
    "lower_bound_median = np.quantile(bootstrapped_medians, 0.025)\n",
    "upper_bound_median = np.quantile(bootstrapped_medians, 0.975)\n",
    "\n",
    "# Display the confidence interval for the median\n",
    "print(f\"95% Bootstrapped Confidence Interval for the Median: [{lower_bound_median}, {upper_bound_median}]\")\n"
   ]
  },
  {
   "cell_type": "markdown",
   "id": "ac5b9bad",
   "metadata": {},
   "source": [
    "## Explanation\n",
    "1. Sample Creation: Create a random sample of 30 values\n",
    "2. Bootstrap Sampling: For each 10,000 iterations, generate a new bootstrapped sample by sampling with replacement from the original data\n",
    "3. Calculate Statistic: Calculate the mean for each bootstrapped sample and store these values in a list\n",
    "4. Confidence Interval: Take the 2.5th and 97.5th percentiles of the stored means to get the 95% confidence interval => gives the range that covers 95% of the bootstrapped means"
   ]
  },
  {
   "cell_type": "markdown",
   "id": "135f33f9",
   "metadata": {},
   "source": [
    "# ChatGPT Summary\n",
    "## Question 4\n",
    "Here's a summary of our interaction regarding creating a bootstrapped confidence interval:\n",
    "\n",
    "---\n",
    "\n",
    "**Summary of Interaction:**\n",
    "\n",
    "In this discussion, I worked to create code for generating a 95% bootstrapped confidence interval for a population mean based on a sample dataset. I learned how to modify this code to apply to different population parameters, such as the median.\n",
    "\n",
    "The code provided includes the following steps:\n",
    "\n",
    "1. **Sample Creation**: A random sample of 30 values was generated using NumPy.\n",
    "2. **Bootstrap Sampling**: A loop was set to create 10,000 bootstrapped samples by sampling with replacement from the original dataset.\n",
    "3. **Statistic Calculation**: The mean of each bootstrapped sample was calculated and stored in a list.\n",
    "4. **Confidence Interval Calculation**: The 2.5th and 97.5th percentiles of the bootstrapped means were computed using `np.quantile()` to create the 95% confidence interval.\n",
    "\n",
    "Additionally, I learned how to modify the code to calculate the confidence interval for the median instead of the mean by changing the statistic calculation from `np.mean()` to `np.median()`.\n",
    "\n",
    "This exercise helped deepen my understanding of bootstrapping and how to create confidence intervals for various statistics using this method.\n",
    "\n",
    "---\n",
    "\n",
    "Feel free to submit this summary as evidence for your assignment!"
   ]
  },
  {
   "cell_type": "markdown",
   "id": "edb9b123",
   "metadata": {},
   "source": [
    "# 5 \n",
    "We need to distinguish between the population parameter and the sample statistic because a population parameter is true, but unknown, value that we are trying to estimate such as population mean or median. In contrast, sample statistic is a calculated value based on our observed data sample, such as sample mean or sample median. Confidence intervals help us estimate the range within which the true population parameter likely falls, using the sample statistic. The sample statistic is highly subject to variability, so the confidence interval accounts for this uncertainity and provides a range for the population parameter.\n",
    "\n",
    "## Goal of confidence intervals:\n",
    "### To estimate a range within which the true population parameter likely falls, rather than treating the sample statistic as an exact value"
   ]
  },
  {
   "cell_type": "markdown",
   "id": "2301597b",
   "metadata": {},
   "source": [
    "# ChatGPT Summary\n",
    "## Question 5\n",
    "Here's a summary of our interaction based on your question:\n",
    "\n",
    "---\n",
    "\n",
    "**Summary of Interaction:**\n",
    "\n",
    "In this discussion, I explored why it's important to distinguish between the population parameter and the sample statistic when working with confidence intervals. The key points covered were:\n",
    "\n",
    "- **Population parameter**: This is the true, but unknown value we're trying to estimate (e.g., population mean, median).\n",
    "- **Sample statistic**: This is a value calculated from the observed sample, serving as an estimate of the population parameter. We don't know if the sample statistic is true or false, but it's an approximation based on the sample.\n",
    "- Confidence intervals provide a range within which the true population parameter likely falls, reflecting the uncertainty of the sample statistic due to natural variability in the sample.\n",
    "\n",
    "The discussion also clarified that the sample statistic is not inherently true or false but is subject to variability depending on how well the sample represents the population."
   ]
  },
  {
   "cell_type": "markdown",
   "id": "3f1c4352",
   "metadata": {},
   "source": [
    "# 6\n",
    "## 1 Process of Bootstrapping\n",
    "From the video I watched for Q1, I have learned that here are 4 steps of bootstrapping:\n",
    "1. Make a Bootstrapped Dataset\n",
    "2. Calculate something\n",
    "3. Keep track of that calculation\n",
    "4. Repeat steps 1 to 3 a bunch of times\n",
    "\n",
    "More generally speaking, bootstrapping is a statistical method where you repeatedly resample your original data with replacement to create many \"new\" datasets, called bootstrapped samples. From the samples, you calculate the statistic that you are interested in for each one. This gives you a distribution of the statistic, which helps you understand how much that statistic might vary. To summarize, it's like taking your original sample and treating it as if it were the entire population, so you can simulate how different samples would behave. \n",
    "## 2 Main Purpose of Bootstrapping\n",
    "The main purpose of bootstrapping is to estimate variability(or uncertainity) of a statistic without making assumptions about the population, like normality. It allows you to create confidence intervals for population parameters by looking at how much the sample statistic changes across many bootstrapped samples. To summarize, bootstrapping helps us figure out how accurate our estimate from the sample is by showing us the range of possible outcomes. \n",
    "## 3 How to Use Bootsrapping to Assess a Hypothesized Average\n",
    "1. Create many boostrapped samples\n",
    "2. Calculate the mean of each bootrapped sample\n",
    "3. Create a confidence interval from the distribution of bootstrapped means\n",
    "4. Compare the hypothesized average"
   ]
  },
  {
   "cell_type": "markdown",
   "id": "2ce89955",
   "metadata": {},
   "source": [
    "# 7\n",
    "## Why does a confidence interval overlapping zero \"fail to reject the null hypothesis\" when the observed sample mean statistics itself is not zero?\n",
    "A confidence interval that includes zero suggests \"fail to reject the null hypothesis\" because it indicates that the data does not provide strong enough evidence to conclude that the population parameter is different from zero. \n",
    "Regardless of the sample mean itself being not zero, the confidence interval represents the range of every possible values for the true population mean, which accounts sample variability. If this interval spans zero, it suggests that zero could be a plausible value for the population mean. In other word, on average, the drug could have no effect.\n",
    "\n",
    "To reject the null hypothesis, the confidence interval would need to exclude zero. This suggests that the sample data provides strong enough evidence that the population mean is likley not zero, meaning that the drug likely has an effect. This means that if zero is outside the confidence interval, it's unlikely that the true population mean is zero, and we would reject the hypothesis that the drug is doing nothing. \n",
    "\n",
    "### Key Takeaways\n",
    "#### Failing to reject the null:\n",
    "The confidence interval overlaps zero, meaning zero is a plausible value for the population mean. \n",
    "#### Rejecting the null:\n",
    "The confidence interval exclues zero, meaning it's unlikely the population mean is zero, suggesting the drug has an effect.\n"
   ]
  },
  {
   "cell_type": "markdown",
   "id": "640b75e5",
   "metadata": {},
   "source": [
    "# 8\n",
    "## 1 Introduction and Hypothesis\n",
    "#### Goal : To assess whether the vaccine created by AliTech has a positive effect on patients' health. \n",
    "#### Null Hypothesis(H₀): In this context, it means that the vaccine has no effect on health scores. In other words, any observed changes between the initial and final health scores could be due to random variation rather than the vaccine. \n",
    "#### Alternative Hypothesis: The alternative hypothesis(H₁) is that the vaccine does have an effect, meaning the final health scores should, generally, be higher than the initial health scores. \n",
    "\n",
    "## 2 Data Visualization\n",
    "#### Compare InitialHealthScore and FinalHealthScore for the patients\n",
    "#### Plot the histogram for each of the health scores to illustrate the distributions of both health scores. "
   ]
  },
  {
   "cell_type": "code",
   "execution_count": 8,
   "id": "c0a17f6e",
   "metadata": {
    "scrolled": true
   },
   "outputs": [
    {
     "data": {
      "image/png": "[encoded data removed]",
      "text/plain": [
       "<Figure size 640x480 with 1 Axes>"
      ]
     },
     "metadata": {},
     "output_type": "display_data"
    },
    {
     "name": "stdout",
     "output_type": "stream",
     "text": [
      "95% Confidence Interval for the mean score difference: [0.7, 5.5]\n",
      "Reject the null hypothesis: The vaccine appears to have a positive effect on health scores.\n"
     ]
    }
   ],
   "source": [
    "import pandas as pd\n",
    "import numpy as np\n",
    "import matplotlib.pyplot as plt\n",
    "\n",
    "# Step 1: Read the CSV file and handle incorrect column parsing (skip the header row)\n",
    "df = pd.read_csv('alitech_vaccine_data.csv', header=None, skiprows=1)\n",
    "\n",
    "# Step 2: Manually split the single column into multiple columns\n",
    "df = df[0].str.split(',', expand=True)\n",
    "\n",
    "# Step 3: Assign proper column names\n",
    "df.columns = ['PatientID', 'Age', 'Gender', 'InitialHealthScore', 'FinalHealthScore']\n",
    "\n",
    "# Step 4: Convert necessary columns to numeric types (as they might be read as strings)\n",
    "df['InitialHealthScore'] = pd.to_numeric(df['InitialHealthScore'], errors='coerce')\n",
    "df['FinalHealthScore'] = pd.to_numeric(df['FinalHealthScore'], errors='coerce')\n",
    "\n",
    "# Step 5: Plot histograms to visualize Initial vs. Final Health Scores\n",
    "plt.hist(df['InitialHealthScore'], alpha=0.5, label='Initial Health Score')\n",
    "plt.hist(df['FinalHealthScore'], alpha=0.5, label='Final Health Score')\n",
    "plt.legend(loc='upper right')\n",
    "plt.xlabel('Health Score')\n",
    "plt.ylabel('Frequency')\n",
    "plt.title('Comparison of Initial and Final Health Scores')\n",
    "plt.show()\n",
    "\n",
    "# Step 6: Calculate the difference between Final and Initial health scores for each patient\n",
    "df['ScoreDifference'] = df['FinalHealthScore'] - df['InitialHealthScore']\n",
    "\n",
    "# Step 7: Bootstrapping to calculate the confidence interval for the mean difference\n",
    "np.random.seed(42)  # Ensure reproducibility\n",
    "\n",
    "boot_means = []\n",
    "for _ in range(1000):\n",
    "    boot_sample = df['ScoreDifference'].sample(frac=1, replace=True)\n",
    "    boot_means.append(boot_sample.mean())\n",
    "\n",
    "# Step 8: Calculate 95% confidence interval for the bootstrapped means\n",
    "ci_lower = np.percentile(boot_means, 2.5)\n",
    "ci_upper = np.percentile(boot_means, 97.5)\n",
    "\n",
    "# Step 9: Output the confidence interval\n",
    "print(f'95% Confidence Interval for the mean score difference: [{ci_lower}, {ci_upper}]')\n",
    "\n",
    "# Step 10: Conclusion regarding the null hypothesis of \"no effect\"\n",
    "if ci_lower > 0:\n",
    "    print(\"Reject the null hypothesis: The vaccine appears to have a positive effect on health scores.\")\n",
    "elif ci_upper < 0:\n",
    "    print(\"Reject the null hypothesis: The vaccine appears to have a negative effect on health scores.\")\n",
    "else:\n",
    "    print(\"Fail to reject the null hypothesis: No significant effect of the vaccine on health scores.\")\n"
   ]
  },
  {
   "cell_type": "markdown",
   "id": "cce01547",
   "metadata": {},
   "source": [
    "## 3 Bootstrapping for Confidence Intervals\n",
    "#### Use the bootstrapping technique to evaluate the difference between initial and final helath scores. Specifically, the mean difference between final and initial health scores will be calculated, and generate a 95% bootstrapped confidence interval. \n",
    "\n",
    "Code: "
   ]
  },
  {
   "cell_type": "code",
   "execution_count": 9,
   "id": "c80a9e4a",
   "metadata": {},
   "outputs": [
    {
     "name": "stdout",
     "output_type": "stream",
     "text": [
      "95% Confidence Interval for the mean score difference: [0.7, 5.5]\n"
     ]
    }
   ],
   "source": [
    "# Step 6: Calculate the difference between Final and Initial health scores for each patient\n",
    "df['ScoreDifference'] = df['FinalHealthScore'] - df['InitialHealthScore']\n",
    "\n",
    "# Step 7: Bootstrapping to calculate the confidence interval for the mean difference\n",
    "np.random.seed(42)  # Ensure reproducibility\n",
    "\n",
    "boot_means = []\n",
    "for _ in range(1000):  # Generate 1000 bootstrap samples\n",
    "    boot_sample = df['ScoreDifference'].sample(frac=1, replace=True)\n",
    "    boot_means.append(boot_sample.mean())\n",
    "\n",
    "# Step 8: Calculate 95% confidence interval for the bootstrapped means\n",
    "ci_lower = np.percentile(boot_means, 2.5)\n",
    "ci_upper = np.percentile(boot_means, 97.5)\n",
    "\n",
    "# Step 9: Output the confidence interval\n",
    "print(f'95% Confidence Interval for the mean score difference: [{ci_lower}, {ci_upper}]')\n"
   ]
  },
  {
   "cell_type": "markdown",
   "id": "d2ba13ce",
   "metadata": {},
   "source": [
    "## 4 Quantitative Analysis\n",
    "#### Calculate the mean difference in health scores and generate the confidence interval accurately. This quantitative assessment is crucial to draw the reliable conclusions. "
   ]
  },
  {
   "cell_type": "markdown",
   "id": "8b7ef08d",
   "metadata": {},
   "source": [
    "## 5 Interpretation of Results\n",
    "#### The mean difference between the final and initial health scores is computed for each bootstrap sample.\n",
    "#### The 95% confidence interval for the mean difference is determined by taking the 2.5th and 97.5th percentiles of the bootsrapped means.\n",
    "#### We can derive the conclusions about whether the vaccine had an effect based on this interval.\n",
    "\n",
    "## Conclusion Regarding Null Hypothesis:\n",
    "#### Based on the confidence interval:\n",
    "- If both the lower and upper bounds of the confidence interval are above 0, you could reject the null hypothesis. We can also conclude that the vaccine likely had a positive effect on health scores.\n",
    "\n",
    "- If both bounds are below 0, you would reject the null hypothesis and conclude the vaccine had a negative effect.\n",
    "\n",
    "- If the interval crosses 0(i.e., one bound is positive and the other is negative), then you failed to reject the null hypothesis, meaning there's insufficient evidence to claim that the vaccine had any effect. "
   ]
  },
  {
   "cell_type": "markdown",
   "id": "9f88a7e2",
   "metadata": {},
   "source": [
    "## 6 Final Step: Conclusion Example"
   ]
  },
  {
   "cell_type": "code",
   "execution_count": 10,
   "id": "5dc0cdb3",
   "metadata": {
    "scrolled": true
   },
   "outputs": [
    {
     "name": "stdout",
     "output_type": "stream",
     "text": [
      "Reject the null hypothesis: The vaccine appears to have a positive effect on health scores.\n"
     ]
    }
   ],
   "source": [
    "# Step 10: Conclusion regarding the null hypothesis of \"no effect\"\n",
    "if ci_lower > 0:\n",
    "    print(\"Reject the null hypothesis: The vaccine appears to have a positive effect on health scores.\")\n",
    "elif ci_upper < 0:\n",
    "    print(\"Reject the null hypothesis: The vaccine appears to have a negative effect on health scores.\")\n",
    "else:\n",
    "    print(\"Fail to reject the null hypothesis: No significant effect of the vaccine on health scores.\")\n"
   ]
  },
  {
   "cell_type": "markdown",
   "id": "16ee7c9b",
   "metadata": {},
   "source": [
    "## 7 Further Considerations:\n",
    "#### Discuss the limitations of this analysis(e.g., small sample size).\n",
    "#### Suggest next steps for AliTech, such as collecting more data or testing different dosage levels. "
   ]
  },
  {
   "cell_type": "markdown",
   "id": "4ed84e44",
   "metadata": {},
   "source": [
    "# ChatGPT Summary\n",
    "## Question 8\n",
    "ChatGPT Interaction Summary\n",
    "In this session, I sought assistance with a Vaccine Data Analysis Assignment for the company AliTech, which developed a new vaccine aimed at improving health outcomes. I provided a dataset with patient information, including initial and final health scores.\n",
    "\n",
    "Data Import and Cleaning: I initially encountered issues importing and cleaning the dataset, specifically with parsing column headers. With guidance, I successfully imported the data, adjusted the headers, and converted necessary columns to numeric types.\n",
    "\n",
    "Data Visualization: I generated histograms to compare the distributions of initial and final health scores, providing visual insights into the potential effects of the vaccine.\n",
    "\n",
    "Bootstrapping Analysis: I learned to apply bootstrapping to assess the effectiveness of the vaccine. By calculating the 95% confidence interval for the mean difference in health scores, I was able to draw conclusions regarding the null hypothesis of \"no effect.\"\n",
    "\n",
    "Results Interpretation: The analysis indicated a significant positive effect of the vaccine, as the confidence interval did not include zero, leading to the rejection of the null hypothesis.\n",
    "\n",
    "This interaction provided me with the necessary support to conduct a comprehensive analysis and draw meaningful conclusions for my assignment."
   ]
  },
  {
   "cell_type": "markdown",
   "id": "e63c5773",
   "metadata": {},
   "source": [
    "# 9\n",
    "Yes"
   ]
  },
  {
   "cell_type": "code",
   "execution_count": null,
   "id": "91ec5cae",
   "metadata": {},
   "outputs": [],
   "source": []
  },
  {
   "cell_type": "code",
   "execution_count": null,
   "id": "57101f23",
   "metadata": {},
   "outputs": [],
   "source": []
  }
 ],
 "metadata": {
  "kernelspec": {
   "display_name": "Python 3 (ipykernel)",
   "language": "python",
   "name": "python3"
  },
  "language_info": {
   "codemirror_mode": {
    "name": "ipython",
    "version": 3
   },
   "file_extension": ".py",
   "mimetype": "text/x-python",
   "name": "python",
   "nbconvert_exporter": "python",
   "pygments_lexer": "ipython3",
   "version": "3.11.6"
  }
 },
 "nbformat": 4,
 "nbformat_minor": 5
}
