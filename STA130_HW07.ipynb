{
 "cells": [
  {
   "cell_type": "markdown",
   "id": "6595238b",
   "metadata": {},
   "source": [
    "# Link to ChatGPT\n",
    "https://chatgpt.com/share/6736b596-2e54-800e-bd15-f1559d7b0c35"
   ]
  },
  {
   "cell_type": "markdown",
   "id": "57d46050",
   "metadata": {},
   "source": [
    "# 1\n",
    "## 1. Simple Linear Regression vs. Multiple Linear Regression\n",
    "#### Simple Linear Regression\n",
    "- Models the relationship between one predictor variable ($X$) and the outcome variable (Y). The form is: \n",
    "\n",
    "$Y = \\beta_0 + \\beta_1 x$\n",
    "\n",
    "- $\\beta_0$ is the intercept, and $\\beta_1$ is the coefficient showing the effect of $X$ on $Y$. \n",
    "\n",
    "#### Multiple Linear Regression\n",
    "- Extends this to include multiple predictor variables ($X_1, X_2, ..., X_n$), allowing for a more complex and nuanced model of the outcome variable. The form is:\n",
    "\n",
    "$Y = \\beta_0 + \\beta_1 X_1 + \\beta_2 X_2 + \\ldots + \\beta_n X_n$\n",
    "\n",
    "- By using more predictors, Multiple Linear Regression can explain variation in $Y$ that couldn't be captured by a single predictor alone.\n",
    "- Offers a better fit to the data if the additional variables are relevant.\n",
    "\n",
    "## 2. Continuous vs. Indicator Variables in Simple Linear Regression\n",
    "#### Continuous Variable\n",
    "- Takes on a range of values, leading to a model where:\n",
    "    - Each unit change in $X$ affects $Y$ by a constant amount. \n",
    "    - For instance, in $Y = \\beta_0 + \\beta_1 X, \\beta_1$ represents the effect of each unit increase in $X$ on $Y$.\n",
    "\n",
    "#### Indicator (Binary) Variable\n",
    "- Takes on values of 0 or 1, representing two distinct groups (e.g., \"treatment\" or \"control\".) The model form is:\n",
    "\n",
    "$Y = \\beta_0 + \\beta_1 1(X)$\n",
    "\n",
    "- $1(X)$ equals 1 for one group and 0 for the other\n",
    "- $\\beta_0$ : outcome for the reference group $(1(X)=0$\n",
    "- $\\beta_1$ : difference in $Y$ between the two groups\n",
    "\n",
    "## 3. Introducing an Indicator Variable in Multiple Linear Regression\n",
    "- When a continuous variable $X_1$ and an indicator variable $1(X_2)$ are used together in Multiple Linear Regression, the model form is:\n",
    "\n",
    "$Y = \\beta_0 + \\beta_1 X_1 + \\beta_2 1(X_2)$\n",
    "\n",
    "- $\\beta_2$: caputres the difference between the two groups defined by $1(X_2)$\n",
    "- $\\beta_1$: shows the effect of $X_1$ on $Y$, regardless of group\n",
    "- Allows the model to differentiate the outcome based on $1(X_2)$ while still accounting for the influence of $X_1$.\n",
    "\n",
    "## 4. Adding an Interaction Between a Continuous and an Indicator Variable in Multiple Linear Regression\n",
    "- An interaction term between a continuous variable $X_1$ and an indicator variable $1(X_2)$ captures the possibility that the effect of $X_1$ on $Y$ differs by the level of $1(X_2)$. The model form is:\n",
    "\n",
    "$Y = \\beta_0 + \\beta_1 X_1 + \\beta_2 1(X_2) + \\beta_3 (X_1 \\times\n",
    "1(X_2))$\n",
    "\n",
    "- $\\beta_3$: represents the additional change in the slope of $X_1$ when $1(X_2) = 1$\n",
    "- Enables the model to allow for different relationships between $X_!$ and $Y$ based on the value of $1(X_2)$\n",
    "\n",
    "## 5. Multiple Linear Regression with Only Indicator Variables for a Categorical Variable\n",
    "- For a categorical variable with $k$ categories (e.g., regions: North, South, East, West), we use $k - 1$ indicator variables to represent these categories.\n",
    "- Suppose that we encode North, South, and East with indicator variables, while West serves as the baseline group. The model form is: \n",
    "\n",
    "$Y = \\beta_0 + \\beta_1 1(\\text{North}) + \\beta_2 1(\\text{South}) + \\beta_3 1(\\text{East})$\n",
    "\n",
    "- $\\beta_0$: represents the baseline outcome for West\n",
    "- $\\beta_1, \\beta_2, and \\beta_3$: capture the difference in $Y$ for North, South, and East, compared to West\n",
    "- This encoding (often called \"dummy coding\") avoids redundancy and multicollinearity by:\n",
    "    - Representing cateogry membership with binary (0 or 1) indicator variables\n",
    "    - Makes it easier to interpret the unique effect of each category relative to the baseline"
   ]
  },
  {
   "cell_type": "markdown",
   "id": "da3c2696",
   "metadata": {},
   "source": [
    "# ChatGPT Summary\n",
    "\n",
    "In this interaction, we discussed key concepts in linear regression, focusing on differences between Simple and Multiple Linear Regression. We covered how Simple Linear Regression models a single predictor, while Multiple Linear Regression incorporates multiple predictors, allowing for more nuanced models. We also reviewed the use of continuous versus indicator variables, noting that indicator variables represent distinct groups and allow categorical information in the model.\n",
    "\n",
    "We explored how adding an indicator variable to a continuous variable affects model behavior, enabling the model to differentiate outcomes by group. We discussed interaction terms in Multiple Linear Regression, where combining continuous and indicator variables allows varying relationships between predictors and outcomes across groups. Finally, we examined Multiple Linear Regression with only indicator variables for categorical predictors, including the baseline category concept, and the need for \\(k-1\\) indicators to represent \\(k\\) categories. Equations for each form were provided in LaTeX format."
   ]
  },
  {
   "cell_type": "markdown",
   "id": "fb2de507",
   "metadata": {},
   "source": [
    "# 2\n",
    "## Identifying Variables and Interactions\n",
    "For this scenario:\n",
    "    \n",
    "   - Outcome Variable ($Y$): Total sales from the advertising campaigns\n",
    "   \n",
    "   - Predictor Variables:\n",
    "        - $X_{\\text{TV}}$: Amount spent on TV advertising\n",
    "        - $X_{\\text{Online}}$: Amount spent on online advertising\n",
    "        \n",
    "## Model Forms\n",
    "#### 1. Without Interaction (Additive Model):\n",
    "- The effect of TV and online advertising on sales\n",
    "    => indepdent of each other\n",
    "- The model assumes each advertising type contributes to sales without influencing the effectiveness of the other\n",
    "\n",
    "$Y = \\beta_0 + \\beta_{\\text{TV}} X_{\\text{TV}} + \\beta_{\\text{Online}} X_{\\text{Online}}$\n",
    "\n",
    "#### 2. With Interaction (Synergistic Model):\n",
    "- The interaction between TV and online advertising is included\n",
    "- Captures the idea that the effectiveness of one advertising medium could depend on the spending in the other\n",
    "\n",
    "$Y = \\beta_0 + \\beta_{\\text{TV}} X_{\\text{TV}} + \\beta_{\\text{Online}} X_{\\text{Online}} + \\beta_{\\text{TV} \\times \\text{Online}} (X_{\\text{TV}} \\times X_{\\text{Online}})$\n",
    "\n",
    "## Explanation of Predictions\n",
    "- **Additive Model**: \n",
    "    - The model without interaction predicts total sales as a simple sum of individual effects from each type of advertising\n",
    "    - This model works if both ad campaigns have independent effect on sales\n",
    "    \n",
    "- **Synergistic Model**:\n",
    "    - The model with interaction adds a term for $\\beta_{\\text{TV} \\times \\text{Online}} (X_{\\text{TV}} \\times X_{\\text{Online}})$\n",
    "    - Captures an interaction effect\n",
    "    - The impact of TV ads on sales may increase or decrease depending on the online ad budget and vice versa. \n",
    "    - The model predicts sales to vary more dynamically, as it accounts for the interplay between the two types of advertising\n",
    "    \n",
    "## Updating the Model for Binary Indicator Variables\n",
    "If instead we categorize the advertisement budgets as either \"High\" or \"Low\", we replace the continuous variables $X_{\\text{TV}}$ and  $X_{\\text{Online}}$ with binary indicators: \n",
    "- **Binary Variables**:\n",
    "    - $1(X_{\\text{TV}} = \\text{High})$: Indicator for \"High\" TV ad budget (1 if High, 0 if Low).\n",
    "    -  $1(X_{\\text{Online}} = \\text{High})$ : Indicator for \"High\" online ad budget (1 if High, 0 if Low).\n",
    "\n",
    "**Binary Model Forms**\n",
    "1. **Without Interaction**:\n",
    "$Y = \\beta_0 + \\beta_{\\text{TV}} \\cdot 1(X_{\\text{TV}} = \\text{High}) + \\beta_{\\text{Online}} \\cdot 1(X_{\\text{Online}} = \\text{High})$\n",
    "\n",
    "2. **With Interaction**:\n",
    "$Y = \\beta_0 + \\beta_{\\text{TV}} \\cdot 1(X_{\\text{TV}} = \\text{High}) + \\beta_{\\text{Online}} \\cdot 1(X_{\\text{Online}} = \\text{High}) + \\beta_{\\text{TV} \\times \\text{Online}} \\cdot \\big(1(X_{\\text{TV}} = \\text{High}) \\times 1(X_{\\text{Online}} = \\text{High})\\big)$\n",
    "\n",
    "In these models:\n",
    "- **Without Interaction**:\n",
    "    - The model will predict sales for four possible cases independetly ( both High, both Low, only TV High, only Online High)\n",
    "    - Each effect on sales is additive\n",
    "    \n",
    "- **With Interaction**:\n",
    "    - An additional interaction term accounts for cases where:\n",
    "        - Both budgets are simultaneously, potentially increasing or decreasing the expected sales beyong what the individual effects would predict\n",
    "    - This model might be more accurate if:\n",
    "        - having high budgets in both areas creates a synergistic boost in sales"
   ]
  },
  {
   "cell_type": "markdown",
   "id": "3f77cdba",
   "metadata": {},
   "source": [
    "# ChatGPT Summary\n",
    "We discussed the setup and interpretation of multiple linear regression models with and without interaction terms. Specifically, we examined a scenario where advertising budgets for TV and online platforms could impact sales. We started with continuous variables to explore additive and synergistic (interaction) models, where the effect of one advertising platform on sales could depend on the budget of the other. I provided the linear forms for both additive and interaction models in LaTeX.\n",
    "\n",
    "Next, we considered a version using binary indicators for \"High\" or \"Low\" ad budgets. I outlined the binary indicator variables and provided the updated linear forms for models with and without interaction terms. Finally, I provided LaTeX code for both the model forms and definitions of the binary indicators for clear documentation."
   ]
  },
  {
   "cell_type": "markdown",
   "id": "961fd3f9",
   "metadata": {},
   "source": [
    "# 3"
   ]
  },
  {
   "cell_type": "markdown",
   "id": "2583e082",
   "metadata": {},
   "source": [
    "## Step 1: Load and Prepare the Data"
   ]
  },
  {
   "cell_type": "code",
   "execution_count": 121,
   "id": "94f2709d",
   "metadata": {},
   "outputs": [
    {
     "name": "stderr",
     "output_type": "stream",
     "text": [
      "/tmp/ipykernel_70/2969168346.py:6: DtypeWarning:\n",
      "\n",
      "Columns (408,1001,1002,1006,1007,1008,1080,1113,1115,1116,1117,1118,1119,1120,1121,1124,1125,1126,1127,1128,1213,1214,1215,1216,1217,1218,1342,1343,1344,1345,1346,1347,1348,1349,1390,1391,1393,1463,1549,1552,1555,1558,1561) have mixed types. Specify dtype option on import or set low_memory=False.\n",
      "\n"
     ]
    },
    {
     "data": {
      "text/html": [
       "<div>\n",
       "<style scoped>\n",
       "    .dataframe tbody tr th:only-of-type {\n",
       "        vertical-align: middle;\n",
       "    }\n",
       "\n",
       "    .dataframe tbody tr th {\n",
       "        vertical-align: top;\n",
       "    }\n",
       "\n",
       "    .dataframe thead th {\n",
       "        text-align: right;\n",
       "    }\n",
       "</style>\n",
       "<table border=\"1\" class=\"dataframe\">\n",
       "  <thead>\n",
       "    <tr style=\"text-align: right;\">\n",
       "      <th></th>\n",
       "      <th>UNIQUE_id</th>\n",
       "      <th>UNIQUE_num_records</th>\n",
       "      <th>ELIGIBLE_consent</th>\n",
       "      <th>GEO_residence_canada</th>\n",
       "      <th>GEO_province</th>\n",
       "      <th>DEMO_age</th>\n",
       "      <th>DEMO_gender</th>\n",
       "      <th>DEMO_identity_vetrans</th>\n",
       "      <th>DEMO_identity_indigenous</th>\n",
       "      <th>DEMO_identity_lgbtq</th>\n",
       "      <th>...</th>\n",
       "      <th>PSYCH_body_self_image_questionnaire_height_dissatisfaction_score</th>\n",
       "      <th>PSYCH_body_self_image_questionnaire_fatness_evaluation_score</th>\n",
       "      <th>PSYCH_body_self_image_questionnaire_negative_affect_score</th>\n",
       "      <th>PSYCH_body_self_image_questionnaire_social_dependence_score</th>\n",
       "      <th>PSYCH_big_five_inventory_agreeable_score</th>\n",
       "      <th>PSYCH_big_five_inventory_conscientious_score</th>\n",
       "      <th>PSYCH_big_five_inventory_extraverted_score</th>\n",
       "      <th>PSYCH_big_five_inventory_neurotic_score</th>\n",
       "      <th>PSYCH_big_five_inventory_open_score</th>\n",
       "      <th>REMOVE_case</th>\n",
       "    </tr>\n",
       "  </thead>\n",
       "  <tbody>\n",
       "    <tr>\n",
       "      <th>0</th>\n",
       "      <td>cscs_00001</td>\n",
       "      <td>1</td>\n",
       "      <td>Yes</td>\n",
       "      <td>Yes</td>\n",
       "      <td>British Columbia</td>\n",
       "      <td>71.0</td>\n",
       "      <td>Non-binary</td>\n",
       "      <td>NaN</td>\n",
       "      <td>NaN</td>\n",
       "      <td>Sexual or gender minorities (e.g., LGBTQ2+)</td>\n",
       "      <td>...</td>\n",
       "      <td>NaN</td>\n",
       "      <td>NaN</td>\n",
       "      <td>NaN</td>\n",
       "      <td>NaN</td>\n",
       "      <td>NaN</td>\n",
       "      <td>NaN</td>\n",
       "      <td>NaN</td>\n",
       "      <td>NaN</td>\n",
       "      <td>NaN</td>\n",
       "      <td>No</td>\n",
       "    </tr>\n",
       "    <tr>\n",
       "      <th>1</th>\n",
       "      <td>cscs_00002</td>\n",
       "      <td>1</td>\n",
       "      <td>Yes</td>\n",
       "      <td>Yes</td>\n",
       "      <td>Ontario</td>\n",
       "      <td>69.0</td>\n",
       "      <td>Woman</td>\n",
       "      <td>NaN</td>\n",
       "      <td>NaN</td>\n",
       "      <td>Not Selected</td>\n",
       "      <td>...</td>\n",
       "      <td>3.0</td>\n",
       "      <td>8.0</td>\n",
       "      <td>3.0</td>\n",
       "      <td>3.0</td>\n",
       "      <td>NaN</td>\n",
       "      <td>NaN</td>\n",
       "      <td>NaN</td>\n",
       "      <td>NaN</td>\n",
       "      <td>NaN</td>\n",
       "      <td>No</td>\n",
       "    </tr>\n",
       "    <tr>\n",
       "      <th>2</th>\n",
       "      <td>cscs_00003</td>\n",
       "      <td>1</td>\n",
       "      <td>Yes</td>\n",
       "      <td>Yes</td>\n",
       "      <td>Quebec</td>\n",
       "      <td>56.0</td>\n",
       "      <td>Woman</td>\n",
       "      <td>NaN</td>\n",
       "      <td>NaN</td>\n",
       "      <td>Not Selected</td>\n",
       "      <td>...</td>\n",
       "      <td>NaN</td>\n",
       "      <td>NaN</td>\n",
       "      <td>NaN</td>\n",
       "      <td>NaN</td>\n",
       "      <td>NaN</td>\n",
       "      <td>NaN</td>\n",
       "      <td>NaN</td>\n",
       "      <td>NaN</td>\n",
       "      <td>NaN</td>\n",
       "      <td>No</td>\n",
       "    </tr>\n",
       "    <tr>\n",
       "      <th>3</th>\n",
       "      <td>cscs_00005</td>\n",
       "      <td>1</td>\n",
       "      <td>Yes</td>\n",
       "      <td>Yes</td>\n",
       "      <td>NaN</td>\n",
       "      <td>54.0</td>\n",
       "      <td>Woman</td>\n",
       "      <td>NaN</td>\n",
       "      <td>NaN</td>\n",
       "      <td>Not Selected</td>\n",
       "      <td>...</td>\n",
       "      <td>NaN</td>\n",
       "      <td>NaN</td>\n",
       "      <td>NaN</td>\n",
       "      <td>NaN</td>\n",
       "      <td>28.0</td>\n",
       "      <td>34.0</td>\n",
       "      <td>30.0</td>\n",
       "      <td>32.0</td>\n",
       "      <td>37.0</td>\n",
       "      <td>No</td>\n",
       "    </tr>\n",
       "    <tr>\n",
       "      <th>4</th>\n",
       "      <td>cscs_00006</td>\n",
       "      <td>1</td>\n",
       "      <td>Yes</td>\n",
       "      <td>Yes</td>\n",
       "      <td>Ontario</td>\n",
       "      <td>30.0</td>\n",
       "      <td>Man</td>\n",
       "      <td>Not Selected</td>\n",
       "      <td>Indigenous peoples (e.g., First Nations, Métis...</td>\n",
       "      <td>Sexual or gender minorities (e.g., LGBTQ2+)</td>\n",
       "      <td>...</td>\n",
       "      <td>NaN</td>\n",
       "      <td>NaN</td>\n",
       "      <td>NaN</td>\n",
       "      <td>NaN</td>\n",
       "      <td>NaN</td>\n",
       "      <td>NaN</td>\n",
       "      <td>NaN</td>\n",
       "      <td>NaN</td>\n",
       "      <td>NaN</td>\n",
       "      <td>No</td>\n",
       "    </tr>\n",
       "  </tbody>\n",
       "</table>\n",
       "<p>5 rows × 1794 columns</p>\n",
       "</div>"
      ],
      "text/plain": [
       "    UNIQUE_id  UNIQUE_num_records ELIGIBLE_consent GEO_residence_canada  \\\n",
       "0  cscs_00001                   1              Yes                  Yes   \n",
       "1  cscs_00002                   1              Yes                  Yes   \n",
       "2  cscs_00003                   1              Yes                  Yes   \n",
       "3  cscs_00005                   1              Yes                  Yes   \n",
       "4  cscs_00006                   1              Yes                  Yes   \n",
       "\n",
       "       GEO_province  DEMO_age DEMO_gender DEMO_identity_vetrans  \\\n",
       "0  British Columbia      71.0  Non-binary                   NaN   \n",
       "1           Ontario      69.0       Woman                   NaN   \n",
       "2            Quebec      56.0       Woman                   NaN   \n",
       "3               NaN      54.0       Woman                   NaN   \n",
       "4           Ontario      30.0         Man          Not Selected   \n",
       "\n",
       "                            DEMO_identity_indigenous  \\\n",
       "0                                                NaN   \n",
       "1                                                NaN   \n",
       "2                                                NaN   \n",
       "3                                                NaN   \n",
       "4  Indigenous peoples (e.g., First Nations, Métis...   \n",
       "\n",
       "                           DEMO_identity_lgbtq  ...  \\\n",
       "0  Sexual or gender minorities (e.g., LGBTQ2+)  ...   \n",
       "1                                 Not Selected  ...   \n",
       "2                                 Not Selected  ...   \n",
       "3                                 Not Selected  ...   \n",
       "4  Sexual or gender minorities (e.g., LGBTQ2+)  ...   \n",
       "\n",
       "  PSYCH_body_self_image_questionnaire_height_dissatisfaction_score  \\\n",
       "0                                                NaN                 \n",
       "1                                                3.0                 \n",
       "2                                                NaN                 \n",
       "3                                                NaN                 \n",
       "4                                                NaN                 \n",
       "\n",
       "  PSYCH_body_self_image_questionnaire_fatness_evaluation_score  \\\n",
       "0                                                NaN             \n",
       "1                                                8.0             \n",
       "2                                                NaN             \n",
       "3                                                NaN             \n",
       "4                                                NaN             \n",
       "\n",
       "  PSYCH_body_self_image_questionnaire_negative_affect_score  \\\n",
       "0                                                NaN          \n",
       "1                                                3.0          \n",
       "2                                                NaN          \n",
       "3                                                NaN          \n",
       "4                                                NaN          \n",
       "\n",
       "  PSYCH_body_self_image_questionnaire_social_dependence_score  \\\n",
       "0                                                NaN            \n",
       "1                                                3.0            \n",
       "2                                                NaN            \n",
       "3                                                NaN            \n",
       "4                                                NaN            \n",
       "\n",
       "  PSYCH_big_five_inventory_agreeable_score  \\\n",
       "0                                      NaN   \n",
       "1                                      NaN   \n",
       "2                                      NaN   \n",
       "3                                     28.0   \n",
       "4                                      NaN   \n",
       "\n",
       "  PSYCH_big_five_inventory_conscientious_score  \\\n",
       "0                                          NaN   \n",
       "1                                          NaN   \n",
       "2                                          NaN   \n",
       "3                                         34.0   \n",
       "4                                          NaN   \n",
       "\n",
       "  PSYCH_big_five_inventory_extraverted_score  \\\n",
       "0                                        NaN   \n",
       "1                                        NaN   \n",
       "2                                        NaN   \n",
       "3                                       30.0   \n",
       "4                                        NaN   \n",
       "\n",
       "  PSYCH_big_five_inventory_neurotic_score PSYCH_big_five_inventory_open_score  \\\n",
       "0                                     NaN                                 NaN   \n",
       "1                                     NaN                                 NaN   \n",
       "2                                     NaN                                 NaN   \n",
       "3                                    32.0                                37.0   \n",
       "4                                     NaN                                 NaN   \n",
       "\n",
       "  REMOVE_case  \n",
       "0          No  \n",
       "1          No  \n",
       "2          No  \n",
       "3          No  \n",
       "4          No  \n",
       "\n",
       "[5 rows x 1794 columns]"
      ]
     },
     "execution_count": 121,
     "metadata": {},
     "output_type": "execute_result"
    }
   ],
   "source": [
    "import pandas as pd\n",
    "import statsmodels.formula.api as smf\n",
    "\n",
    "# Load the dataset\n",
    "file_path = '/home/jovyan/CSCS_data_anon.csv'  # Make sure this is the correct path\n",
    "survey_data = pd.read_csv(file_path)\n",
    "\n",
    "# Check the first few rows of the dataset to understand its structure\n",
    "survey_data.head()\n"
   ]
  },
  {
   "cell_type": "markdown",
   "id": "321171de",
   "metadata": {},
   "source": [
    "## Step 2: Convert Categorical Variables to Binary (if necessary)\n",
    "Convert categorical variables like `DEMO_gender` and `DEMO_identity_indigenous` into binary format, which is required for logistic regression. "
   ]
  },
  {
   "cell_type": "code",
   "execution_count": 122,
   "id": "c63f2e20",
   "metadata": {},
   "outputs": [],
   "source": [
    "# Convert gender and indigenous identity to binary format\n",
    "survey_data['DEMO_gender_binary'] = survey_data['DEMO_gender'].map({'Man': 1, 'Woman': 0, 'Non-binary': 0}).fillna(0)\n",
    "survey_data['DEMO_identity_indigenous_binary'] = survey_data['DEMO_identity_indigenous'].apply(lambda x: 1 if pd.notna(x) else 0)"
   ]
  },
  {
   "cell_type": "markdown",
   "id": "f527c7bc",
   "metadata": {},
   "source": [
    "## Step 3: Logistic Regression Formula\n",
    "Define the logistic regression formula and fit the model using `smf.logit`."
   ]
  },
  {
   "cell_type": "code",
   "execution_count": 123,
   "id": "ccca8a63",
   "metadata": {},
   "outputs": [
    {
     "name": "stdout",
     "output_type": "stream",
     "text": [
      "Warning: Maximum number of iterations has been exceeded.\n",
      "         Current function value: 0.000000\n",
      "         Iterations: 35\n"
     ]
    },
    {
     "name": "stderr",
     "output_type": "stream",
     "text": [
      "/opt/conda/lib/python3.11/site-packages/statsmodels/discrete/discrete_model.py:227: PerfectSeparationWarning:\n",
      "\n",
      "Perfect separation or prediction detected, parameter may not be identified\n",
      "\n",
      "/opt/conda/lib/python3.11/site-packages/statsmodels/discrete/discrete_model.py:227: PerfectSeparationWarning:\n",
      "\n",
      "Perfect separation or prediction detected, parameter may not be identified\n",
      "\n",
      "/opt/conda/lib/python3.11/site-packages/statsmodels/discrete/discrete_model.py:227: PerfectSeparationWarning:\n",
      "\n",
      "Perfect separation or prediction detected, parameter may not be identified\n",
      "\n",
      "/opt/conda/lib/python3.11/site-packages/statsmodels/discrete/discrete_model.py:227: PerfectSeparationWarning:\n",
      "\n",
      "Perfect separation or prediction detected, parameter may not be identified\n",
      "\n",
      "/opt/conda/lib/python3.11/site-packages/statsmodels/discrete/discrete_model.py:227: PerfectSeparationWarning:\n",
      "\n",
      "Perfect separation or prediction detected, parameter may not be identified\n",
      "\n",
      "/opt/conda/lib/python3.11/site-packages/statsmodels/discrete/discrete_model.py:227: PerfectSeparationWarning:\n",
      "\n",
      "Perfect separation or prediction detected, parameter may not be identified\n",
      "\n",
      "/opt/conda/lib/python3.11/site-packages/statsmodels/discrete/discrete_model.py:227: PerfectSeparationWarning:\n",
      "\n",
      "Perfect separation or prediction detected, parameter may not be identified\n",
      "\n",
      "/opt/conda/lib/python3.11/site-packages/statsmodels/discrete/discrete_model.py:227: PerfectSeparationWarning:\n",
      "\n",
      "Perfect separation or prediction detected, parameter may not be identified\n",
      "\n",
      "/opt/conda/lib/python3.11/site-packages/statsmodels/discrete/discrete_model.py:227: PerfectSeparationWarning:\n",
      "\n",
      "Perfect separation or prediction detected, parameter may not be identified\n",
      "\n",
      "/opt/conda/lib/python3.11/site-packages/statsmodels/discrete/discrete_model.py:227: PerfectSeparationWarning:\n",
      "\n",
      "Perfect separation or prediction detected, parameter may not be identified\n",
      "\n",
      "/opt/conda/lib/python3.11/site-packages/statsmodels/discrete/discrete_model.py:227: PerfectSeparationWarning:\n",
      "\n",
      "Perfect separation or prediction detected, parameter may not be identified\n",
      "\n",
      "/opt/conda/lib/python3.11/site-packages/statsmodels/discrete/discrete_model.py:227: PerfectSeparationWarning:\n",
      "\n",
      "Perfect separation or prediction detected, parameter may not be identified\n",
      "\n",
      "/opt/conda/lib/python3.11/site-packages/statsmodels/discrete/discrete_model.py:227: PerfectSeparationWarning:\n",
      "\n",
      "Perfect separation or prediction detected, parameter may not be identified\n",
      "\n",
      "/opt/conda/lib/python3.11/site-packages/statsmodels/base/model.py:607: ConvergenceWarning:\n",
      "\n",
      "Maximum Likelihood optimization failed to converge. Check mle_retvals\n",
      "\n",
      "/opt/conda/lib/python3.11/site-packages/statsmodels/discrete/discrete_model.py:227: PerfectSeparationWarning:\n",
      "\n",
      "Perfect separation or prediction detected, parameter may not be identified\n",
      "\n",
      "/opt/conda/lib/python3.11/site-packages/statsmodels/discrete/discrete_model.py:227: PerfectSeparationWarning:\n",
      "\n",
      "Perfect separation or prediction detected, parameter may not be identified\n",
      "\n",
      "/opt/conda/lib/python3.11/site-packages/statsmodels/discrete/discrete_model.py:227: PerfectSeparationWarning:\n",
      "\n",
      "Perfect separation or prediction detected, parameter may not be identified\n",
      "\n",
      "/opt/conda/lib/python3.11/site-packages/statsmodels/discrete/discrete_model.py:227: PerfectSeparationWarning:\n",
      "\n",
      "Perfect separation or prediction detected, parameter may not be identified\n",
      "\n",
      "/opt/conda/lib/python3.11/site-packages/statsmodels/discrete/discrete_model.py:227: PerfectSeparationWarning:\n",
      "\n",
      "Perfect separation or prediction detected, parameter may not be identified\n",
      "\n",
      "/opt/conda/lib/python3.11/site-packages/statsmodels/discrete/discrete_model.py:227: PerfectSeparationWarning:\n",
      "\n",
      "Perfect separation or prediction detected, parameter may not be identified\n",
      "\n",
      "/opt/conda/lib/python3.11/site-packages/statsmodels/discrete/discrete_model.py:227: PerfectSeparationWarning:\n",
      "\n",
      "Perfect separation or prediction detected, parameter may not be identified\n",
      "\n",
      "/opt/conda/lib/python3.11/site-packages/statsmodels/discrete/discrete_model.py:227: PerfectSeparationWarning:\n",
      "\n",
      "Perfect separation or prediction detected, parameter may not be identified\n",
      "\n",
      "/opt/conda/lib/python3.11/site-packages/statsmodels/discrete/discrete_model.py:227: PerfectSeparationWarning:\n",
      "\n",
      "Perfect separation or prediction detected, parameter may not be identified\n",
      "\n",
      "/opt/conda/lib/python3.11/site-packages/statsmodels/discrete/discrete_model.py:227: PerfectSeparationWarning:\n",
      "\n",
      "Perfect separation or prediction detected, parameter may not be identified\n",
      "\n",
      "/opt/conda/lib/python3.11/site-packages/statsmodels/discrete/discrete_model.py:227: PerfectSeparationWarning:\n",
      "\n",
      "Perfect separation or prediction detected, parameter may not be identified\n",
      "\n",
      "/opt/conda/lib/python3.11/site-packages/statsmodels/discrete/discrete_model.py:227: PerfectSeparationWarning:\n",
      "\n",
      "Perfect separation or prediction detected, parameter may not be identified\n",
      "\n",
      "/opt/conda/lib/python3.11/site-packages/statsmodels/discrete/discrete_model.py:227: PerfectSeparationWarning:\n",
      "\n",
      "Perfect separation or prediction detected, parameter may not be identified\n",
      "\n",
      "/opt/conda/lib/python3.11/site-packages/statsmodels/discrete/discrete_model.py:227: PerfectSeparationWarning:\n",
      "\n",
      "Perfect separation or prediction detected, parameter may not be identified\n",
      "\n",
      "/opt/conda/lib/python3.11/site-packages/statsmodels/discrete/discrete_model.py:227: PerfectSeparationWarning:\n",
      "\n",
      "Perfect separation or prediction detected, parameter may not be identified\n",
      "\n",
      "/opt/conda/lib/python3.11/site-packages/statsmodels/discrete/discrete_model.py:227: PerfectSeparationWarning:\n",
      "\n",
      "Perfect separation or prediction detected, parameter may not be identified\n",
      "\n",
      "/opt/conda/lib/python3.11/site-packages/statsmodels/discrete/discrete_model.py:227: PerfectSeparationWarning:\n",
      "\n",
      "Perfect separation or prediction detected, parameter may not be identified\n",
      "\n",
      "/opt/conda/lib/python3.11/site-packages/statsmodels/discrete/discrete_model.py:227: PerfectSeparationWarning:\n",
      "\n",
      "Perfect separation or prediction detected, parameter may not be identified\n",
      "\n",
      "/opt/conda/lib/python3.11/site-packages/statsmodels/discrete/discrete_model.py:227: PerfectSeparationWarning:\n",
      "\n",
      "Perfect separation or prediction detected, parameter may not be identified\n",
      "\n",
      "/opt/conda/lib/python3.11/site-packages/statsmodels/discrete/discrete_model.py:227: PerfectSeparationWarning:\n",
      "\n",
      "Perfect separation or prediction detected, parameter may not be identified\n",
      "\n",
      "/opt/conda/lib/python3.11/site-packages/statsmodels/discrete/discrete_model.py:227: PerfectSeparationWarning:\n",
      "\n",
      "Perfect separation or prediction detected, parameter may not be identified\n",
      "\n",
      "/opt/conda/lib/python3.11/site-packages/statsmodels/base/model.py:595: HessianInversionWarning:\n",
      "\n",
      "Inverting hessian failed, no bse or cov_params available\n",
      "\n",
      "/opt/conda/lib/python3.11/site-packages/statsmodels/base/model.py:595: HessianInversionWarning:\n",
      "\n",
      "Inverting hessian failed, no bse or cov_params available\n",
      "\n",
      "/opt/conda/lib/python3.11/site-packages/statsmodels/discrete/discrete_model.py:4465: RuntimeWarning:\n",
      "\n",
      "divide by zero encountered in scalar divide\n",
      "\n"
     ]
    },
    {
     "data": {
      "text/html": [
       "<table class=\"simpletable\">\n",
       "<caption>Logit Regression Results</caption>\n",
       "<tr>\n",
       "  <th>Dep. Variable:</th>   <td>ELIGIBLE_consent[Yes]</td> <th>  No. Observations:  </th>   <td> 10220</td>   \n",
       "</tr>\n",
       "<tr>\n",
       "  <th>Model:</th>                   <td>Logit</td>         <th>  Df Residuals:      </th>   <td> 10216</td>   \n",
       "</tr>\n",
       "<tr>\n",
       "  <th>Method:</th>                   <td>MLE</td>          <th>  Df Model:          </th>   <td>     3</td>   \n",
       "</tr>\n",
       "<tr>\n",
       "  <th>Date:</th>              <td>Fri, 15 Nov 2024</td>    <th>  Pseudo R-squ.:     </th>   <td>   inf</td>   \n",
       "</tr>\n",
       "<tr>\n",
       "  <th>Time:</th>                  <td>02:54:14</td>        <th>  Log-Likelihood:    </th> <td>-0.00020249</td>\n",
       "</tr>\n",
       "<tr>\n",
       "  <th>converged:</th>               <td>False</td>         <th>  LL-Null:           </th>  <td>  0.0000</td>  \n",
       "</tr>\n",
       "<tr>\n",
       "  <th>Covariance Type:</th>       <td>nonrobust</td>       <th>  LLR p-value:       </th>   <td> 1.000</td>   \n",
       "</tr>\n",
       "</table>\n",
       "<table class=\"simpletable\">\n",
       "<tr>\n",
       "                 <td></td>                    <th>coef</th>     <th>std err</th>      <th>z</th>      <th>P>|z|</th>  <th>[0.025</th>    <th>0.975]</th>  \n",
       "</tr>\n",
       "<tr>\n",
       "  <th>Intercept</th>                       <td>   27.6432</td> <td>  583.943</td> <td>    0.047</td> <td> 0.962</td> <td>-1116.865</td> <td> 1172.151</td>\n",
       "</tr>\n",
       "<tr>\n",
       "  <th>DEMO_age</th>                        <td>   -0.1512</td> <td>    7.449</td> <td>   -0.020</td> <td> 0.984</td> <td>  -14.750</td> <td>   14.448</td>\n",
       "</tr>\n",
       "<tr>\n",
       "  <th>DEMO_gender_binary</th>              <td>   -0.1603</td> <td>  198.108</td> <td>   -0.001</td> <td> 0.999</td> <td> -388.445</td> <td>  388.125</td>\n",
       "</tr>\n",
       "<tr>\n",
       "  <th>DEMO_identity_indigenous_binary</th> <td>    0.2485</td> <td>  210.606</td> <td>    0.001</td> <td> 0.999</td> <td> -412.531</td> <td>  413.028</td>\n",
       "</tr>\n",
       "</table><br/><br/>Complete Separation: The results show that there iscomplete separation or perfect prediction.<br/>In this case the Maximum Likelihood Estimator does not exist and the parameters<br/>are not identified."
      ],
      "text/latex": [
       "\\begin{center}\n",
       "\\begin{tabular}{lclc}\n",
       "\\toprule\n",
       "\\textbf{Dep. Variable:}                     & ELIGIBLE\\_consent[Yes] & \\textbf{  No. Observations:  } &     10220    \\\\\n",
       "\\textbf{Model:}                             &         Logit          & \\textbf{  Df Residuals:      } &     10216    \\\\\n",
       "\\textbf{Method:}                            &          MLE           & \\textbf{  Df Model:          } &         3    \\\\\n",
       "\\textbf{Date:}                              &    Fri, 15 Nov 2024    & \\textbf{  Pseudo R-squ.:     } &       inf    \\\\\n",
       "\\textbf{Time:}                              &        02:54:14        & \\textbf{  Log-Likelihood:    } & -0.00020249  \\\\\n",
       "\\textbf{converged:}                         &         False          & \\textbf{  LL-Null:           } &     0.0000   \\\\\n",
       "\\textbf{Covariance Type:}                   &       nonrobust        & \\textbf{  LLR p-value:       } &     1.000    \\\\\n",
       "\\bottomrule\n",
       "\\end{tabular}\n",
       "\\begin{tabular}{lcccccc}\n",
       "                                            & \\textbf{coef} & \\textbf{std err} & \\textbf{z} & \\textbf{P$> |$z$|$} & \\textbf{[0.025} & \\textbf{0.975]}  \\\\\n",
       "\\midrule\n",
       "\\textbf{Intercept}                          &      27.6432  &      583.943     &     0.047  &         0.962        &    -1116.865    &     1172.151     \\\\\n",
       "\\textbf{DEMO\\_age}                          &      -0.1512  &        7.449     &    -0.020  &         0.984        &      -14.750    &       14.448     \\\\\n",
       "\\textbf{DEMO\\_gender\\_binary}               &      -0.1603  &      198.108     &    -0.001  &         0.999        &     -388.445    &      388.125     \\\\\n",
       "\\textbf{DEMO\\_identity\\_indigenous\\_binary} &       0.2485  &      210.606     &     0.001  &         0.999        &     -412.531    &      413.028     \\\\\n",
       "\\bottomrule\n",
       "\\end{tabular}\n",
       "%\\caption{Logit Regression Results}\n",
       "\\end{center}\n",
       "\n",
       "Complete Separation: The results show that there iscomplete separation or perfect prediction. \\newline\n",
       " In this case the Maximum Likelihood Estimator does not exist and the parameters \\newline\n",
       " are not identified."
      ],
      "text/plain": [
       "<class 'statsmodels.iolib.summary.Summary'>\n",
       "\"\"\"\n",
       "                             Logit Regression Results                            \n",
       "=================================================================================\n",
       "Dep. Variable:     ELIGIBLE_consent[Yes]   No. Observations:                10220\n",
       "Model:                             Logit   Df Residuals:                    10216\n",
       "Method:                              MLE   Df Model:                            3\n",
       "Date:                   Fri, 15 Nov 2024   Pseudo R-squ.:                     inf\n",
       "Time:                           02:54:14   Log-Likelihood:            -0.00020249\n",
       "converged:                         False   LL-Null:                        0.0000\n",
       "Covariance Type:               nonrobust   LLR p-value:                     1.000\n",
       "===================================================================================================\n",
       "                                      coef    std err          z      P>|z|      [0.025      0.975]\n",
       "---------------------------------------------------------------------------------------------------\n",
       "Intercept                          27.6432    583.943      0.047      0.962   -1116.865    1172.151\n",
       "DEMO_age                           -0.1512      7.449     -0.020      0.984     -14.750      14.448\n",
       "DEMO_gender_binary                 -0.1603    198.108     -0.001      0.999    -388.445     388.125\n",
       "DEMO_identity_indigenous_binary     0.2485    210.606      0.001      0.999    -412.531     413.028\n",
       "===================================================================================================\n",
       "\n",
       "Complete Separation: The results show that there iscomplete separation or perfect prediction.\n",
       "In this case the Maximum Likelihood Estimator does not exist and the parameters\n",
       "are not identified.\n",
       "\"\"\""
      ]
     },
     "execution_count": 123,
     "metadata": {},
     "output_type": "execute_result"
    }
   ],
   "source": [
    "import statsmodels.formula.api as smf\n",
    "\n",
    "# Define the logistic regression formula\n",
    "logistic_formula = 'ELIGIBLE_consent ~ DEMO_age + DEMO_gender_binary + DEMO_identity_indigenous_binary'\n",
    "\n",
    "# Fit the logistic regression model\n",
    "log_reg_model = smf.logit(logistic_formula, data=survey_data).fit()\n",
    "\n",
    "# View the summary of the model\n",
    "log_reg_model.summary()\n"
   ]
  },
  {
   "cell_type": "markdown",
   "id": "f4898c0b",
   "metadata": {},
   "source": [
    "## Step 4: Interpret the Results\n",
    "Once the model is fitted, we can interpret the coefficients. Since the outcome is binary (0 or 1), the coefficients represent the log-odds of the outcome occuring given the values of the predictors. \n",
    "- **Coefficients**: A positive coefficient means that as the predictor increases, the likelihood of the outcome (i.e., consent) increases, while a negative coefficient suggests the opposite.\n",
    "- **P-values**: Look at the p-values to assess the statistical significance of each predictor."
   ]
  },
  {
   "cell_type": "markdown",
   "id": "f6aa36af",
   "metadata": {},
   "source": [
    "## Step 5: Visualization"
   ]
  },
  {
   "cell_type": "code",
   "execution_count": 124,
   "id": "4ac04b79",
   "metadata": {
    "scrolled": false
   },
   "outputs": [
    {
     "data": {
      "image/png": "[encoded data removed]",
      "text/plain": [
       "<Figure size 800x600 with 1 Axes>"
      ]
     },
     "metadata": {},
     "output_type": "display_data"
    }
   ],
   "source": [
    "import matplotlib.pyplot as plt\n",
    "import numpy as np\n",
    "\n",
    "# Create a new dataset for prediction\n",
    "age_range = np.linspace(survey_data['DEMO_age'].min(), survey_data['DEMO_age'].max(), 100)\n",
    "pred_data = pd.DataFrame({'DEMO_age': age_range, 'DEMO_gender_binary': 0, 'DEMO_identity_indigenous_binary': 0})\n",
    "\n",
    "# Predict probabilities\n",
    "pred_data['predicted_prob'] = log_reg_model.predict(pred_data)\n",
    "\n",
    "# Plot\n",
    "plt.figure(figsize=(8, 6))\n",
    "plt.plot(age_range, pred_data['predicted_prob'], label=\"Predicted Probability of Consent\")\n",
    "plt.xlabel('Age')\n",
    "plt.ylabel('Predicted Probability of Consent')\n",
    "plt.title('Logistic Regression: Predicted Probability of Consent by Age')\n",
    "plt.legend()\n",
    "plt.show()\n"
   ]
  },
  {
   "cell_type": "markdown",
   "id": "850f9dd5",
   "metadata": {},
   "source": [
    "# ChatGPT Summary\n",
    "1. **Dataset Overview**: I am working on analyzing the Canadian Social Connection Survey (CSCS) dataset, which includes variables like age, gender, Indigenous identity, and psychological scores, to predict the binary outcome of **survey consent** (`ELIGIBLE_consent`).\n",
    "\n",
    "2. **Data Preparation**: I converted categorical variables (e.g., gender, Indigenous identity) into binary form and used **age** as a continuous predictor.\n",
    "\n",
    "3. **Logistic Regression**: I fitted a logistic regression model using **age**, **gender**, and **Indigenous identity** to predict consent. The model was interpreted through coefficients and p-values.\n",
    "\n",
    "4. **Visualization**: I created a plot to visualize the predicted probabilities of consent based on **age**.\n",
    "\n",
    "5. **Tools Used**: Pandas, Statsmodels (`smf.logit`), and Matplotlib for data manipulation, modeling, and visualization.\n",
    "\n",
    "6. **Conclusion**: The logistic regression model helped identify how demographic factors influence survey consent, with future steps including adding more predictors."
   ]
  },
  {
   "cell_type": "markdown",
   "id": "cc40ac0e",
   "metadata": {},
   "source": [
    "# 4\n",
    "## 1. R-squared: The Proportion of Explained Variability\n",
    "**R-squared** ($R^2$)is a metric that measures how well the model explains the variation in the dependent variable (outcome). It is calculated as: \n",
    "\n",
    "$$R^2 = 1 - \\frac{\\sum_{i=1}^n(y_i-\\hat y)^2}{\\sum_{i=1}^n(y_i-\\bar y)^2}$$\n",
    "\n",
    "Where:\n",
    "- $y_i$: the observed values\n",
    "- $\\hat y$: the predicted values from the model\n",
    "- $\\bar y$: the mean of the observbed values\n",
    "\n",
    "An **R-squared of 17.6%** means that only 17.6% of the variability in the outcome variable is explained by the predictors in the model. This is often interpreted as a relatively **low explanatory power** - the model doesn't account for most of the variation in the data. \n",
    "\n",
    "However, **R-squared** has limitations:\n",
    "- **R-squared** only measures the **linear relationship** between the predictors and the outcome\n",
    "- It can be influenced by the **number of predictors** in the model and may not always reflect the model's practical relevance or predictive power\n",
    "\n",
    "## 2. P-values: Evidence Against the Null Hypothesis\n",
    "**P-values** are used in hypothesis testing to determine whether there is a statistical evidence to reject the **null hypothesis** (usually assuming no effect). In this case, the coefficient's p-values are extremely small, indicating **strong evidence against the null hypothesis** of \"no effect\"\n",
    "\n",
    "## 3. Coefficients: Magnitude and Significance\n",
    "- **Coefficients** ($\\beta$) represent the **change in the outcome variable** for a one-unit change in the predictor, assuming all other predictors are held constant\n",
    "- For **categorical variables** (like Generation), the coefficient represents the **difference in the outcome** relative to a baseline category (e.g., \"Generation 1\")\n",
    "- **Large coefficients** with **strong evidence** (very small p-values) indicate that the predictors are significantly associated with the outcome, **after adjusting for other variables** in the model\n",
    "\n",
    "## 4. Addressing the Apparent Contradiction\n",
    "The apparent contradiction arises because **R-squared** and **p-values** (and their associated coefficients) measure different things:\n",
    "\n",
    "- **R-squared** reflects how much of the variability in the outcome is explained by the model. A low R-squared (like 17.6%) suggests that the model doesn't explain much of the variation in the outcome\n",
    "- **P-values** and **coefficients** assess the **statistical significance** of each predictor, regardless of how much variability is explained by the model. Even if a model explains only a small portion of the variability (low R-squared), some predictors might still have a **strong association** with the outcome, as indicated by their **large coefficients** and **small p-values**\n",
    "\n",
    "Thus, these results are not contradictory but rather reflect different aspects of the model:\n",
    "- **R-squared** tells how well the model fits the data as a whole\n",
    "- **P-values and coefficients** tell whether specific predictors are **statiscally significant** in influencing the outcome, regardless of the overall fit\n",
    "\n",
    "## 5. Interpreting Hypothesis Testing Results (p-values) and Model Fit (R-squared) Together\n",
    "They address different aspects of the model:\n",
    "- **R-squared** is about explaining the variation in the outcome\n",
    "- **p-values** (and coefficients) are about **testing whether a specific predictor is meaningful** in explaining the outcome\n",
    "\n",
    "A model can have **statistically significant predictors** (low p-values) with **low explanatory power** (low R-squared). This can occur when:\n",
    "- The predictors are **significant** but only have a **small effect** on the outcome\n",
    "- The model might **miss other important predictors**, which would explain the low R-squared\n",
    "\n",
    "## 6. Example of an Interpretation\n",
    "For the model formula HP ~ Q(\"Sp. Def\") * C(Generation), we are modeling the outcome HP with an interaction between a continuous variable (Sp. Def) and a categorical variable (Generation). \n",
    "\n",
    "- **Interaction term** (Q(\"Sp. Def\") * C(Generation)): the effect of Sp.Def on HP may vary by different Generation levels. If p-values for the interaction terms are very small, it means there's strong evidence that the effect of Sp. Def depends on the Generation\n",
    "- **Interpretation of large coefficients**: A large coefficient means that the effect of a variable (like Generation) on HP is substantial, but this doesn't necessarily mean that the model explains a large portion of the variance in HP. It may still be important to note that Generation or Sp. Def might influence HP significantly, even though the model only explains a small portion of the variation\n",
    "\n",
    "In sum, **R-squared** and **p-values** represent different types of information. They don't necessarily conflict but should be interpreted together to get a more comprehensive understanding of the model's fit and the significance of its predictors. "
   ]
  },
  {
   "cell_type": "markdown",
   "id": "ab2fccab",
   "metadata": {},
   "source": [
    "### **Summary of Interaction with ChatGPT:**\n",
    "\n",
    "As part of the data analysis for my assignment, I consulted with ChatGPT regarding the implementation of a logistic regression model to analyze relationships between certain variables in the Pokémon dataset.\n",
    "\n",
    "1. **Dataset and Model Setup:**\n",
    "   - I started with the Pokémon dataset, which contains various attributes like `HP`, `Sp. Def`, and `Generation`.\n",
    "   - The task was to analyze how the `Sp. Def` and `Generation` variables affect `HP`. Initially, I had issues with loading the dataset and specifying the correct model formula for interaction terms.\n",
    "\n",
    "2. **Code Troubleshooting:**\n",
    "   - The provided URL for the dataset was corrected to ensure proper loading.\n",
    "   - There was a clarification needed for specifying the interaction between the continuous variable `Sp. Def` and the categorical variable `Generation`. The correct formula for including this interaction term was explained.\n",
    "\n",
    "3. **Corrected Code:**\n",
    "   I received guidance to use the following code to load the dataset, fit the model, and display the results:\n",
    "   ```python\n",
    "   import pandas as pd\n",
    "   import statsmodels.formula.api as smf\n",
    "\n",
    "   # Load the dataset\n",
    "   url = \"https://raw.githubusercontent.com/KeithGalli/pandas/master/pokemon_data.csv\"\n",
    "   pokemon = pd.read_csv(url)\n",
    "\n",
    "   # Specify the model with interaction between Sp. Def and Generation\n",
    "   model_spec = smf.ols(formula='HP ~ Q(\"Sp. Def\") * C(Generation)', data=pokemon)\n",
    "\n",
    "   # Fit the model\n",
    "   model_fit = model_spec.fit()\n",
    "\n",
    "   # Display the summary of the model\n",
    "   print(model_fit.summary())\n",
    "   ```\n",
    "\n",
    "4. **Final Results:**\n",
    "   The code correctly fits an ordinary least squares (OLS) model that examines the interaction between `Sp. Def` (Special Defense) and `Generation` on `HP` (Hit Points). The output includes the regression coefficients, p-values, and R-squared value, which can be interpreted to understand the relationships between these variables.\n",
    "\n",
    "This interaction has been valuable in clarifying how to model and interpret the results of a regression with interaction terms."
   ]
  },
  {
   "cell_type": "markdown",
   "id": "df5cd064",
   "metadata": {},
   "source": [
    "# 5\n",
    "The five cells of code demonstrate the process of evaluating a regression model's generatlizability by comparing its \"in-sample\" and \"out-of-sample\" performance metrics, specifically through R-squared values. "
   ]
  },
  {
   "cell_type": "code",
   "execution_count": 125,
   "id": "c213b6c6",
   "metadata": {},
   "outputs": [
    {
     "data": {
      "text/html": [
       "<div>\n",
       "<style scoped>\n",
       "    .dataframe tbody tr th:only-of-type {\n",
       "        vertical-align: middle;\n",
       "    }\n",
       "\n",
       "    .dataframe tbody tr th {\n",
       "        vertical-align: top;\n",
       "    }\n",
       "\n",
       "    .dataframe thead th {\n",
       "        text-align: right;\n",
       "    }\n",
       "</style>\n",
       "<table border=\"1\" class=\"dataframe\">\n",
       "  <thead>\n",
       "    <tr style=\"text-align: right;\">\n",
       "      <th></th>\n",
       "      <th>#</th>\n",
       "      <th>Name</th>\n",
       "      <th>Type 1</th>\n",
       "      <th>Type 2</th>\n",
       "      <th>HP</th>\n",
       "      <th>Attack</th>\n",
       "      <th>Defense</th>\n",
       "      <th>Sp. Atk</th>\n",
       "      <th>Sp. Def</th>\n",
       "      <th>Speed</th>\n",
       "      <th>Generation</th>\n",
       "      <th>Legendary</th>\n",
       "    </tr>\n",
       "  </thead>\n",
       "  <tbody>\n",
       "    <tr>\n",
       "      <th>0</th>\n",
       "      <td>1</td>\n",
       "      <td>Bulbasaur</td>\n",
       "      <td>Grass</td>\n",
       "      <td>Poison</td>\n",
       "      <td>45</td>\n",
       "      <td>49</td>\n",
       "      <td>49</td>\n",
       "      <td>65</td>\n",
       "      <td>65</td>\n",
       "      <td>45</td>\n",
       "      <td>1</td>\n",
       "      <td>False</td>\n",
       "    </tr>\n",
       "    <tr>\n",
       "      <th>1</th>\n",
       "      <td>2</td>\n",
       "      <td>Ivysaur</td>\n",
       "      <td>Grass</td>\n",
       "      <td>Poison</td>\n",
       "      <td>60</td>\n",
       "      <td>62</td>\n",
       "      <td>63</td>\n",
       "      <td>80</td>\n",
       "      <td>80</td>\n",
       "      <td>60</td>\n",
       "      <td>1</td>\n",
       "      <td>False</td>\n",
       "    </tr>\n",
       "    <tr>\n",
       "      <th>2</th>\n",
       "      <td>3</td>\n",
       "      <td>Venusaur</td>\n",
       "      <td>Grass</td>\n",
       "      <td>Poison</td>\n",
       "      <td>80</td>\n",
       "      <td>82</td>\n",
       "      <td>83</td>\n",
       "      <td>100</td>\n",
       "      <td>100</td>\n",
       "      <td>80</td>\n",
       "      <td>1</td>\n",
       "      <td>False</td>\n",
       "    </tr>\n",
       "    <tr>\n",
       "      <th>3</th>\n",
       "      <td>3</td>\n",
       "      <td>VenusaurMega Venusaur</td>\n",
       "      <td>Grass</td>\n",
       "      <td>Poison</td>\n",
       "      <td>80</td>\n",
       "      <td>100</td>\n",
       "      <td>123</td>\n",
       "      <td>122</td>\n",
       "      <td>120</td>\n",
       "      <td>80</td>\n",
       "      <td>1</td>\n",
       "      <td>False</td>\n",
       "    </tr>\n",
       "    <tr>\n",
       "      <th>4</th>\n",
       "      <td>4</td>\n",
       "      <td>Charmander</td>\n",
       "      <td>Fire</td>\n",
       "      <td>NaN</td>\n",
       "      <td>39</td>\n",
       "      <td>52</td>\n",
       "      <td>43</td>\n",
       "      <td>60</td>\n",
       "      <td>50</td>\n",
       "      <td>65</td>\n",
       "      <td>1</td>\n",
       "      <td>False</td>\n",
       "    </tr>\n",
       "    <tr>\n",
       "      <th>...</th>\n",
       "      <td>...</td>\n",
       "      <td>...</td>\n",
       "      <td>...</td>\n",
       "      <td>...</td>\n",
       "      <td>...</td>\n",
       "      <td>...</td>\n",
       "      <td>...</td>\n",
       "      <td>...</td>\n",
       "      <td>...</td>\n",
       "      <td>...</td>\n",
       "      <td>...</td>\n",
       "      <td>...</td>\n",
       "    </tr>\n",
       "    <tr>\n",
       "      <th>795</th>\n",
       "      <td>719</td>\n",
       "      <td>Diancie</td>\n",
       "      <td>Rock</td>\n",
       "      <td>Fairy</td>\n",
       "      <td>50</td>\n",
       "      <td>100</td>\n",
       "      <td>150</td>\n",
       "      <td>100</td>\n",
       "      <td>150</td>\n",
       "      <td>50</td>\n",
       "      <td>6</td>\n",
       "      <td>True</td>\n",
       "    </tr>\n",
       "    <tr>\n",
       "      <th>796</th>\n",
       "      <td>719</td>\n",
       "      <td>DiancieMega Diancie</td>\n",
       "      <td>Rock</td>\n",
       "      <td>Fairy</td>\n",
       "      <td>50</td>\n",
       "      <td>160</td>\n",
       "      <td>110</td>\n",
       "      <td>160</td>\n",
       "      <td>110</td>\n",
       "      <td>110</td>\n",
       "      <td>6</td>\n",
       "      <td>True</td>\n",
       "    </tr>\n",
       "    <tr>\n",
       "      <th>797</th>\n",
       "      <td>720</td>\n",
       "      <td>HoopaHoopa Confined</td>\n",
       "      <td>Psychic</td>\n",
       "      <td>Ghost</td>\n",
       "      <td>80</td>\n",
       "      <td>110</td>\n",
       "      <td>60</td>\n",
       "      <td>150</td>\n",
       "      <td>130</td>\n",
       "      <td>70</td>\n",
       "      <td>6</td>\n",
       "      <td>True</td>\n",
       "    </tr>\n",
       "    <tr>\n",
       "      <th>798</th>\n",
       "      <td>720</td>\n",
       "      <td>HoopaHoopa Unbound</td>\n",
       "      <td>Psychic</td>\n",
       "      <td>Dark</td>\n",
       "      <td>80</td>\n",
       "      <td>160</td>\n",
       "      <td>60</td>\n",
       "      <td>170</td>\n",
       "      <td>130</td>\n",
       "      <td>80</td>\n",
       "      <td>6</td>\n",
       "      <td>True</td>\n",
       "    </tr>\n",
       "    <tr>\n",
       "      <th>799</th>\n",
       "      <td>721</td>\n",
       "      <td>Volcanion</td>\n",
       "      <td>Fire</td>\n",
       "      <td>Water</td>\n",
       "      <td>80</td>\n",
       "      <td>110</td>\n",
       "      <td>120</td>\n",
       "      <td>130</td>\n",
       "      <td>90</td>\n",
       "      <td>70</td>\n",
       "      <td>6</td>\n",
       "      <td>True</td>\n",
       "    </tr>\n",
       "  </tbody>\n",
       "</table>\n",
       "<p>800 rows × 12 columns</p>\n",
       "</div>"
      ],
      "text/plain": [
       "       #                   Name   Type 1  Type 2  HP  Attack  Defense  \\\n",
       "0      1              Bulbasaur    Grass  Poison  45      49       49   \n",
       "1      2                Ivysaur    Grass  Poison  60      62       63   \n",
       "2      3               Venusaur    Grass  Poison  80      82       83   \n",
       "3      3  VenusaurMega Venusaur    Grass  Poison  80     100      123   \n",
       "4      4             Charmander     Fire     NaN  39      52       43   \n",
       "..   ...                    ...      ...     ...  ..     ...      ...   \n",
       "795  719                Diancie     Rock   Fairy  50     100      150   \n",
       "796  719    DiancieMega Diancie     Rock   Fairy  50     160      110   \n",
       "797  720    HoopaHoopa Confined  Psychic   Ghost  80     110       60   \n",
       "798  720     HoopaHoopa Unbound  Psychic    Dark  80     160       60   \n",
       "799  721              Volcanion     Fire   Water  80     110      120   \n",
       "\n",
       "     Sp. Atk  Sp. Def  Speed  Generation  Legendary  \n",
       "0         65       65     45           1      False  \n",
       "1         80       80     60           1      False  \n",
       "2        100      100     80           1      False  \n",
       "3        122      120     80           1      False  \n",
       "4         60       50     65           1      False  \n",
       "..       ...      ...    ...         ...        ...  \n",
       "795      100      150     50           6       True  \n",
       "796      160      110    110           6       True  \n",
       "797      150      130     70           6       True  \n",
       "798      170      130     80           6       True  \n",
       "799      130       90     70           6       True  \n",
       "\n",
       "[800 rows x 12 columns]"
      ]
     },
     "execution_count": 125,
     "metadata": {},
     "output_type": "execute_result"
    }
   ],
   "source": [
    "import pandas as pd\n",
    "\n",
    "url = \"https://raw.githubusercontent.com/KeithGalli/pandas/master/pokemon_data.csv\"\n",
    "# fail https://github.com/KeithGalli/pandas/blob/master/pokemon_data.csv\n",
    "pokeaman = pd.read_csv(url) \n",
    "pokeaman"
   ]
  },
  {
   "cell_type": "code",
   "execution_count": 126,
   "id": "6fd51ff3",
   "metadata": {},
   "outputs": [
    {
     "data": {
      "text/html": [
       "<table class=\"simpletable\">\n",
       "<caption>OLS Regression Results</caption>\n",
       "<tr>\n",
       "  <th>Dep. Variable:</th>           <td>HP</td>        <th>  R-squared:         </th> <td>   0.176</td>\n",
       "</tr>\n",
       "<tr>\n",
       "  <th>Model:</th>                   <td>OLS</td>       <th>  Adj. R-squared:    </th> <td>   0.164</td>\n",
       "</tr>\n",
       "<tr>\n",
       "  <th>Method:</th>             <td>Least Squares</td>  <th>  F-statistic:       </th> <td>   15.27</td>\n",
       "</tr>\n",
       "<tr>\n",
       "  <th>Date:</th>             <td>Fri, 15 Nov 2024</td> <th>  Prob (F-statistic):</th> <td>3.50e-27</td>\n",
       "</tr>\n",
       "<tr>\n",
       "  <th>Time:</th>                 <td>02:54:15</td>     <th>  Log-Likelihood:    </th> <td> -3649.4</td>\n",
       "</tr>\n",
       "<tr>\n",
       "  <th>No. Observations:</th>      <td>   800</td>      <th>  AIC:               </th> <td>   7323.</td>\n",
       "</tr>\n",
       "<tr>\n",
       "  <th>Df Residuals:</th>          <td>   788</td>      <th>  BIC:               </th> <td>   7379.</td>\n",
       "</tr>\n",
       "<tr>\n",
       "  <th>Df Model:</th>              <td>    11</td>      <th>                     </th>     <td> </td>   \n",
       "</tr>\n",
       "<tr>\n",
       "  <th>Covariance Type:</th>      <td>nonrobust</td>    <th>                     </th>     <td> </td>   \n",
       "</tr>\n",
       "</table>\n",
       "<table class=\"simpletable\">\n",
       "<tr>\n",
       "                 <td></td>                    <th>coef</th>     <th>std err</th>      <th>t</th>      <th>P>|t|</th>  <th>[0.025</th>    <th>0.975]</th>  \n",
       "</tr>\n",
       "<tr>\n",
       "  <th>Intercept</th>                       <td>   26.8971</td> <td>    5.246</td> <td>    5.127</td> <td> 0.000</td> <td>   16.599</td> <td>   37.195</td>\n",
       "</tr>\n",
       "<tr>\n",
       "  <th>C(Generation)[T.2]</th>              <td>   20.0449</td> <td>    7.821</td> <td>    2.563</td> <td> 0.011</td> <td>    4.692</td> <td>   35.398</td>\n",
       "</tr>\n",
       "<tr>\n",
       "  <th>C(Generation)[T.3]</th>              <td>   21.3662</td> <td>    6.998</td> <td>    3.053</td> <td> 0.002</td> <td>    7.629</td> <td>   35.103</td>\n",
       "</tr>\n",
       "<tr>\n",
       "  <th>C(Generation)[T.4]</th>              <td>   31.9575</td> <td>    8.235</td> <td>    3.881</td> <td> 0.000</td> <td>   15.793</td> <td>   48.122</td>\n",
       "</tr>\n",
       "<tr>\n",
       "  <th>C(Generation)[T.5]</th>              <td>    9.4926</td> <td>    7.883</td> <td>    1.204</td> <td> 0.229</td> <td>   -5.982</td> <td>   24.968</td>\n",
       "</tr>\n",
       "<tr>\n",
       "  <th>C(Generation)[T.6]</th>              <td>   22.2693</td> <td>    8.709</td> <td>    2.557</td> <td> 0.011</td> <td>    5.173</td> <td>   39.366</td>\n",
       "</tr>\n",
       "<tr>\n",
       "  <th>Q(\"Sp. Def\")</th>                    <td>    0.5634</td> <td>    0.071</td> <td>    7.906</td> <td> 0.000</td> <td>    0.423</td> <td>    0.703</td>\n",
       "</tr>\n",
       "<tr>\n",
       "  <th>Q(\"Sp. Def\"):C(Generation)[T.2]</th> <td>   -0.2350</td> <td>    0.101</td> <td>   -2.316</td> <td> 0.021</td> <td>   -0.434</td> <td>   -0.036</td>\n",
       "</tr>\n",
       "<tr>\n",
       "  <th>Q(\"Sp. Def\"):C(Generation)[T.3]</th> <td>   -0.3067</td> <td>    0.093</td> <td>   -3.300</td> <td> 0.001</td> <td>   -0.489</td> <td>   -0.124</td>\n",
       "</tr>\n",
       "<tr>\n",
       "  <th>Q(\"Sp. Def\"):C(Generation)[T.4]</th> <td>   -0.3790</td> <td>    0.105</td> <td>   -3.600</td> <td> 0.000</td> <td>   -0.586</td> <td>   -0.172</td>\n",
       "</tr>\n",
       "<tr>\n",
       "  <th>Q(\"Sp. Def\"):C(Generation)[T.5]</th> <td>   -0.0484</td> <td>    0.108</td> <td>   -0.447</td> <td> 0.655</td> <td>   -0.261</td> <td>    0.164</td>\n",
       "</tr>\n",
       "<tr>\n",
       "  <th>Q(\"Sp. Def\"):C(Generation)[T.6]</th> <td>   -0.3083</td> <td>    0.112</td> <td>   -2.756</td> <td> 0.006</td> <td>   -0.528</td> <td>   -0.089</td>\n",
       "</tr>\n",
       "</table>\n",
       "<table class=\"simpletable\">\n",
       "<tr>\n",
       "  <th>Omnibus:</th>       <td>337.229</td> <th>  Durbin-Watson:     </th> <td>   1.505</td>\n",
       "</tr>\n",
       "<tr>\n",
       "  <th>Prob(Omnibus):</th> <td> 0.000</td>  <th>  Jarque-Bera (JB):  </th> <td>2871.522</td>\n",
       "</tr>\n",
       "<tr>\n",
       "  <th>Skew:</th>          <td> 1.684</td>  <th>  Prob(JB):          </th> <td>    0.00</td>\n",
       "</tr>\n",
       "<tr>\n",
       "  <th>Kurtosis:</th>      <td>11.649</td>  <th>  Cond. No.          </th> <td>1.40e+03</td>\n",
       "</tr>\n",
       "</table><br/><br/>Notes:<br/>[1] Standard Errors assume that the covariance matrix of the errors is correctly specified.<br/>[2] The condition number is large, 1.4e+03. This might indicate that there are<br/>strong multicollinearity or other numerical problems."
      ],
      "text/latex": [
       "\\begin{center}\n",
       "\\begin{tabular}{lclc}\n",
       "\\toprule\n",
       "\\textbf{Dep. Variable:}                  &        HP        & \\textbf{  R-squared:         } &     0.176   \\\\\n",
       "\\textbf{Model:}                          &       OLS        & \\textbf{  Adj. R-squared:    } &     0.164   \\\\\n",
       "\\textbf{Method:}                         &  Least Squares   & \\textbf{  F-statistic:       } &     15.27   \\\\\n",
       "\\textbf{Date:}                           & Fri, 15 Nov 2024 & \\textbf{  Prob (F-statistic):} &  3.50e-27   \\\\\n",
       "\\textbf{Time:}                           &     02:54:15     & \\textbf{  Log-Likelihood:    } &   -3649.4   \\\\\n",
       "\\textbf{No. Observations:}               &         800      & \\textbf{  AIC:               } &     7323.   \\\\\n",
       "\\textbf{Df Residuals:}                   &         788      & \\textbf{  BIC:               } &     7379.   \\\\\n",
       "\\textbf{Df Model:}                       &          11      & \\textbf{                     } &             \\\\\n",
       "\\textbf{Covariance Type:}                &    nonrobust     & \\textbf{                     } &             \\\\\n",
       "\\bottomrule\n",
       "\\end{tabular}\n",
       "\\begin{tabular}{lcccccc}\n",
       "                                         & \\textbf{coef} & \\textbf{std err} & \\textbf{t} & \\textbf{P$> |$t$|$} & \\textbf{[0.025} & \\textbf{0.975]}  \\\\\n",
       "\\midrule\n",
       "\\textbf{Intercept}                       &      26.8971  &        5.246     &     5.127  &         0.000        &       16.599    &       37.195     \\\\\n",
       "\\textbf{C(Generation)[T.2]}              &      20.0449  &        7.821     &     2.563  &         0.011        &        4.692    &       35.398     \\\\\n",
       "\\textbf{C(Generation)[T.3]}              &      21.3662  &        6.998     &     3.053  &         0.002        &        7.629    &       35.103     \\\\\n",
       "\\textbf{C(Generation)[T.4]}              &      31.9575  &        8.235     &     3.881  &         0.000        &       15.793    &       48.122     \\\\\n",
       "\\textbf{C(Generation)[T.5]}              &       9.4926  &        7.883     &     1.204  &         0.229        &       -5.982    &       24.968     \\\\\n",
       "\\textbf{C(Generation)[T.6]}              &      22.2693  &        8.709     &     2.557  &         0.011        &        5.173    &       39.366     \\\\\n",
       "\\textbf{Q(\"Sp. Def\")}                    &       0.5634  &        0.071     &     7.906  &         0.000        &        0.423    &        0.703     \\\\\n",
       "\\textbf{Q(\"Sp. Def\"):C(Generation)[T.2]} &      -0.2350  &        0.101     &    -2.316  &         0.021        &       -0.434    &       -0.036     \\\\\n",
       "\\textbf{Q(\"Sp. Def\"):C(Generation)[T.3]} &      -0.3067  &        0.093     &    -3.300  &         0.001        &       -0.489    &       -0.124     \\\\\n",
       "\\textbf{Q(\"Sp. Def\"):C(Generation)[T.4]} &      -0.3790  &        0.105     &    -3.600  &         0.000        &       -0.586    &       -0.172     \\\\\n",
       "\\textbf{Q(\"Sp. Def\"):C(Generation)[T.5]} &      -0.0484  &        0.108     &    -0.447  &         0.655        &       -0.261    &        0.164     \\\\\n",
       "\\textbf{Q(\"Sp. Def\"):C(Generation)[T.6]} &      -0.3083  &        0.112     &    -2.756  &         0.006        &       -0.528    &       -0.089     \\\\\n",
       "\\bottomrule\n",
       "\\end{tabular}\n",
       "\\begin{tabular}{lclc}\n",
       "\\textbf{Omnibus:}       & 337.229 & \\textbf{  Durbin-Watson:     } &    1.505  \\\\\n",
       "\\textbf{Prob(Omnibus):} &   0.000 & \\textbf{  Jarque-Bera (JB):  } & 2871.522  \\\\\n",
       "\\textbf{Skew:}          &   1.684 & \\textbf{  Prob(JB):          } &     0.00  \\\\\n",
       "\\textbf{Kurtosis:}      &  11.649 & \\textbf{  Cond. No.          } & 1.40e+03  \\\\\n",
       "\\bottomrule\n",
       "\\end{tabular}\n",
       "%\\caption{OLS Regression Results}\n",
       "\\end{center}\n",
       "\n",
       "Notes: \\newline\n",
       " [1] Standard Errors assume that the covariance matrix of the errors is correctly specified. \\newline\n",
       " [2] The condition number is large, 1.4e+03. This might indicate that there are \\newline\n",
       " strong multicollinearity or other numerical problems."
      ],
      "text/plain": [
       "<class 'statsmodels.iolib.summary.Summary'>\n",
       "\"\"\"\n",
       "                            OLS Regression Results                            \n",
       "==============================================================================\n",
       "Dep. Variable:                     HP   R-squared:                       0.176\n",
       "Model:                            OLS   Adj. R-squared:                  0.164\n",
       "Method:                 Least Squares   F-statistic:                     15.27\n",
       "Date:                Fri, 15 Nov 2024   Prob (F-statistic):           3.50e-27\n",
       "Time:                        02:54:15   Log-Likelihood:                -3649.4\n",
       "No. Observations:                 800   AIC:                             7323.\n",
       "Df Residuals:                     788   BIC:                             7379.\n",
       "Df Model:                          11                                         \n",
       "Covariance Type:            nonrobust                                         \n",
       "===================================================================================================\n",
       "                                      coef    std err          t      P>|t|      [0.025      0.975]\n",
       "---------------------------------------------------------------------------------------------------\n",
       "Intercept                          26.8971      5.246      5.127      0.000      16.599      37.195\n",
       "C(Generation)[T.2]                 20.0449      7.821      2.563      0.011       4.692      35.398\n",
       "C(Generation)[T.3]                 21.3662      6.998      3.053      0.002       7.629      35.103\n",
       "C(Generation)[T.4]                 31.9575      8.235      3.881      0.000      15.793      48.122\n",
       "C(Generation)[T.5]                  9.4926      7.883      1.204      0.229      -5.982      24.968\n",
       "C(Generation)[T.6]                 22.2693      8.709      2.557      0.011       5.173      39.366\n",
       "Q(\"Sp. Def\")                        0.5634      0.071      7.906      0.000       0.423       0.703\n",
       "Q(\"Sp. Def\"):C(Generation)[T.2]    -0.2350      0.101     -2.316      0.021      -0.434      -0.036\n",
       "Q(\"Sp. Def\"):C(Generation)[T.3]    -0.3067      0.093     -3.300      0.001      -0.489      -0.124\n",
       "Q(\"Sp. Def\"):C(Generation)[T.4]    -0.3790      0.105     -3.600      0.000      -0.586      -0.172\n",
       "Q(\"Sp. Def\"):C(Generation)[T.5]    -0.0484      0.108     -0.447      0.655      -0.261       0.164\n",
       "Q(\"Sp. Def\"):C(Generation)[T.6]    -0.3083      0.112     -2.756      0.006      -0.528      -0.089\n",
       "==============================================================================\n",
       "Omnibus:                      337.229   Durbin-Watson:                   1.505\n",
       "Prob(Omnibus):                  0.000   Jarque-Bera (JB):             2871.522\n",
       "Skew:                           1.684   Prob(JB):                         0.00\n",
       "Kurtosis:                      11.649   Cond. No.                     1.40e+03\n",
       "==============================================================================\n",
       "\n",
       "Notes:\n",
       "[1] Standard Errors assume that the covariance matrix of the errors is correctly specified.\n",
       "[2] The condition number is large, 1.4e+03. This might indicate that there are\n",
       "strong multicollinearity or other numerical problems.\n",
       "\"\"\""
      ]
     },
     "execution_count": 126,
     "metadata": {},
     "output_type": "execute_result"
    }
   ],
   "source": [
    "import statsmodels.formula.api as smf\n",
    "\n",
    "model1_spec = smf.ols(formula='HP ~ Q(\"Sp. Def\") + C(Generation)', data=pokeaman)\n",
    "model2_spec = smf.ols(formula='HP ~ Q(\"Sp. Def\") + C(Generation) + Q(\"Sp. Def\"):C(Generation)', data=pokeaman)\n",
    "model2_spec = smf.ols(formula='HP ~ Q(\"Sp. Def\") * C(Generation)', data=pokeaman)\n",
    "\n",
    "model2_fit = model2_spec.fit()\n",
    "model2_fit.summary()"
   ]
  },
  {
   "cell_type": "markdown",
   "id": "cb486386",
   "metadata": {},
   "source": [
    "## First Code: "
   ]
  },
  {
   "cell_type": "code",
   "execution_count": 127,
   "id": "566524b1",
   "metadata": {},
   "outputs": [
    {
     "data": {
      "text/html": [
       "<div>\n",
       "<style scoped>\n",
       "    .dataframe tbody tr th:only-of-type {\n",
       "        vertical-align: middle;\n",
       "    }\n",
       "\n",
       "    .dataframe tbody tr th {\n",
       "        vertical-align: top;\n",
       "    }\n",
       "\n",
       "    .dataframe thead th {\n",
       "        text-align: right;\n",
       "    }\n",
       "</style>\n",
       "<table border=\"1\" class=\"dataframe\">\n",
       "  <thead>\n",
       "    <tr style=\"text-align: right;\">\n",
       "      <th></th>\n",
       "      <th>#</th>\n",
       "      <th>Name</th>\n",
       "      <th>Type 1</th>\n",
       "      <th>Type 2</th>\n",
       "      <th>HP</th>\n",
       "      <th>Attack</th>\n",
       "      <th>Defense</th>\n",
       "      <th>Sp. Atk</th>\n",
       "      <th>Sp. Def</th>\n",
       "      <th>Speed</th>\n",
       "      <th>Generation</th>\n",
       "      <th>Legendary</th>\n",
       "    </tr>\n",
       "  </thead>\n",
       "  <tbody>\n",
       "    <tr>\n",
       "      <th>370</th>\n",
       "      <td>338</td>\n",
       "      <td>Solrock</td>\n",
       "      <td>Rock</td>\n",
       "      <td>Psychic</td>\n",
       "      <td>70</td>\n",
       "      <td>95</td>\n",
       "      <td>85</td>\n",
       "      <td>55</td>\n",
       "      <td>65</td>\n",
       "      <td>70</td>\n",
       "      <td>3</td>\n",
       "      <td>False</td>\n",
       "    </tr>\n",
       "    <tr>\n",
       "      <th>6</th>\n",
       "      <td>6</td>\n",
       "      <td>Charizard</td>\n",
       "      <td>Fire</td>\n",
       "      <td>Flying</td>\n",
       "      <td>78</td>\n",
       "      <td>84</td>\n",
       "      <td>78</td>\n",
       "      <td>109</td>\n",
       "      <td>85</td>\n",
       "      <td>100</td>\n",
       "      <td>1</td>\n",
       "      <td>False</td>\n",
       "    </tr>\n",
       "    <tr>\n",
       "      <th>242</th>\n",
       "      <td>224</td>\n",
       "      <td>Octillery</td>\n",
       "      <td>Water</td>\n",
       "      <td>None</td>\n",
       "      <td>75</td>\n",
       "      <td>105</td>\n",
       "      <td>75</td>\n",
       "      <td>105</td>\n",
       "      <td>75</td>\n",
       "      <td>45</td>\n",
       "      <td>2</td>\n",
       "      <td>False</td>\n",
       "    </tr>\n",
       "    <tr>\n",
       "      <th>661</th>\n",
       "      <td>600</td>\n",
       "      <td>Klang</td>\n",
       "      <td>Steel</td>\n",
       "      <td>None</td>\n",
       "      <td>60</td>\n",
       "      <td>80</td>\n",
       "      <td>95</td>\n",
       "      <td>70</td>\n",
       "      <td>85</td>\n",
       "      <td>50</td>\n",
       "      <td>5</td>\n",
       "      <td>False</td>\n",
       "    </tr>\n",
       "    <tr>\n",
       "      <th>288</th>\n",
       "      <td>265</td>\n",
       "      <td>Wurmple</td>\n",
       "      <td>Bug</td>\n",
       "      <td>None</td>\n",
       "      <td>45</td>\n",
       "      <td>45</td>\n",
       "      <td>35</td>\n",
       "      <td>20</td>\n",
       "      <td>30</td>\n",
       "      <td>20</td>\n",
       "      <td>3</td>\n",
       "      <td>False</td>\n",
       "    </tr>\n",
       "    <tr>\n",
       "      <th>...</th>\n",
       "      <td>...</td>\n",
       "      <td>...</td>\n",
       "      <td>...</td>\n",
       "      <td>...</td>\n",
       "      <td>...</td>\n",
       "      <td>...</td>\n",
       "      <td>...</td>\n",
       "      <td>...</td>\n",
       "      <td>...</td>\n",
       "      <td>...</td>\n",
       "      <td>...</td>\n",
       "      <td>...</td>\n",
       "    </tr>\n",
       "    <tr>\n",
       "      <th>522</th>\n",
       "      <td>471</td>\n",
       "      <td>Glaceon</td>\n",
       "      <td>Ice</td>\n",
       "      <td>None</td>\n",
       "      <td>65</td>\n",
       "      <td>60</td>\n",
       "      <td>110</td>\n",
       "      <td>130</td>\n",
       "      <td>95</td>\n",
       "      <td>65</td>\n",
       "      <td>4</td>\n",
       "      <td>False</td>\n",
       "    </tr>\n",
       "    <tr>\n",
       "      <th>243</th>\n",
       "      <td>225</td>\n",
       "      <td>Delibird</td>\n",
       "      <td>Ice</td>\n",
       "      <td>Flying</td>\n",
       "      <td>45</td>\n",
       "      <td>55</td>\n",
       "      <td>45</td>\n",
       "      <td>65</td>\n",
       "      <td>45</td>\n",
       "      <td>75</td>\n",
       "      <td>2</td>\n",
       "      <td>False</td>\n",
       "    </tr>\n",
       "    <tr>\n",
       "      <th>797</th>\n",
       "      <td>720</td>\n",
       "      <td>HoopaHoopa Confined</td>\n",
       "      <td>Psychic</td>\n",
       "      <td>Ghost</td>\n",
       "      <td>80</td>\n",
       "      <td>110</td>\n",
       "      <td>60</td>\n",
       "      <td>150</td>\n",
       "      <td>130</td>\n",
       "      <td>70</td>\n",
       "      <td>6</td>\n",
       "      <td>True</td>\n",
       "    </tr>\n",
       "    <tr>\n",
       "      <th>117</th>\n",
       "      <td>109</td>\n",
       "      <td>Koffing</td>\n",
       "      <td>Poison</td>\n",
       "      <td>None</td>\n",
       "      <td>40</td>\n",
       "      <td>65</td>\n",
       "      <td>95</td>\n",
       "      <td>60</td>\n",
       "      <td>45</td>\n",
       "      <td>35</td>\n",
       "      <td>1</td>\n",
       "      <td>False</td>\n",
       "    </tr>\n",
       "    <tr>\n",
       "      <th>409</th>\n",
       "      <td>373</td>\n",
       "      <td>SalamenceMega Salamence</td>\n",
       "      <td>Dragon</td>\n",
       "      <td>Flying</td>\n",
       "      <td>95</td>\n",
       "      <td>145</td>\n",
       "      <td>130</td>\n",
       "      <td>120</td>\n",
       "      <td>90</td>\n",
       "      <td>120</td>\n",
       "      <td>3</td>\n",
       "      <td>False</td>\n",
       "    </tr>\n",
       "  </tbody>\n",
       "</table>\n",
       "<p>400 rows × 12 columns</p>\n",
       "</div>"
      ],
      "text/plain": [
       "       #                     Name   Type 1   Type 2  HP  Attack  Defense  \\\n",
       "370  338                  Solrock     Rock  Psychic  70      95       85   \n",
       "6      6                Charizard     Fire   Flying  78      84       78   \n",
       "242  224                Octillery    Water     None  75     105       75   \n",
       "661  600                    Klang    Steel     None  60      80       95   \n",
       "288  265                  Wurmple      Bug     None  45      45       35   \n",
       "..   ...                      ...      ...      ...  ..     ...      ...   \n",
       "522  471                  Glaceon      Ice     None  65      60      110   \n",
       "243  225                 Delibird      Ice   Flying  45      55       45   \n",
       "797  720      HoopaHoopa Confined  Psychic    Ghost  80     110       60   \n",
       "117  109                  Koffing   Poison     None  40      65       95   \n",
       "409  373  SalamenceMega Salamence   Dragon   Flying  95     145      130   \n",
       "\n",
       "     Sp. Atk  Sp. Def  Speed  Generation  Legendary  \n",
       "370       55       65     70           3      False  \n",
       "6        109       85    100           1      False  \n",
       "242      105       75     45           2      False  \n",
       "661       70       85     50           5      False  \n",
       "288       20       30     20           3      False  \n",
       "..       ...      ...    ...         ...        ...  \n",
       "522      130       95     65           4      False  \n",
       "243       65       45     75           2      False  \n",
       "797      150      130     70           6       True  \n",
       "117       60       45     35           1      False  \n",
       "409      120       90    120           3      False  \n",
       "\n",
       "[400 rows x 12 columns]"
      ]
     },
     "execution_count": 127,
     "metadata": {},
     "output_type": "execute_result"
    }
   ],
   "source": [
    "import numpy as np\n",
    "from sklearn.model_selection import train_test_split\n",
    "\n",
    "fifty_fifty_split_size = int(pokeaman.shape[0]*0.5)\n",
    "\n",
    "# Replace \"NaN\" (in the \"Type 2\" column with \"None\")\n",
    "pokeaman.fillna('None', inplace=True)\n",
    "\n",
    "np.random.seed(130)\n",
    "pokeaman_train,pokeaman_test = \\\n",
    "  train_test_split(pokeaman, train_size=fifty_fifty_split_size)\n",
    "pokeaman_train"
   ]
  },
  {
   "cell_type": "markdown",
   "id": "681c2b1c",
   "metadata": {},
   "source": [
    "## Code Explanation:\n",
    "#### 1. Data Splitting and Preprocessing:\n",
    "- The first code cell splits the pokemon dataset into two subsets: a training set (pokeaman_train) and a test set (pokeaman_test). The data is split in a 50-50 ratio, with a seed for reproducibility.\n",
    "- It also address any missing values in the \"Type 2\" column by filling them with \"None\"."
   ]
  },
  {
   "cell_type": "markdown",
   "id": "962381a1",
   "metadata": {},
   "source": [
    "## Second Code:"
   ]
  },
  {
   "cell_type": "code",
   "execution_count": 128,
   "id": "78487eb2",
   "metadata": {},
   "outputs": [
    {
     "name": "stdout",
     "output_type": "stream",
     "text": [
      "Optimization terminated successfully.\n",
      "         Current function value: 0.228109\n",
      "         Iterations 8\n"
     ]
    },
    {
     "data": {
      "text/html": [
       "<table class=\"simpletable\">\n",
       "<caption>Logit Regression Results</caption>\n",
       "<tr>\n",
       "  <th>Dep. Variable:</th>       <td>str8fyre</td>     <th>  No. Observations:  </th>  <td>   800</td> \n",
       "</tr>\n",
       "<tr>\n",
       "  <th>Model:</th>                 <td>Logit</td>      <th>  Df Residuals:      </th>  <td>   788</td> \n",
       "</tr>\n",
       "<tr>\n",
       "  <th>Method:</th>                 <td>MLE</td>       <th>  Df Model:          </th>  <td>    11</td> \n",
       "</tr>\n",
       "<tr>\n",
       "  <th>Date:</th>            <td>Fri, 15 Nov 2024</td> <th>  Pseudo R-squ.:     </th>  <td>0.05156</td>\n",
       "</tr>\n",
       "<tr>\n",
       "  <th>Time:</th>                <td>02:54:15</td>     <th>  Log-Likelihood:    </th> <td> -182.49</td>\n",
       "</tr>\n",
       "<tr>\n",
       "  <th>converged:</th>             <td>True</td>       <th>  LL-Null:           </th> <td> -192.41</td>\n",
       "</tr>\n",
       "<tr>\n",
       "  <th>Covariance Type:</th>     <td>nonrobust</td>    <th>  LLR p-value:       </th>  <td>0.04757</td>\n",
       "</tr>\n",
       "</table>\n",
       "<table class=\"simpletable\">\n",
       "<tr>\n",
       "                      <td></td>                        <th>coef</th>     <th>std err</th>      <th>z</th>      <th>P>|z|</th>  <th>[0.025</th>    <th>0.975]</th>  \n",
       "</tr>\n",
       "<tr>\n",
       "  <th>Intercept</th>                                <td>   -3.2644</td> <td>    0.714</td> <td>   -4.572</td> <td> 0.000</td> <td>   -4.664</td> <td>   -1.865</td>\n",
       "</tr>\n",
       "<tr>\n",
       "  <th>Legendary[T.True]</th>                        <td>    4.3478</td> <td>    2.179</td> <td>    1.996</td> <td> 0.046</td> <td>    0.078</td> <td>    8.618</td>\n",
       "</tr>\n",
       "<tr>\n",
       "  <th>I(Q(\"Type 2\") == \"None\")[T.True]</th>         <td>    1.5432</td> <td>    0.853</td> <td>    1.810</td> <td> 0.070</td> <td>   -0.128</td> <td>    3.215</td>\n",
       "</tr>\n",
       "<tr>\n",
       "  <th>C(Generation)[T.2]</th>                       <td>   -0.0574</td> <td>    0.468</td> <td>   -0.123</td> <td> 0.902</td> <td>   -0.975</td> <td>    0.861</td>\n",
       "</tr>\n",
       "<tr>\n",
       "  <th>C(Generation)[T.3]</th>                       <td>   -0.6480</td> <td>    0.466</td> <td>   -1.390</td> <td> 0.164</td> <td>   -1.561</td> <td>    0.265</td>\n",
       "</tr>\n",
       "<tr>\n",
       "  <th>C(Generation)[T.4]</th>                       <td>   -0.8255</td> <td>    0.545</td> <td>   -1.516</td> <td> 0.130</td> <td>   -1.893</td> <td>    0.242</td>\n",
       "</tr>\n",
       "<tr>\n",
       "  <th>C(Generation)[T.5]</th>                       <td>   -0.5375</td> <td>    0.449</td> <td>   -1.198</td> <td> 0.231</td> <td>   -1.417</td> <td>    0.342</td>\n",
       "</tr>\n",
       "<tr>\n",
       "  <th>C(Generation)[T.6]</th>                       <td>    0.3213</td> <td>    0.477</td> <td>    0.673</td> <td> 0.501</td> <td>   -0.614</td> <td>    1.257</td>\n",
       "</tr>\n",
       "<tr>\n",
       "  <th>Attack</th>                                   <td>    0.0172</td> <td>    0.006</td> <td>    3.086</td> <td> 0.002</td> <td>    0.006</td> <td>    0.028</td>\n",
       "</tr>\n",
       "<tr>\n",
       "  <th>Attack:Legendary[T.True]</th>                 <td>   -0.0365</td> <td>    0.019</td> <td>   -1.884</td> <td> 0.060</td> <td>   -0.074</td> <td>    0.001</td>\n",
       "</tr>\n",
       "<tr>\n",
       "  <th>Defense</th>                                  <td>   -0.0098</td> <td>    0.008</td> <td>   -1.247</td> <td> 0.213</td> <td>   -0.025</td> <td>    0.006</td>\n",
       "</tr>\n",
       "<tr>\n",
       "  <th>Defense:I(Q(\"Type 2\") == \"None\")[T.True]</th> <td>   -0.0197</td> <td>    0.012</td> <td>   -1.651</td> <td> 0.099</td> <td>   -0.043</td> <td>    0.004</td>\n",
       "</tr>\n",
       "</table>"
      ],
      "text/latex": [
       "\\begin{center}\n",
       "\\begin{tabular}{lclc}\n",
       "\\toprule\n",
       "\\textbf{Dep. Variable:}                           &     str8fyre     & \\textbf{  No. Observations:  } &      800    \\\\\n",
       "\\textbf{Model:}                                   &      Logit       & \\textbf{  Df Residuals:      } &      788    \\\\\n",
       "\\textbf{Method:}                                  &       MLE        & \\textbf{  Df Model:          } &       11    \\\\\n",
       "\\textbf{Date:}                                    & Fri, 15 Nov 2024 & \\textbf{  Pseudo R-squ.:     } &  0.05156    \\\\\n",
       "\\textbf{Time:}                                    &     02:54:15     & \\textbf{  Log-Likelihood:    } &   -182.49   \\\\\n",
       "\\textbf{converged:}                               &       True       & \\textbf{  LL-Null:           } &   -192.41   \\\\\n",
       "\\textbf{Covariance Type:}                         &    nonrobust     & \\textbf{  LLR p-value:       } &  0.04757    \\\\\n",
       "\\bottomrule\n",
       "\\end{tabular}\n",
       "\\begin{tabular}{lcccccc}\n",
       "                                                  & \\textbf{coef} & \\textbf{std err} & \\textbf{z} & \\textbf{P$> |$z$|$} & \\textbf{[0.025} & \\textbf{0.975]}  \\\\\n",
       "\\midrule\n",
       "\\textbf{Intercept}                                &      -3.2644  &        0.714     &    -4.572  &         0.000        &       -4.664    &       -1.865     \\\\\n",
       "\\textbf{Legendary[T.True]}                        &       4.3478  &        2.179     &     1.996  &         0.046        &        0.078    &        8.618     \\\\\n",
       "\\textbf{I(Q(\"Type 2\") == \"None\")[T.True]}         &       1.5432  &        0.853     &     1.810  &         0.070        &       -0.128    &        3.215     \\\\\n",
       "\\textbf{C(Generation)[T.2]}                       &      -0.0574  &        0.468     &    -0.123  &         0.902        &       -0.975    &        0.861     \\\\\n",
       "\\textbf{C(Generation)[T.3]}                       &      -0.6480  &        0.466     &    -1.390  &         0.164        &       -1.561    &        0.265     \\\\\n",
       "\\textbf{C(Generation)[T.4]}                       &      -0.8255  &        0.545     &    -1.516  &         0.130        &       -1.893    &        0.242     \\\\\n",
       "\\textbf{C(Generation)[T.5]}                       &      -0.5375  &        0.449     &    -1.198  &         0.231        &       -1.417    &        0.342     \\\\\n",
       "\\textbf{C(Generation)[T.6]}                       &       0.3213  &        0.477     &     0.673  &         0.501        &       -0.614    &        1.257     \\\\\n",
       "\\textbf{Attack}                                   &       0.0172  &        0.006     &     3.086  &         0.002        &        0.006    &        0.028     \\\\\n",
       "\\textbf{Attack:Legendary[T.True]}                 &      -0.0365  &        0.019     &    -1.884  &         0.060        &       -0.074    &        0.001     \\\\\n",
       "\\textbf{Defense}                                  &      -0.0098  &        0.008     &    -1.247  &         0.213        &       -0.025    &        0.006     \\\\\n",
       "\\textbf{Defense:I(Q(\"Type 2\") == \"None\")[T.True]} &      -0.0197  &        0.012     &    -1.651  &         0.099        &       -0.043    &        0.004     \\\\\n",
       "\\bottomrule\n",
       "\\end{tabular}\n",
       "%\\caption{Logit Regression Results}\n",
       "\\end{center}"
      ],
      "text/plain": [
       "<class 'statsmodels.iolib.summary.Summary'>\n",
       "\"\"\"\n",
       "                           Logit Regression Results                           \n",
       "==============================================================================\n",
       "Dep. Variable:               str8fyre   No. Observations:                  800\n",
       "Model:                          Logit   Df Residuals:                      788\n",
       "Method:                           MLE   Df Model:                           11\n",
       "Date:                Fri, 15 Nov 2024   Pseudo R-squ.:                 0.05156\n",
       "Time:                        02:54:15   Log-Likelihood:                -182.49\n",
       "converged:                       True   LL-Null:                       -192.41\n",
       "Covariance Type:            nonrobust   LLR p-value:                   0.04757\n",
       "============================================================================================================\n",
       "                                               coef    std err          z      P>|z|      [0.025      0.975]\n",
       "------------------------------------------------------------------------------------------------------------\n",
       "Intercept                                   -3.2644      0.714     -4.572      0.000      -4.664      -1.865\n",
       "Legendary[T.True]                            4.3478      2.179      1.996      0.046       0.078       8.618\n",
       "I(Q(\"Type 2\") == \"None\")[T.True]             1.5432      0.853      1.810      0.070      -0.128       3.215\n",
       "C(Generation)[T.2]                          -0.0574      0.468     -0.123      0.902      -0.975       0.861\n",
       "C(Generation)[T.3]                          -0.6480      0.466     -1.390      0.164      -1.561       0.265\n",
       "C(Generation)[T.4]                          -0.8255      0.545     -1.516      0.130      -1.893       0.242\n",
       "C(Generation)[T.5]                          -0.5375      0.449     -1.198      0.231      -1.417       0.342\n",
       "C(Generation)[T.6]                           0.3213      0.477      0.673      0.501      -0.614       1.257\n",
       "Attack                                       0.0172      0.006      3.086      0.002       0.006       0.028\n",
       "Attack:Legendary[T.True]                    -0.0365      0.019     -1.884      0.060      -0.074       0.001\n",
       "Defense                                     -0.0098      0.008     -1.247      0.213      -0.025       0.006\n",
       "Defense:I(Q(\"Type 2\") == \"None\")[T.True]    -0.0197      0.012     -1.651      0.099      -0.043       0.004\n",
       "============================================================================================================\n",
       "\"\"\""
      ]
     },
     "execution_count": 128,
     "metadata": {},
     "output_type": "execute_result"
    }
   ],
   "source": [
    "import pandas as pd\n",
    "import statsmodels.formula.api as smf\n",
    "\n",
    "url = \"https://raw.githubusercontent.com/KeithGalli/pandas/master/pokemon_data.csv\"\n",
    "pokeaman = pd.read_csv(url).fillna('None')\n",
    "\n",
    "pokeaman['str8fyre'] = (pokeaman['Type 1']=='Fire').astype(int)\n",
    "linear_model_specification_formula = \\\n",
    "'str8fyre ~ Attack*Legendary + Defense*I(Q(\"Type 2\")==\"None\") + C(Generation)'\n",
    "log_reg_fit = smf.logit(linear_model_specification_formula, data=pokeaman).fit()\n",
    "log_reg_fit.summary()"
   ]
  },
  {
   "cell_type": "markdown",
   "id": "bcd375c3",
   "metadata": {},
   "source": [
    "## Code Explanation:\n",
    "#### 2. Fitting a Basic Model on the Training Set:\n",
    "- In the second code cell, an OLS (ordinary least squares) regression model (model3_fit) is specified and fit using the Attack and Defense variables to predict HP.\n",
    "- By using only the training data, this model provides an \"in-sample\" understanding of the relationship between Attack, Defense, and HP."
   ]
  },
  {
   "cell_type": "markdown",
   "id": "5ca34551",
   "metadata": {},
   "source": [
    "##  Third Code:\n",
    "(Had to add more codes to make sure that the third code given was not generating the NameError)"
   ]
  },
  {
   "cell_type": "code",
   "execution_count": 129,
   "id": "9ce9496a",
   "metadata": {
    "scrolled": true
   },
   "outputs": [
    {
     "data": {
      "text/html": [
       "<table class=\"simpletable\">\n",
       "<caption>OLS Regression Results</caption>\n",
       "<tr>\n",
       "  <th>Dep. Variable:</th>           <td>HP</td>        <th>  R-squared:         </th> <td>   0.148</td>\n",
       "</tr>\n",
       "<tr>\n",
       "  <th>Model:</th>                   <td>OLS</td>       <th>  Adj. R-squared:    </th> <td>   0.143</td>\n",
       "</tr>\n",
       "<tr>\n",
       "  <th>Method:</th>             <td>Least Squares</td>  <th>  F-statistic:       </th> <td>   34.40</td>\n",
       "</tr>\n",
       "<tr>\n",
       "  <th>Date:</th>             <td>Fri, 15 Nov 2024</td> <th>  Prob (F-statistic):</th> <td>1.66e-14</td>\n",
       "</tr>\n",
       "<tr>\n",
       "  <th>Time:</th>                 <td>02:54:16</td>     <th>  Log-Likelihood:    </th> <td> -1832.6</td>\n",
       "</tr>\n",
       "<tr>\n",
       "  <th>No. Observations:</th>      <td>   400</td>      <th>  AIC:               </th> <td>   3671.</td>\n",
       "</tr>\n",
       "<tr>\n",
       "  <th>Df Residuals:</th>          <td>   397</td>      <th>  BIC:               </th> <td>   3683.</td>\n",
       "</tr>\n",
       "<tr>\n",
       "  <th>Df Model:</th>              <td>     2</td>      <th>                     </th>     <td> </td>   \n",
       "</tr>\n",
       "<tr>\n",
       "  <th>Covariance Type:</th>      <td>nonrobust</td>    <th>                     </th>     <td> </td>   \n",
       "</tr>\n",
       "</table>\n",
       "<table class=\"simpletable\">\n",
       "<tr>\n",
       "      <td></td>         <th>coef</th>     <th>std err</th>      <th>t</th>      <th>P>|t|</th>  <th>[0.025</th>    <th>0.975]</th>  \n",
       "</tr>\n",
       "<tr>\n",
       "  <th>Intercept</th> <td>   42.5882</td> <td>    3.580</td> <td>   11.897</td> <td> 0.000</td> <td>   35.551</td> <td>   49.626</td>\n",
       "</tr>\n",
       "<tr>\n",
       "  <th>Attack</th>    <td>    0.2472</td> <td>    0.041</td> <td>    6.051</td> <td> 0.000</td> <td>    0.167</td> <td>    0.327</td>\n",
       "</tr>\n",
       "<tr>\n",
       "  <th>Defense</th>   <td>    0.1001</td> <td>    0.045</td> <td>    2.201</td> <td> 0.028</td> <td>    0.011</td> <td>    0.190</td>\n",
       "</tr>\n",
       "</table>\n",
       "<table class=\"simpletable\">\n",
       "<tr>\n",
       "  <th>Omnibus:</th>       <td>284.299</td> <th>  Durbin-Watson:     </th> <td>   2.006</td>\n",
       "</tr>\n",
       "<tr>\n",
       "  <th>Prob(Omnibus):</th> <td> 0.000</td>  <th>  Jarque-Bera (JB):  </th> <td>5870.841</td>\n",
       "</tr>\n",
       "<tr>\n",
       "  <th>Skew:</th>          <td> 2.720</td>  <th>  Prob(JB):          </th> <td>    0.00</td>\n",
       "</tr>\n",
       "<tr>\n",
       "  <th>Kurtosis:</th>      <td>20.963</td>  <th>  Cond. No.          </th> <td>    343.</td>\n",
       "</tr>\n",
       "</table><br/><br/>Notes:<br/>[1] Standard Errors assume that the covariance matrix of the errors is correctly specified."
      ],
      "text/latex": [
       "\\begin{center}\n",
       "\\begin{tabular}{lclc}\n",
       "\\toprule\n",
       "\\textbf{Dep. Variable:}    &        HP        & \\textbf{  R-squared:         } &     0.148   \\\\\n",
       "\\textbf{Model:}            &       OLS        & \\textbf{  Adj. R-squared:    } &     0.143   \\\\\n",
       "\\textbf{Method:}           &  Least Squares   & \\textbf{  F-statistic:       } &     34.40   \\\\\n",
       "\\textbf{Date:}             & Fri, 15 Nov 2024 & \\textbf{  Prob (F-statistic):} &  1.66e-14   \\\\\n",
       "\\textbf{Time:}             &     02:54:16     & \\textbf{  Log-Likelihood:    } &   -1832.6   \\\\\n",
       "\\textbf{No. Observations:} &         400      & \\textbf{  AIC:               } &     3671.   \\\\\n",
       "\\textbf{Df Residuals:}     &         397      & \\textbf{  BIC:               } &     3683.   \\\\\n",
       "\\textbf{Df Model:}         &           2      & \\textbf{                     } &             \\\\\n",
       "\\textbf{Covariance Type:}  &    nonrobust     & \\textbf{                     } &             \\\\\n",
       "\\bottomrule\n",
       "\\end{tabular}\n",
       "\\begin{tabular}{lcccccc}\n",
       "                   & \\textbf{coef} & \\textbf{std err} & \\textbf{t} & \\textbf{P$> |$t$|$} & \\textbf{[0.025} & \\textbf{0.975]}  \\\\\n",
       "\\midrule\n",
       "\\textbf{Intercept} &      42.5882  &        3.580     &    11.897  &         0.000        &       35.551    &       49.626     \\\\\n",
       "\\textbf{Attack}    &       0.2472  &        0.041     &     6.051  &         0.000        &        0.167    &        0.327     \\\\\n",
       "\\textbf{Defense}   &       0.1001  &        0.045     &     2.201  &         0.028        &        0.011    &        0.190     \\\\\n",
       "\\bottomrule\n",
       "\\end{tabular}\n",
       "\\begin{tabular}{lclc}\n",
       "\\textbf{Omnibus:}       & 284.299 & \\textbf{  Durbin-Watson:     } &    2.006  \\\\\n",
       "\\textbf{Prob(Omnibus):} &   0.000 & \\textbf{  Jarque-Bera (JB):  } & 5870.841  \\\\\n",
       "\\textbf{Skew:}          &   2.720 & \\textbf{  Prob(JB):          } &     0.00  \\\\\n",
       "\\textbf{Kurtosis:}      &  20.963 & \\textbf{  Cond. No.          } &     343.  \\\\\n",
       "\\bottomrule\n",
       "\\end{tabular}\n",
       "%\\caption{OLS Regression Results}\n",
       "\\end{center}\n",
       "\n",
       "Notes: \\newline\n",
       " [1] Standard Errors assume that the covariance matrix of the errors is correctly specified."
      ],
      "text/plain": [
       "<class 'statsmodels.iolib.summary.Summary'>\n",
       "\"\"\"\n",
       "                            OLS Regression Results                            \n",
       "==============================================================================\n",
       "Dep. Variable:                     HP   R-squared:                       0.148\n",
       "Model:                            OLS   Adj. R-squared:                  0.143\n",
       "Method:                 Least Squares   F-statistic:                     34.40\n",
       "Date:                Fri, 15 Nov 2024   Prob (F-statistic):           1.66e-14\n",
       "Time:                        02:54:16   Log-Likelihood:                -1832.6\n",
       "No. Observations:                 400   AIC:                             3671.\n",
       "Df Residuals:                     397   BIC:                             3683.\n",
       "Df Model:                           2                                         \n",
       "Covariance Type:            nonrobust                                         \n",
       "==============================================================================\n",
       "                 coef    std err          t      P>|t|      [0.025      0.975]\n",
       "------------------------------------------------------------------------------\n",
       "Intercept     42.5882      3.580     11.897      0.000      35.551      49.626\n",
       "Attack         0.2472      0.041      6.051      0.000       0.167       0.327\n",
       "Defense        0.1001      0.045      2.201      0.028       0.011       0.190\n",
       "==============================================================================\n",
       "Omnibus:                      284.299   Durbin-Watson:                   2.006\n",
       "Prob(Omnibus):                  0.000   Jarque-Bera (JB):             5870.841\n",
       "Skew:                           2.720   Prob(JB):                         0.00\n",
       "Kurtosis:                      20.963   Cond. No.                         343.\n",
       "==============================================================================\n",
       "\n",
       "Notes:\n",
       "[1] Standard Errors assume that the covariance matrix of the errors is correctly specified.\n",
       "\"\"\""
      ]
     },
     "execution_count": 129,
     "metadata": {},
     "output_type": "execute_result"
    }
   ],
   "source": [
    "model_spec3 = smf.ols(formula='HP ~ Attack + Defense', data=pokeaman_train)\n",
    "model3_fit = model_spec3.fit()\n",
    "model3_fit.summary()\n"
   ]
  },
  {
   "cell_type": "code",
   "execution_count": 130,
   "id": "a5a2c531",
   "metadata": {},
   "outputs": [
    {
     "name": "stdout",
     "output_type": "stream",
     "text": [
      "'In sample' R-squared:     0.14771558304519894\n",
      "'Out of sample' R-squared: 0.21208501873920738\n"
     ]
    }
   ],
   "source": [
    "yhat_model3 = model3_fit.predict(pokeaman_test)\n",
    "y = pokeaman_test.HP\n",
    "print(\"'In sample' R-squared:    \", model3_fit.rsquared)\n",
    "print(\"'Out of sample' R-squared:\", np.corrcoef(y, yhat_model3)[0, 1] ** 2)\n"
   ]
  },
  {
   "cell_type": "code",
   "execution_count": 131,
   "id": "c0bca3ee",
   "metadata": {},
   "outputs": [
    {
     "name": "stdout",
     "output_type": "stream",
     "text": [
      "'In sample' R-squared:     0.14771558304519894\n",
      "'Out of sample' R-squared: 0.21208501873920738\n"
     ]
    }
   ],
   "source": [
    "yhat_model3 = model3_fit.predict(pokeaman_test)\n",
    "y = pokeaman_test.HP\n",
    "print(\"'In sample' R-squared:    \", model3_fit.rsquared)\n",
    "print(\"'Out of sample' R-squared:\", np.corrcoef(y,yhat_model3)[0,1]**2)"
   ]
  },
  {
   "cell_type": "markdown",
   "id": "37deae33",
   "metadata": {},
   "source": [
    "## Code Explanation:\n",
    "#### 3. Evaluating \"In-Sample\" and \"Out-of-Sample\" R-squared:\n",
    "- The third code cell calculates the R-squared values for both \"in-sample\" and \"out-of-sample\" predictions.\n",
    "- The \"in-sample\" R-squared value (model3_fit.rsquared) measures how well the model fits the training data.\n",
    "- The \"out-of-sample\" R-squared is calculated as the sqaured correlation between the true HP values in the test set (y) and the model's predicted values (yhat_model3) for the test set. A lower \"out-of-sample\" R-squared relative to the \"in-sample\" R-squared indicates a lack of generalizability, suggesting overfitting in the difference is large."
   ]
  },
  {
   "cell_type": "markdown",
   "id": "6c23d3b5",
   "metadata": {},
   "source": [
    "## Fourth Code:"
   ]
  },
  {
   "cell_type": "code",
   "execution_count": 132,
   "id": "6b2e1581",
   "metadata": {},
   "outputs": [
    {
     "data": {
      "text/html": [
       "<table class=\"simpletable\">\n",
       "<caption>OLS Regression Results</caption>\n",
       "<tr>\n",
       "  <th>Dep. Variable:</th>           <td>HP</td>        <th>  R-squared:         </th> <td>   0.467</td>\n",
       "</tr>\n",
       "<tr>\n",
       "  <th>Model:</th>                   <td>OLS</td>       <th>  Adj. R-squared:    </th> <td>   0.369</td>\n",
       "</tr>\n",
       "<tr>\n",
       "  <th>Method:</th>             <td>Least Squares</td>  <th>  F-statistic:       </th> <td>   4.764</td>\n",
       "</tr>\n",
       "<tr>\n",
       "  <th>Date:</th>             <td>Fri, 15 Nov 2024</td> <th>  Prob (F-statistic):</th> <td>4.23e-21</td>\n",
       "</tr>\n",
       "<tr>\n",
       "  <th>Time:</th>                 <td>02:54:17</td>     <th>  Log-Likelihood:    </th> <td> -1738.6</td>\n",
       "</tr>\n",
       "<tr>\n",
       "  <th>No. Observations:</th>      <td>   400</td>      <th>  AIC:               </th> <td>   3603.</td>\n",
       "</tr>\n",
       "<tr>\n",
       "  <th>Df Residuals:</th>          <td>   337</td>      <th>  BIC:               </th> <td>   3855.</td>\n",
       "</tr>\n",
       "<tr>\n",
       "  <th>Df Model:</th>              <td>    62</td>      <th>                     </th>     <td> </td>   \n",
       "</tr>\n",
       "<tr>\n",
       "  <th>Covariance Type:</th>      <td>nonrobust</td>    <th>                     </th>     <td> </td>   \n",
       "</tr>\n",
       "</table>\n",
       "<table class=\"simpletable\">\n",
       "<tr>\n",
       "                                  <td></td>                                    <th>coef</th>     <th>std err</th>      <th>t</th>      <th>P>|t|</th>  <th>[0.025</th>    <th>0.975]</th>  \n",
       "</tr>\n",
       "<tr>\n",
       "  <th>Intercept</th>                                                        <td>  521.5715</td> <td>  130.273</td> <td>    4.004</td> <td> 0.000</td> <td>  265.322</td> <td>  777.821</td>\n",
       "</tr>\n",
       "<tr>\n",
       "  <th>Legendary[T.True]</th>                                                <td>   -6.1179</td> <td>    2.846</td> <td>   -2.150</td> <td> 0.032</td> <td>  -11.716</td> <td>   -0.520</td>\n",
       "</tr>\n",
       "<tr>\n",
       "  <th>Attack</th>                                                           <td>   -8.1938</td> <td>    2.329</td> <td>   -3.518</td> <td> 0.000</td> <td>  -12.775</td> <td>   -3.612</td>\n",
       "</tr>\n",
       "<tr>\n",
       "  <th>Attack:Legendary[T.True]</th>                                         <td>-1224.9610</td> <td>  545.105</td> <td>   -2.247</td> <td> 0.025</td> <td>-2297.199</td> <td> -152.723</td>\n",
       "</tr>\n",
       "<tr>\n",
       "  <th>Defense</th>                                                          <td>   -6.1989</td> <td>    2.174</td> <td>   -2.851</td> <td> 0.005</td> <td>  -10.475</td> <td>   -1.923</td>\n",
       "</tr>\n",
       "<tr>\n",
       "  <th>Defense:Legendary[T.True]</th>                                        <td> -102.4030</td> <td>   96.565</td> <td>   -1.060</td> <td> 0.290</td> <td> -292.350</td> <td>   87.544</td>\n",
       "</tr>\n",
       "<tr>\n",
       "  <th>Attack:Defense</th>                                                   <td>    0.0985</td> <td>    0.033</td> <td>    2.982</td> <td> 0.003</td> <td>    0.034</td> <td>    0.164</td>\n",
       "</tr>\n",
       "<tr>\n",
       "  <th>Attack:Defense:Legendary[T.True]</th>                                 <td>   14.6361</td> <td>    6.267</td> <td>    2.336</td> <td> 0.020</td> <td>    2.310</td> <td>   26.963</td>\n",
       "</tr>\n",
       "<tr>\n",
       "  <th>Speed</th>                                                            <td>   -7.2261</td> <td>    2.178</td> <td>   -3.318</td> <td> 0.001</td> <td>  -11.511</td> <td>   -2.942</td>\n",
       "</tr>\n",
       "<tr>\n",
       "  <th>Speed:Legendary[T.True]</th>                                          <td>  704.8798</td> <td>  337.855</td> <td>    2.086</td> <td> 0.038</td> <td>   40.309</td> <td> 1369.450</td>\n",
       "</tr>\n",
       "<tr>\n",
       "  <th>Attack:Speed</th>                                                     <td>    0.1264</td> <td>    0.038</td> <td>    3.351</td> <td> 0.001</td> <td>    0.052</td> <td>    0.201</td>\n",
       "</tr>\n",
       "<tr>\n",
       "  <th>Attack:Speed:Legendary[T.True]</th>                                   <td>    5.8648</td> <td>    2.692</td> <td>    2.179</td> <td> 0.030</td> <td>    0.570</td> <td>   11.160</td>\n",
       "</tr>\n",
       "<tr>\n",
       "  <th>Defense:Speed</th>                                                    <td>    0.1026</td> <td>    0.039</td> <td>    2.634</td> <td> 0.009</td> <td>    0.026</td> <td>    0.179</td>\n",
       "</tr>\n",
       "<tr>\n",
       "  <th>Defense:Speed:Legendary[T.True]</th>                                  <td>   -6.9266</td> <td>    3.465</td> <td>   -1.999</td> <td> 0.046</td> <td>  -13.742</td> <td>   -0.111</td>\n",
       "</tr>\n",
       "<tr>\n",
       "  <th>Attack:Defense:Speed</th>                                             <td>   -0.0016</td> <td>    0.001</td> <td>   -2.837</td> <td> 0.005</td> <td>   -0.003</td> <td>   -0.001</td>\n",
       "</tr>\n",
       "<tr>\n",
       "  <th>Attack:Defense:Speed:Legendary[T.True]</th>                           <td>   -0.0743</td> <td>    0.030</td> <td>   -2.477</td> <td> 0.014</td> <td>   -0.133</td> <td>   -0.015</td>\n",
       "</tr>\n",
       "<tr>\n",
       "  <th>Q(\"Sp. Def\")</th>                                                     <td>   -5.3982</td> <td>    1.938</td> <td>   -2.785</td> <td> 0.006</td> <td>   -9.211</td> <td>   -1.586</td>\n",
       "</tr>\n",
       "<tr>\n",
       "  <th>Legendary[T.True]:Q(\"Sp. Def\")</th>                                   <td> -282.2496</td> <td>  126.835</td> <td>   -2.225</td> <td> 0.027</td> <td> -531.738</td> <td>  -32.761</td>\n",
       "</tr>\n",
       "<tr>\n",
       "  <th>Attack:Q(\"Sp. Def\")</th>                                              <td>    0.1094</td> <td>    0.034</td> <td>    3.233</td> <td> 0.001</td> <td>    0.043</td> <td>    0.176</td>\n",
       "</tr>\n",
       "<tr>\n",
       "  <th>Attack:Legendary[T.True]:Q(\"Sp. Def\")</th>                            <td>   12.6503</td> <td>    5.851</td> <td>    2.162</td> <td> 0.031</td> <td>    1.141</td> <td>   24.160</td>\n",
       "</tr>\n",
       "<tr>\n",
       "  <th>Defense:Q(\"Sp. Def\")</th>                                             <td>    0.0628</td> <td>    0.028</td> <td>    2.247</td> <td> 0.025</td> <td>    0.008</td> <td>    0.118</td>\n",
       "</tr>\n",
       "<tr>\n",
       "  <th>Defense:Legendary[T.True]:Q(\"Sp. Def\")</th>                           <td>    3.3949</td> <td>    1.783</td> <td>    1.904</td> <td> 0.058</td> <td>   -0.112</td> <td>    6.902</td>\n",
       "</tr>\n",
       "<tr>\n",
       "  <th>Attack:Defense:Q(\"Sp. Def\")</th>                                      <td>   -0.0012</td> <td>    0.000</td> <td>   -2.730</td> <td> 0.007</td> <td>   -0.002</td> <td>   -0.000</td>\n",
       "</tr>\n",
       "<tr>\n",
       "  <th>Attack:Defense:Legendary[T.True]:Q(\"Sp. Def\")</th>                    <td>   -0.1456</td> <td>    0.065</td> <td>   -2.253</td> <td> 0.025</td> <td>   -0.273</td> <td>   -0.018</td>\n",
       "</tr>\n",
       "<tr>\n",
       "  <th>Speed:Q(\"Sp. Def\")</th>                                               <td>    0.0624</td> <td>    0.031</td> <td>    2.027</td> <td> 0.043</td> <td>    0.002</td> <td>    0.123</td>\n",
       "</tr>\n",
       "<tr>\n",
       "  <th>Speed:Legendary[T.True]:Q(\"Sp. Def\")</th>                             <td>   -3.2219</td> <td>    1.983</td> <td>   -1.625</td> <td> 0.105</td> <td>   -7.122</td> <td>    0.678</td>\n",
       "</tr>\n",
       "<tr>\n",
       "  <th>Attack:Speed:Q(\"Sp. Def\")</th>                                        <td>   -0.0014</td> <td>    0.001</td> <td>   -2.732</td> <td> 0.007</td> <td>   -0.002</td> <td>   -0.000</td>\n",
       "</tr>\n",
       "<tr>\n",
       "  <th>Attack:Speed:Legendary[T.True]:Q(\"Sp. Def\")</th>                      <td>   -0.0695</td> <td>    0.033</td> <td>   -2.100</td> <td> 0.036</td> <td>   -0.135</td> <td>   -0.004</td>\n",
       "</tr>\n",
       "<tr>\n",
       "  <th>Defense:Speed:Q(\"Sp. Def\")</th>                                       <td>   -0.0008</td> <td>    0.000</td> <td>   -1.743</td> <td> 0.082</td> <td>   -0.002</td> <td>    0.000</td>\n",
       "</tr>\n",
       "<tr>\n",
       "  <th>Defense:Speed:Legendary[T.True]:Q(\"Sp. Def\")</th>                     <td>    0.0334</td> <td>    0.021</td> <td>    1.569</td> <td> 0.117</td> <td>   -0.008</td> <td>    0.075</td>\n",
       "</tr>\n",
       "<tr>\n",
       "  <th>Attack:Defense:Speed:Q(\"Sp. Def\")</th>                                <td> 1.629e-05</td> <td> 6.92e-06</td> <td>    2.355</td> <td> 0.019</td> <td> 2.68e-06</td> <td> 2.99e-05</td>\n",
       "</tr>\n",
       "<tr>\n",
       "  <th>Attack:Defense:Speed:Legendary[T.True]:Q(\"Sp. Def\")</th>              <td>    0.0008</td> <td>    0.000</td> <td>    2.433</td> <td> 0.015</td> <td>    0.000</td> <td>    0.001</td>\n",
       "</tr>\n",
       "<tr>\n",
       "  <th>Q(\"Sp. Atk\")</th>                                                     <td>   -8.3636</td> <td>    2.346</td> <td>   -3.565</td> <td> 0.000</td> <td>  -12.978</td> <td>   -3.749</td>\n",
       "</tr>\n",
       "<tr>\n",
       "  <th>Legendary[T.True]:Q(\"Sp. Atk\")</th>                                   <td>  850.5436</td> <td>  385.064</td> <td>    2.209</td> <td> 0.028</td> <td>   93.112</td> <td> 1607.975</td>\n",
       "</tr>\n",
       "<tr>\n",
       "  <th>Attack:Q(\"Sp. Atk\")</th>                                              <td>    0.1388</td> <td>    0.040</td> <td>    3.500</td> <td> 0.001</td> <td>    0.061</td> <td>    0.217</td>\n",
       "</tr>\n",
       "<tr>\n",
       "  <th>Attack:Legendary[T.True]:Q(\"Sp. Atk\")</th>                            <td>    2.1809</td> <td>    1.136</td> <td>    1.920</td> <td> 0.056</td> <td>   -0.054</td> <td>    4.416</td>\n",
       "</tr>\n",
       "<tr>\n",
       "  <th>Defense:Q(\"Sp. Atk\")</th>                                             <td>    0.0831</td> <td>    0.038</td> <td>    2.162</td> <td> 0.031</td> <td>    0.007</td> <td>    0.159</td>\n",
       "</tr>\n",
       "<tr>\n",
       "  <th>Defense:Legendary[T.True]:Q(\"Sp. Atk\")</th>                           <td>   -7.3121</td> <td>    3.376</td> <td>   -2.166</td> <td> 0.031</td> <td>  -13.953</td> <td>   -0.671</td>\n",
       "</tr>\n",
       "<tr>\n",
       "  <th>Attack:Defense:Q(\"Sp. Atk\")</th>                                      <td>   -0.0014</td> <td>    0.001</td> <td>   -2.480</td> <td> 0.014</td> <td>   -0.003</td> <td>   -0.000</td>\n",
       "</tr>\n",
       "<tr>\n",
       "  <th>Attack:Defense:Legendary[T.True]:Q(\"Sp. Atk\")</th>                    <td>   -0.0434</td> <td>    0.022</td> <td>   -2.010</td> <td> 0.045</td> <td>   -0.086</td> <td>   -0.001</td>\n",
       "</tr>\n",
       "<tr>\n",
       "  <th>Speed:Q(\"Sp. Atk\")</th>                                               <td>    0.1011</td> <td>    0.035</td> <td>    2.872</td> <td> 0.004</td> <td>    0.032</td> <td>    0.170</td>\n",
       "</tr>\n",
       "<tr>\n",
       "  <th>Speed:Legendary[T.True]:Q(\"Sp. Atk\")</th>                             <td>  -12.6343</td> <td>    5.613</td> <td>   -2.251</td> <td> 0.025</td> <td>  -23.674</td> <td>   -1.594</td>\n",
       "</tr>\n",
       "<tr>\n",
       "  <th>Attack:Speed:Q(\"Sp. Atk\")</th>                                        <td>   -0.0018</td> <td>    0.001</td> <td>   -3.102</td> <td> 0.002</td> <td>   -0.003</td> <td>   -0.001</td>\n",
       "</tr>\n",
       "<tr>\n",
       "  <th>Attack:Speed:Legendary[T.True]:Q(\"Sp. Atk\")</th>                      <td>    0.0151</td> <td>    0.009</td> <td>    1.609</td> <td> 0.109</td> <td>   -0.003</td> <td>    0.034</td>\n",
       "</tr>\n",
       "<tr>\n",
       "  <th>Defense:Speed:Q(\"Sp. Atk\")</th>                                       <td>   -0.0012</td> <td>    0.001</td> <td>   -1.860</td> <td> 0.064</td> <td>   -0.002</td> <td> 6.62e-05</td>\n",
       "</tr>\n",
       "<tr>\n",
       "  <th>Defense:Speed:Legendary[T.True]:Q(\"Sp. Atk\")</th>                     <td>    0.1210</td> <td>    0.054</td> <td>    2.260</td> <td> 0.024</td> <td>    0.016</td> <td>    0.226</td>\n",
       "</tr>\n",
       "<tr>\n",
       "  <th>Attack:Defense:Speed:Q(\"Sp. Atk\")</th>                                <td> 2.125e-05</td> <td>  9.1e-06</td> <td>    2.334</td> <td> 0.020</td> <td> 3.34e-06</td> <td> 3.92e-05</td>\n",
       "</tr>\n",
       "<tr>\n",
       "  <th>Attack:Defense:Speed:Legendary[T.True]:Q(\"Sp. Atk\")</th>              <td> 6.438e-06</td> <td> 7.69e-05</td> <td>    0.084</td> <td> 0.933</td> <td>   -0.000</td> <td>    0.000</td>\n",
       "</tr>\n",
       "<tr>\n",
       "  <th>Q(\"Sp. Def\"):Q(\"Sp. Atk\")</th>                                        <td>    0.1265</td> <td>    0.033</td> <td>    3.821</td> <td> 0.000</td> <td>    0.061</td> <td>    0.192</td>\n",
       "</tr>\n",
       "<tr>\n",
       "  <th>Legendary[T.True]:Q(\"Sp. Def\"):Q(\"Sp. Atk\")</th>                      <td>   -5.0544</td> <td>    2.506</td> <td>   -2.017</td> <td> 0.044</td> <td>   -9.983</td> <td>   -0.126</td>\n",
       "</tr>\n",
       "<tr>\n",
       "  <th>Attack:Q(\"Sp. Def\"):Q(\"Sp. Atk\")</th>                                 <td>   -0.0021</td> <td>    0.001</td> <td>   -3.606</td> <td> 0.000</td> <td>   -0.003</td> <td>   -0.001</td>\n",
       "</tr>\n",
       "<tr>\n",
       "  <th>Attack:Legendary[T.True]:Q(\"Sp. Def\"):Q(\"Sp. Atk\")</th>               <td>   -0.0346</td> <td>    0.017</td> <td>   -1.992</td> <td> 0.047</td> <td>   -0.069</td> <td>   -0.000</td>\n",
       "</tr>\n",
       "<tr>\n",
       "  <th>Defense:Q(\"Sp. Def\"):Q(\"Sp. Atk\")</th>                                <td>   -0.0012</td> <td>    0.000</td> <td>   -2.406</td> <td> 0.017</td> <td>   -0.002</td> <td>   -0.000</td>\n",
       "</tr>\n",
       "<tr>\n",
       "  <th>Defense:Legendary[T.True]:Q(\"Sp. Def\"):Q(\"Sp. Atk\")</th>              <td>    0.0446</td> <td>    0.025</td> <td>    1.794</td> <td> 0.074</td> <td>   -0.004</td> <td>    0.093</td>\n",
       "</tr>\n",
       "<tr>\n",
       "  <th>Attack:Defense:Q(\"Sp. Def\"):Q(\"Sp. Atk\")</th>                         <td> 1.973e-05</td> <td> 7.28e-06</td> <td>    2.710</td> <td> 0.007</td> <td> 5.41e-06</td> <td>  3.4e-05</td>\n",
       "</tr>\n",
       "<tr>\n",
       "  <th>Attack:Defense:Legendary[T.True]:Q(\"Sp. Def\"):Q(\"Sp. Atk\")</th>       <td>    0.0005</td> <td>    0.000</td> <td>    1.957</td> <td> 0.051</td> <td>-2.56e-06</td> <td>    0.001</td>\n",
       "</tr>\n",
       "<tr>\n",
       "  <th>Speed:Q(\"Sp. Def\"):Q(\"Sp. Atk\")</th>                                  <td>   -0.0013</td> <td>    0.000</td> <td>   -2.740</td> <td> 0.006</td> <td>   -0.002</td> <td>   -0.000</td>\n",
       "</tr>\n",
       "<tr>\n",
       "  <th>Speed:Legendary[T.True]:Q(\"Sp. Def\"):Q(\"Sp. Atk\")</th>                <td>    0.0841</td> <td>    0.040</td> <td>    2.125</td> <td> 0.034</td> <td>    0.006</td> <td>    0.162</td>\n",
       "</tr>\n",
       "<tr>\n",
       "  <th>Attack:Speed:Q(\"Sp. Def\"):Q(\"Sp. Atk\")</th>                           <td> 2.379e-05</td> <td> 7.85e-06</td> <td>    3.030</td> <td> 0.003</td> <td> 8.34e-06</td> <td> 3.92e-05</td>\n",
       "</tr>\n",
       "<tr>\n",
       "  <th>Attack:Speed:Legendary[T.True]:Q(\"Sp. Def\"):Q(\"Sp. Atk\")</th>         <td> 2.864e-05</td> <td> 7.73e-05</td> <td>    0.370</td> <td> 0.711</td> <td>   -0.000</td> <td>    0.000</td>\n",
       "</tr>\n",
       "<tr>\n",
       "  <th>Defense:Speed:Q(\"Sp. Def\"):Q(\"Sp. Atk\")</th>                          <td> 1.284e-05</td> <td> 7.46e-06</td> <td>    1.721</td> <td> 0.086</td> <td>-1.83e-06</td> <td> 2.75e-05</td>\n",
       "</tr>\n",
       "<tr>\n",
       "  <th>Defense:Speed:Legendary[T.True]:Q(\"Sp. Def\"):Q(\"Sp. Atk\")</th>        <td>   -0.0008</td> <td>    0.000</td> <td>   -2.085</td> <td> 0.038</td> <td>   -0.002</td> <td>-4.68e-05</td>\n",
       "</tr>\n",
       "<tr>\n",
       "  <th>Attack:Defense:Speed:Q(\"Sp. Def\"):Q(\"Sp. Atk\")</th>                   <td> -2.53e-07</td> <td>  1.1e-07</td> <td>   -2.292</td> <td> 0.023</td> <td> -4.7e-07</td> <td>-3.59e-08</td>\n",
       "</tr>\n",
       "<tr>\n",
       "  <th>Attack:Defense:Speed:Legendary[T.True]:Q(\"Sp. Def\"):Q(\"Sp. Atk\")</th> <td>-1.425e-06</td> <td> 1.14e-06</td> <td>   -1.249</td> <td> 0.212</td> <td>-3.67e-06</td> <td> 8.19e-07</td>\n",
       "</tr>\n",
       "</table>\n",
       "<table class=\"simpletable\">\n",
       "<tr>\n",
       "  <th>Omnibus:</th>       <td>214.307</td> <th>  Durbin-Watson:     </th> <td>   1.992</td>\n",
       "</tr>\n",
       "<tr>\n",
       "  <th>Prob(Omnibus):</th> <td> 0.000</td>  <th>  Jarque-Bera (JB):  </th> <td>2354.664</td>\n",
       "</tr>\n",
       "<tr>\n",
       "  <th>Skew:</th>          <td> 2.026</td>  <th>  Prob(JB):          </th> <td>    0.00</td>\n",
       "</tr>\n",
       "<tr>\n",
       "  <th>Kurtosis:</th>      <td>14.174</td>  <th>  Cond. No.          </th> <td>1.20e+16</td>\n",
       "</tr>\n",
       "</table><br/><br/>Notes:<br/>[1] Standard Errors assume that the covariance matrix of the errors is correctly specified.<br/>[2] The condition number is large, 1.2e+16. This might indicate that there are<br/>strong multicollinearity or other numerical problems."
      ],
      "text/latex": [
       "\\begin{center}\n",
       "\\begin{tabular}{lclc}\n",
       "\\toprule\n",
       "\\textbf{Dep. Variable:}                                                   &        HP        & \\textbf{  R-squared:         } &     0.467   \\\\\n",
       "\\textbf{Model:}                                                           &       OLS        & \\textbf{  Adj. R-squared:    } &     0.369   \\\\\n",
       "\\textbf{Method:}                                                          &  Least Squares   & \\textbf{  F-statistic:       } &     4.764   \\\\\n",
       "\\textbf{Date:}                                                            & Fri, 15 Nov 2024 & \\textbf{  Prob (F-statistic):} &  4.23e-21   \\\\\n",
       "\\textbf{Time:}                                                            &     02:54:17     & \\textbf{  Log-Likelihood:    } &   -1738.6   \\\\\n",
       "\\textbf{No. Observations:}                                                &         400      & \\textbf{  AIC:               } &     3603.   \\\\\n",
       "\\textbf{Df Residuals:}                                                    &         337      & \\textbf{  BIC:               } &     3855.   \\\\\n",
       "\\textbf{Df Model:}                                                        &          62      & \\textbf{                     } &             \\\\\n",
       "\\textbf{Covariance Type:}                                                 &    nonrobust     & \\textbf{                     } &             \\\\\n",
       "\\bottomrule\n",
       "\\end{tabular}\n",
       "\\begin{tabular}{lcccccc}\n",
       "                                                                          & \\textbf{coef} & \\textbf{std err} & \\textbf{t} & \\textbf{P$> |$t$|$} & \\textbf{[0.025} & \\textbf{0.975]}  \\\\\n",
       "\\midrule\n",
       "\\textbf{Intercept}                                                        &     521.5715  &      130.273     &     4.004  &         0.000        &      265.322    &      777.821     \\\\\n",
       "\\textbf{Legendary[T.True]}                                                &      -6.1179  &        2.846     &    -2.150  &         0.032        &      -11.716    &       -0.520     \\\\\n",
       "\\textbf{Attack}                                                           &      -8.1938  &        2.329     &    -3.518  &         0.000        &      -12.775    &       -3.612     \\\\\n",
       "\\textbf{Attack:Legendary[T.True]}                                         &   -1224.9610  &      545.105     &    -2.247  &         0.025        &    -2297.199    &     -152.723     \\\\\n",
       "\\textbf{Defense}                                                          &      -6.1989  &        2.174     &    -2.851  &         0.005        &      -10.475    &       -1.923     \\\\\n",
       "\\textbf{Defense:Legendary[T.True]}                                        &    -102.4030  &       96.565     &    -1.060  &         0.290        &     -292.350    &       87.544     \\\\\n",
       "\\textbf{Attack:Defense}                                                   &       0.0985  &        0.033     &     2.982  &         0.003        &        0.034    &        0.164     \\\\\n",
       "\\textbf{Attack:Defense:Legendary[T.True]}                                 &      14.6361  &        6.267     &     2.336  &         0.020        &        2.310    &       26.963     \\\\\n",
       "\\textbf{Speed}                                                            &      -7.2261  &        2.178     &    -3.318  &         0.001        &      -11.511    &       -2.942     \\\\\n",
       "\\textbf{Speed:Legendary[T.True]}                                          &     704.8798  &      337.855     &     2.086  &         0.038        &       40.309    &     1369.450     \\\\\n",
       "\\textbf{Attack:Speed}                                                     &       0.1264  &        0.038     &     3.351  &         0.001        &        0.052    &        0.201     \\\\\n",
       "\\textbf{Attack:Speed:Legendary[T.True]}                                   &       5.8648  &        2.692     &     2.179  &         0.030        &        0.570    &       11.160     \\\\\n",
       "\\textbf{Defense:Speed}                                                    &       0.1026  &        0.039     &     2.634  &         0.009        &        0.026    &        0.179     \\\\\n",
       "\\textbf{Defense:Speed:Legendary[T.True]}                                  &      -6.9266  &        3.465     &    -1.999  &         0.046        &      -13.742    &       -0.111     \\\\\n",
       "\\textbf{Attack:Defense:Speed}                                             &      -0.0016  &        0.001     &    -2.837  &         0.005        &       -0.003    &       -0.001     \\\\\n",
       "\\textbf{Attack:Defense:Speed:Legendary[T.True]}                           &      -0.0743  &        0.030     &    -2.477  &         0.014        &       -0.133    &       -0.015     \\\\\n",
       "\\textbf{Q(\"Sp. Def\")}                                                     &      -5.3982  &        1.938     &    -2.785  &         0.006        &       -9.211    &       -1.586     \\\\\n",
       "\\textbf{Legendary[T.True]:Q(\"Sp. Def\")}                                   &    -282.2496  &      126.835     &    -2.225  &         0.027        &     -531.738    &      -32.761     \\\\\n",
       "\\textbf{Attack:Q(\"Sp. Def\")}                                              &       0.1094  &        0.034     &     3.233  &         0.001        &        0.043    &        0.176     \\\\\n",
       "\\textbf{Attack:Legendary[T.True]:Q(\"Sp. Def\")}                            &      12.6503  &        5.851     &     2.162  &         0.031        &        1.141    &       24.160     \\\\\n",
       "\\textbf{Defense:Q(\"Sp. Def\")}                                             &       0.0628  &        0.028     &     2.247  &         0.025        &        0.008    &        0.118     \\\\\n",
       "\\textbf{Defense:Legendary[T.True]:Q(\"Sp. Def\")}                           &       3.3949  &        1.783     &     1.904  &         0.058        &       -0.112    &        6.902     \\\\\n",
       "\\textbf{Attack:Defense:Q(\"Sp. Def\")}                                      &      -0.0012  &        0.000     &    -2.730  &         0.007        &       -0.002    &       -0.000     \\\\\n",
       "\\textbf{Attack:Defense:Legendary[T.True]:Q(\"Sp. Def\")}                    &      -0.1456  &        0.065     &    -2.253  &         0.025        &       -0.273    &       -0.018     \\\\\n",
       "\\textbf{Speed:Q(\"Sp. Def\")}                                               &       0.0624  &        0.031     &     2.027  &         0.043        &        0.002    &        0.123     \\\\\n",
       "\\textbf{Speed:Legendary[T.True]:Q(\"Sp. Def\")}                             &      -3.2219  &        1.983     &    -1.625  &         0.105        &       -7.122    &        0.678     \\\\\n",
       "\\textbf{Attack:Speed:Q(\"Sp. Def\")}                                        &      -0.0014  &        0.001     &    -2.732  &         0.007        &       -0.002    &       -0.000     \\\\\n",
       "\\textbf{Attack:Speed:Legendary[T.True]:Q(\"Sp. Def\")}                      &      -0.0695  &        0.033     &    -2.100  &         0.036        &       -0.135    &       -0.004     \\\\\n",
       "\\textbf{Defense:Speed:Q(\"Sp. Def\")}                                       &      -0.0008  &        0.000     &    -1.743  &         0.082        &       -0.002    &        0.000     \\\\\n",
       "\\textbf{Defense:Speed:Legendary[T.True]:Q(\"Sp. Def\")}                     &       0.0334  &        0.021     &     1.569  &         0.117        &       -0.008    &        0.075     \\\\\n",
       "\\textbf{Attack:Defense:Speed:Q(\"Sp. Def\")}                                &    1.629e-05  &     6.92e-06     &     2.355  &         0.019        &     2.68e-06    &     2.99e-05     \\\\\n",
       "\\textbf{Attack:Defense:Speed:Legendary[T.True]:Q(\"Sp. Def\")}              &       0.0008  &        0.000     &     2.433  &         0.015        &        0.000    &        0.001     \\\\\n",
       "\\textbf{Q(\"Sp. Atk\")}                                                     &      -8.3636  &        2.346     &    -3.565  &         0.000        &      -12.978    &       -3.749     \\\\\n",
       "\\textbf{Legendary[T.True]:Q(\"Sp. Atk\")}                                   &     850.5436  &      385.064     &     2.209  &         0.028        &       93.112    &     1607.975     \\\\\n",
       "\\textbf{Attack:Q(\"Sp. Atk\")}                                              &       0.1388  &        0.040     &     3.500  &         0.001        &        0.061    &        0.217     \\\\\n",
       "\\textbf{Attack:Legendary[T.True]:Q(\"Sp. Atk\")}                            &       2.1809  &        1.136     &     1.920  &         0.056        &       -0.054    &        4.416     \\\\\n",
       "\\textbf{Defense:Q(\"Sp. Atk\")}                                             &       0.0831  &        0.038     &     2.162  &         0.031        &        0.007    &        0.159     \\\\\n",
       "\\textbf{Defense:Legendary[T.True]:Q(\"Sp. Atk\")}                           &      -7.3121  &        3.376     &    -2.166  &         0.031        &      -13.953    &       -0.671     \\\\\n",
       "\\textbf{Attack:Defense:Q(\"Sp. Atk\")}                                      &      -0.0014  &        0.001     &    -2.480  &         0.014        &       -0.003    &       -0.000     \\\\\n",
       "\\textbf{Attack:Defense:Legendary[T.True]:Q(\"Sp. Atk\")}                    &      -0.0434  &        0.022     &    -2.010  &         0.045        &       -0.086    &       -0.001     \\\\\n",
       "\\textbf{Speed:Q(\"Sp. Atk\")}                                               &       0.1011  &        0.035     &     2.872  &         0.004        &        0.032    &        0.170     \\\\\n",
       "\\textbf{Speed:Legendary[T.True]:Q(\"Sp. Atk\")}                             &     -12.6343  &        5.613     &    -2.251  &         0.025        &      -23.674    &       -1.594     \\\\\n",
       "\\textbf{Attack:Speed:Q(\"Sp. Atk\")}                                        &      -0.0018  &        0.001     &    -3.102  &         0.002        &       -0.003    &       -0.001     \\\\\n",
       "\\textbf{Attack:Speed:Legendary[T.True]:Q(\"Sp. Atk\")}                      &       0.0151  &        0.009     &     1.609  &         0.109        &       -0.003    &        0.034     \\\\\n",
       "\\textbf{Defense:Speed:Q(\"Sp. Atk\")}                                       &      -0.0012  &        0.001     &    -1.860  &         0.064        &       -0.002    &     6.62e-05     \\\\\n",
       "\\textbf{Defense:Speed:Legendary[T.True]:Q(\"Sp. Atk\")}                     &       0.1210  &        0.054     &     2.260  &         0.024        &        0.016    &        0.226     \\\\\n",
       "\\textbf{Attack:Defense:Speed:Q(\"Sp. Atk\")}                                &    2.125e-05  &      9.1e-06     &     2.334  &         0.020        &     3.34e-06    &     3.92e-05     \\\\\n",
       "\\textbf{Attack:Defense:Speed:Legendary[T.True]:Q(\"Sp. Atk\")}              &    6.438e-06  &     7.69e-05     &     0.084  &         0.933        &       -0.000    &        0.000     \\\\\n",
       "\\textbf{Q(\"Sp. Def\"):Q(\"Sp. Atk\")}                                        &       0.1265  &        0.033     &     3.821  &         0.000        &        0.061    &        0.192     \\\\\n",
       "\\textbf{Legendary[T.True]:Q(\"Sp. Def\"):Q(\"Sp. Atk\")}                      &      -5.0544  &        2.506     &    -2.017  &         0.044        &       -9.983    &       -0.126     \\\\\n",
       "\\textbf{Attack:Q(\"Sp. Def\"):Q(\"Sp. Atk\")}                                 &      -0.0021  &        0.001     &    -3.606  &         0.000        &       -0.003    &       -0.001     \\\\\n",
       "\\textbf{Attack:Legendary[T.True]:Q(\"Sp. Def\"):Q(\"Sp. Atk\")}               &      -0.0346  &        0.017     &    -1.992  &         0.047        &       -0.069    &       -0.000     \\\\\n",
       "\\textbf{Defense:Q(\"Sp. Def\"):Q(\"Sp. Atk\")}                                &      -0.0012  &        0.000     &    -2.406  &         0.017        &       -0.002    &       -0.000     \\\\\n",
       "\\textbf{Defense:Legendary[T.True]:Q(\"Sp. Def\"):Q(\"Sp. Atk\")}              &       0.0446  &        0.025     &     1.794  &         0.074        &       -0.004    &        0.093     \\\\\n",
       "\\textbf{Attack:Defense:Q(\"Sp. Def\"):Q(\"Sp. Atk\")}                         &    1.973e-05  &     7.28e-06     &     2.710  &         0.007        &     5.41e-06    &      3.4e-05     \\\\\n",
       "\\textbf{Attack:Defense:Legendary[T.True]:Q(\"Sp. Def\"):Q(\"Sp. Atk\")}       &       0.0005  &        0.000     &     1.957  &         0.051        &    -2.56e-06    &        0.001     \\\\\n",
       "\\textbf{Speed:Q(\"Sp. Def\"):Q(\"Sp. Atk\")}                                  &      -0.0013  &        0.000     &    -2.740  &         0.006        &       -0.002    &       -0.000     \\\\\n",
       "\\textbf{Speed:Legendary[T.True]:Q(\"Sp. Def\"):Q(\"Sp. Atk\")}                &       0.0841  &        0.040     &     2.125  &         0.034        &        0.006    &        0.162     \\\\\n",
       "\\textbf{Attack:Speed:Q(\"Sp. Def\"):Q(\"Sp. Atk\")}                           &    2.379e-05  &     7.85e-06     &     3.030  &         0.003        &     8.34e-06    &     3.92e-05     \\\\\n",
       "\\textbf{Attack:Speed:Legendary[T.True]:Q(\"Sp. Def\"):Q(\"Sp. Atk\")}         &    2.864e-05  &     7.73e-05     &     0.370  &         0.711        &       -0.000    &        0.000     \\\\\n",
       "\\textbf{Defense:Speed:Q(\"Sp. Def\"):Q(\"Sp. Atk\")}                          &    1.284e-05  &     7.46e-06     &     1.721  &         0.086        &    -1.83e-06    &     2.75e-05     \\\\\n",
       "\\textbf{Defense:Speed:Legendary[T.True]:Q(\"Sp. Def\"):Q(\"Sp. Atk\")}        &      -0.0008  &        0.000     &    -2.085  &         0.038        &       -0.002    &    -4.68e-05     \\\\\n",
       "\\textbf{Attack:Defense:Speed:Q(\"Sp. Def\"):Q(\"Sp. Atk\")}                   &    -2.53e-07  &      1.1e-07     &    -2.292  &         0.023        &     -4.7e-07    &    -3.59e-08     \\\\\n",
       "\\textbf{Attack:Defense:Speed:Legendary[T.True]:Q(\"Sp. Def\"):Q(\"Sp. Atk\")} &   -1.425e-06  &     1.14e-06     &    -1.249  &         0.212        &    -3.67e-06    &     8.19e-07     \\\\\n",
       "\\bottomrule\n",
       "\\end{tabular}\n",
       "\\begin{tabular}{lclc}\n",
       "\\textbf{Omnibus:}       & 214.307 & \\textbf{  Durbin-Watson:     } &    1.992  \\\\\n",
       "\\textbf{Prob(Omnibus):} &   0.000 & \\textbf{  Jarque-Bera (JB):  } & 2354.664  \\\\\n",
       "\\textbf{Skew:}          &   2.026 & \\textbf{  Prob(JB):          } &     0.00  \\\\\n",
       "\\textbf{Kurtosis:}      &  14.174 & \\textbf{  Cond. No.          } & 1.20e+16  \\\\\n",
       "\\bottomrule\n",
       "\\end{tabular}\n",
       "%\\caption{OLS Regression Results}\n",
       "\\end{center}\n",
       "\n",
       "Notes: \\newline\n",
       " [1] Standard Errors assume that the covariance matrix of the errors is correctly specified. \\newline\n",
       " [2] The condition number is large, 1.2e+16. This might indicate that there are \\newline\n",
       " strong multicollinearity or other numerical problems."
      ],
      "text/plain": [
       "<class 'statsmodels.iolib.summary.Summary'>\n",
       "\"\"\"\n",
       "                            OLS Regression Results                            \n",
       "==============================================================================\n",
       "Dep. Variable:                     HP   R-squared:                       0.467\n",
       "Model:                            OLS   Adj. R-squared:                  0.369\n",
       "Method:                 Least Squares   F-statistic:                     4.764\n",
       "Date:                Fri, 15 Nov 2024   Prob (F-statistic):           4.23e-21\n",
       "Time:                        02:54:17   Log-Likelihood:                -1738.6\n",
       "No. Observations:                 400   AIC:                             3603.\n",
       "Df Residuals:                     337   BIC:                             3855.\n",
       "Df Model:                          62                                         \n",
       "Covariance Type:            nonrobust                                         \n",
       "====================================================================================================================================\n",
       "                                                                       coef    std err          t      P>|t|      [0.025      0.975]\n",
       "------------------------------------------------------------------------------------------------------------------------------------\n",
       "Intercept                                                          521.5715    130.273      4.004      0.000     265.322     777.821\n",
       "Legendary[T.True]                                                   -6.1179      2.846     -2.150      0.032     -11.716      -0.520\n",
       "Attack                                                              -8.1938      2.329     -3.518      0.000     -12.775      -3.612\n",
       "Attack:Legendary[T.True]                                         -1224.9610    545.105     -2.247      0.025   -2297.199    -152.723\n",
       "Defense                                                             -6.1989      2.174     -2.851      0.005     -10.475      -1.923\n",
       "Defense:Legendary[T.True]                                         -102.4030     96.565     -1.060      0.290    -292.350      87.544\n",
       "Attack:Defense                                                       0.0985      0.033      2.982      0.003       0.034       0.164\n",
       "Attack:Defense:Legendary[T.True]                                    14.6361      6.267      2.336      0.020       2.310      26.963\n",
       "Speed                                                               -7.2261      2.178     -3.318      0.001     -11.511      -2.942\n",
       "Speed:Legendary[T.True]                                            704.8798    337.855      2.086      0.038      40.309    1369.450\n",
       "Attack:Speed                                                         0.1264      0.038      3.351      0.001       0.052       0.201\n",
       "Attack:Speed:Legendary[T.True]                                       5.8648      2.692      2.179      0.030       0.570      11.160\n",
       "Defense:Speed                                                        0.1026      0.039      2.634      0.009       0.026       0.179\n",
       "Defense:Speed:Legendary[T.True]                                     -6.9266      3.465     -1.999      0.046     -13.742      -0.111\n",
       "Attack:Defense:Speed                                                -0.0016      0.001     -2.837      0.005      -0.003      -0.001\n",
       "Attack:Defense:Speed:Legendary[T.True]                              -0.0743      0.030     -2.477      0.014      -0.133      -0.015\n",
       "Q(\"Sp. Def\")                                                        -5.3982      1.938     -2.785      0.006      -9.211      -1.586\n",
       "Legendary[T.True]:Q(\"Sp. Def\")                                    -282.2496    126.835     -2.225      0.027    -531.738     -32.761\n",
       "Attack:Q(\"Sp. Def\")                                                  0.1094      0.034      3.233      0.001       0.043       0.176\n",
       "Attack:Legendary[T.True]:Q(\"Sp. Def\")                               12.6503      5.851      2.162      0.031       1.141      24.160\n",
       "Defense:Q(\"Sp. Def\")                                                 0.0628      0.028      2.247      0.025       0.008       0.118\n",
       "Defense:Legendary[T.True]:Q(\"Sp. Def\")                               3.3949      1.783      1.904      0.058      -0.112       6.902\n",
       "Attack:Defense:Q(\"Sp. Def\")                                         -0.0012      0.000     -2.730      0.007      -0.002      -0.000\n",
       "Attack:Defense:Legendary[T.True]:Q(\"Sp. Def\")                       -0.1456      0.065     -2.253      0.025      -0.273      -0.018\n",
       "Speed:Q(\"Sp. Def\")                                                   0.0624      0.031      2.027      0.043       0.002       0.123\n",
       "Speed:Legendary[T.True]:Q(\"Sp. Def\")                                -3.2219      1.983     -1.625      0.105      -7.122       0.678\n",
       "Attack:Speed:Q(\"Sp. Def\")                                           -0.0014      0.001     -2.732      0.007      -0.002      -0.000\n",
       "Attack:Speed:Legendary[T.True]:Q(\"Sp. Def\")                         -0.0695      0.033     -2.100      0.036      -0.135      -0.004\n",
       "Defense:Speed:Q(\"Sp. Def\")                                          -0.0008      0.000     -1.743      0.082      -0.002       0.000\n",
       "Defense:Speed:Legendary[T.True]:Q(\"Sp. Def\")                         0.0334      0.021      1.569      0.117      -0.008       0.075\n",
       "Attack:Defense:Speed:Q(\"Sp. Def\")                                 1.629e-05   6.92e-06      2.355      0.019    2.68e-06    2.99e-05\n",
       "Attack:Defense:Speed:Legendary[T.True]:Q(\"Sp. Def\")                  0.0008      0.000      2.433      0.015       0.000       0.001\n",
       "Q(\"Sp. Atk\")                                                        -8.3636      2.346     -3.565      0.000     -12.978      -3.749\n",
       "Legendary[T.True]:Q(\"Sp. Atk\")                                     850.5436    385.064      2.209      0.028      93.112    1607.975\n",
       "Attack:Q(\"Sp. Atk\")                                                  0.1388      0.040      3.500      0.001       0.061       0.217\n",
       "Attack:Legendary[T.True]:Q(\"Sp. Atk\")                                2.1809      1.136      1.920      0.056      -0.054       4.416\n",
       "Defense:Q(\"Sp. Atk\")                                                 0.0831      0.038      2.162      0.031       0.007       0.159\n",
       "Defense:Legendary[T.True]:Q(\"Sp. Atk\")                              -7.3121      3.376     -2.166      0.031     -13.953      -0.671\n",
       "Attack:Defense:Q(\"Sp. Atk\")                                         -0.0014      0.001     -2.480      0.014      -0.003      -0.000\n",
       "Attack:Defense:Legendary[T.True]:Q(\"Sp. Atk\")                       -0.0434      0.022     -2.010      0.045      -0.086      -0.001\n",
       "Speed:Q(\"Sp. Atk\")                                                   0.1011      0.035      2.872      0.004       0.032       0.170\n",
       "Speed:Legendary[T.True]:Q(\"Sp. Atk\")                               -12.6343      5.613     -2.251      0.025     -23.674      -1.594\n",
       "Attack:Speed:Q(\"Sp. Atk\")                                           -0.0018      0.001     -3.102      0.002      -0.003      -0.001\n",
       "Attack:Speed:Legendary[T.True]:Q(\"Sp. Atk\")                          0.0151      0.009      1.609      0.109      -0.003       0.034\n",
       "Defense:Speed:Q(\"Sp. Atk\")                                          -0.0012      0.001     -1.860      0.064      -0.002    6.62e-05\n",
       "Defense:Speed:Legendary[T.True]:Q(\"Sp. Atk\")                         0.1210      0.054      2.260      0.024       0.016       0.226\n",
       "Attack:Defense:Speed:Q(\"Sp. Atk\")                                 2.125e-05    9.1e-06      2.334      0.020    3.34e-06    3.92e-05\n",
       "Attack:Defense:Speed:Legendary[T.True]:Q(\"Sp. Atk\")               6.438e-06   7.69e-05      0.084      0.933      -0.000       0.000\n",
       "Q(\"Sp. Def\"):Q(\"Sp. Atk\")                                            0.1265      0.033      3.821      0.000       0.061       0.192\n",
       "Legendary[T.True]:Q(\"Sp. Def\"):Q(\"Sp. Atk\")                         -5.0544      2.506     -2.017      0.044      -9.983      -0.126\n",
       "Attack:Q(\"Sp. Def\"):Q(\"Sp. Atk\")                                    -0.0021      0.001     -3.606      0.000      -0.003      -0.001\n",
       "Attack:Legendary[T.True]:Q(\"Sp. Def\"):Q(\"Sp. Atk\")                  -0.0346      0.017     -1.992      0.047      -0.069      -0.000\n",
       "Defense:Q(\"Sp. Def\"):Q(\"Sp. Atk\")                                   -0.0012      0.000     -2.406      0.017      -0.002      -0.000\n",
       "Defense:Legendary[T.True]:Q(\"Sp. Def\"):Q(\"Sp. Atk\")                  0.0446      0.025      1.794      0.074      -0.004       0.093\n",
       "Attack:Defense:Q(\"Sp. Def\"):Q(\"Sp. Atk\")                          1.973e-05   7.28e-06      2.710      0.007    5.41e-06     3.4e-05\n",
       "Attack:Defense:Legendary[T.True]:Q(\"Sp. Def\"):Q(\"Sp. Atk\")           0.0005      0.000      1.957      0.051   -2.56e-06       0.001\n",
       "Speed:Q(\"Sp. Def\"):Q(\"Sp. Atk\")                                     -0.0013      0.000     -2.740      0.006      -0.002      -0.000\n",
       "Speed:Legendary[T.True]:Q(\"Sp. Def\"):Q(\"Sp. Atk\")                    0.0841      0.040      2.125      0.034       0.006       0.162\n",
       "Attack:Speed:Q(\"Sp. Def\"):Q(\"Sp. Atk\")                            2.379e-05   7.85e-06      3.030      0.003    8.34e-06    3.92e-05\n",
       "Attack:Speed:Legendary[T.True]:Q(\"Sp. Def\"):Q(\"Sp. Atk\")          2.864e-05   7.73e-05      0.370      0.711      -0.000       0.000\n",
       "Defense:Speed:Q(\"Sp. Def\"):Q(\"Sp. Atk\")                           1.284e-05   7.46e-06      1.721      0.086   -1.83e-06    2.75e-05\n",
       "Defense:Speed:Legendary[T.True]:Q(\"Sp. Def\"):Q(\"Sp. Atk\")           -0.0008      0.000     -2.085      0.038      -0.002   -4.68e-05\n",
       "Attack:Defense:Speed:Q(\"Sp. Def\"):Q(\"Sp. Atk\")                    -2.53e-07    1.1e-07     -2.292      0.023    -4.7e-07   -3.59e-08\n",
       "Attack:Defense:Speed:Legendary[T.True]:Q(\"Sp. Def\"):Q(\"Sp. Atk\") -1.425e-06   1.14e-06     -1.249      0.212   -3.67e-06    8.19e-07\n",
       "==============================================================================\n",
       "Omnibus:                      214.307   Durbin-Watson:                   1.992\n",
       "Prob(Omnibus):                  0.000   Jarque-Bera (JB):             2354.664\n",
       "Skew:                           2.026   Prob(JB):                         0.00\n",
       "Kurtosis:                      14.174   Cond. No.                     1.20e+16\n",
       "==============================================================================\n",
       "\n",
       "Notes:\n",
       "[1] Standard Errors assume that the covariance matrix of the errors is correctly specified.\n",
       "[2] The condition number is large, 1.2e+16. This might indicate that there are\n",
       "strong multicollinearity or other numerical problems.\n",
       "\"\"\""
      ]
     },
     "execution_count": 132,
     "metadata": {},
     "output_type": "execute_result"
    }
   ],
   "source": [
    "model4_linear_form = 'HP ~ Attack * Defense * Speed * Legendary'\n",
    "model4_linear_form += ' * Q(\"Sp. Def\") * Q(\"Sp. Atk\")'\n",
    "# DO NOT try adding '* C(Generation) * C(Q(\"Type 1\")) * C(Q(\"Type 2\"))'\n",
    "# That's 6*18*19 = 6*18*19 possible interaction combinations...\n",
    "# ...a huge number that will blow up your computer\n",
    "\n",
    "model4_spec = smf.ols(formula=model4_linear_form, data=pokeaman_train)\n",
    "model4_fit = model4_spec.fit()\n",
    "model4_fit.summary()"
   ]
  },
  {
   "cell_type": "markdown",
   "id": "1f1139a1",
   "metadata": {},
   "source": [
    "## Code Explanation:\n",
    "#### 4. Building a Complex Model with Interactions:\n",
    "- The fourth code cell specifies a more complex with multiple interaction terms, including variables such as Attack, Defense, Speed, Legendary, Sp. Def, and Sp. Atk. This model explores how various predictors and their interactions influence HP.\n",
    "- While such complexity could improve the fit for training data, it increases the risk of overfitting, where the model captures noise rather than general patterns."
   ]
  },
  {
   "cell_type": "markdown",
   "id": "086ae096",
   "metadata": {},
   "source": [
    "## Fifth Code:"
   ]
  },
  {
   "cell_type": "code",
   "execution_count": 133,
   "id": "bd8eee0d",
   "metadata": {},
   "outputs": [
    {
     "name": "stdout",
     "output_type": "stream",
     "text": [
      "'In sample' R-squared:     0.46709442115833855\n",
      "'Out of sample' R-squared: 0.002485342598992873\n"
     ]
    }
   ],
   "source": [
    "yhat_model4 = model4_fit.predict(pokeaman_test)\n",
    "y = pokeaman_test.HP\n",
    "print(\"'In sample' R-squared:    \", model4_fit.rsquared)\n",
    "print(\"'Out of sample' R-squared:\", np.corrcoef(y,yhat_model4)[0,1]**2)"
   ]
  },
  {
   "cell_type": "markdown",
   "id": "ddaac7b7",
   "metadata": {},
   "source": [
    "## Code Explanation:\n",
    "#### 5. Evaluating the Complex Model:\n",
    "- The fifth code cell involve calculating both \"in-sample\" and \"out-of-sample\" R-squared values for this complex model. This comparison shows how well the model generalizes to new data despite its high complexity."
   ]
  },
  {
   "cell_type": "markdown",
   "id": "9b39aec9",
   "metadata": {},
   "source": [
    "## Illustration of Concepts:\n",
    "- **R-squared as Measure of Fit and Generalizability**: \n",
    "    - The code illustrates how R-squared values (calculated as the squared correlation) assess model fit. Higher in-sample R-squared values reflect better fit on the training data, but when out-of-sample R-squared drops, it suggests overfitting.\n",
    "    \n",
    "- **In-Sample vs. Out-of-Sample Performance**:\n",
    "    - Comparing these two metrics allows us to evaluate the model's generalizability. If the complex model's out-of-sample R-squared is much lower than its in-sample R-squared, the model likely overfits the training data, making it less reliable for predicting new data. "
   ]
  },
  {
   "cell_type": "markdown",
   "id": "638715a9",
   "metadata": {},
   "source": [
    "# ChatGPT Summary:\n",
    "**Interaction Summary:**\n",
    "\n",
    "1. **Discussion of Code and Model Interpretation:**\n",
    "   You shared multiple pieces of code related to your analysis and discussed their purpose in evaluating model performance.\n",
    "\n",
    "   - The first code involved splitting a dataset (`pokeaman`) into a training and testing set, filling missing values, and using the `train_test_split` function from `sklearn`.\n",
    "   - The second piece of code defined a linear regression model using `statsmodels` to predict a target variable (`HP`) based on predictors (`Attack` and `Defense`) and fit the model on the training set.\n",
    "   - The third block calculated \"in-sample\" R-squared (using the model's `rsquared` attribute) and \"out-of-sample\" R-squared (using `np.corrcoef` between actual and predicted values from the test set).\n",
    "   - In the fourth piece of code, a more complex model was specified using multiple predictors with interaction terms (including categorical variables). It was observed that this model was computationally intensive and potentially could lead to overfitting, especially with a large number of interactions.\n",
    "\n",
    "2. **Guidance on Model Interpretation:**\n",
    "   You received clarification on interpreting R-squared values:\n",
    "   - **In-sample R-squared** measures the model's ability to explain the variability in the training data.\n",
    "   - **Out-of-sample R-squared** gauges how well the model generalizes to unseen data. A significant drop between the two can indicate overfitting.\n",
    "   - This distinction is essential for evaluating model performance and ensuring that the model is not simply memorizing the training data but is able to generalize to new data.\n",
    "\n",
    "3. **Error Handling and Next Steps:**\n",
    "   - You encountered a `NameError` due to running the model's prediction before properly defining it. This was fixed by ensuring the model was correctly fitted before making predictions.\n",
    "   - You were advised on how to run and debug the code on your JupyterHub environment and ensure all steps were properly executed in sequence to avoid errors.\n"
   ]
  },
  {
   "cell_type": "markdown",
   "id": "6cbae91b",
   "metadata": {},
   "source": [
    "# 7\n",
    "\n",
    "## Explanation of Multicollinearity and Its Impact on Model Generalizability:\n",
    "\n",
    "#### 1. Design Matrix and Predictor Variables:\n",
    "The \"design matrix\" of a regression model is a matrix of predictor variables (explanatory variables) used to preict the outcome variable. In the case of **model 4**, the variable `model4_spec.exog` represents the design matrix used in the model. This matrix contains columns of the predictors, and the model uses these predictors to fit the regression model and estimate the coefficients. The shape of the design matrix (`model4_spec.exog.shape`) indicates the number of observations and the number of predictors (including any interaction terms).\n",
    "\n",
    "#### 2. Multicollinearity in the Design Matrix:\n",
    "Multicollinearity occurs when two or more predictor variables in a regression model are highly correlated. This correlation makes it difficult to isolate the individual effect of each predictor on the outcome variable because the predictors \"overlap\" in the information they provide. In the case of **model4**, which includes a large number of interaction terms, multicollinearity is likely to be a significant issue. The more predictors and interactions are included, the more likely it is that these predictors will be correlated, causing multicollinearity. \n",
    "\n",
    "This multicollinearity can be detected using the condition number of the design matrix. The condition number is a measure of the matrix's sensitivity to small changes in the data. A very large condition number indicates the presence of significant multicollinearity, which suggests that the model might be unstable and that its predictions may not generalize well to new data. **Model 4** has a very large condition number, indicating a high degree of multicollinearity.\n",
    "\n",
    "#### 3. Impact of Multicollinearity on Genearlizability:\n",
    "When predictor variables are highly correlated, it becomes difficult for the model to reliably estimate the contribution of each individual predictor. This results in overfitting, where the model fits the training data too closely, capturing noise and idiosyncrasies that don't generalize to the testing set. In other words, while the model might perform well on the training data, it struggles to make accurate predictions on new data because it has essentially \"memorized\" the training data rather than learning the underlying patterns. \n",
    "\n",
    "In contrast, a simpler model like **model3**, which uses fewer predictors, is less prone to overfitting because it avoids the complex relationships introduced by too many correlated predictors. This model is more likely to identify real, generalizable patterns that persist across both training and testing datasets. \n",
    "\n",
    "#### 4. Centering and Scaling of Variables:\n",
    "**Centering and scaling** predictor variables is a standard practice in regression analysis to improve model stability and to facilitate the interpretation of multicollinearity. This process transforms variables by subtracting their mean (centering) and dividing by their standard deviation (scaling). This helps in making sure that all predictor variables are on the same scale, which is crucial for detecting and quantifying multicollinearity. \n",
    "\n",
    "The condition number of a model can be artificially inflated if centering and scaling are not applied. For example, without centering and scaling, **model4** reports a very high condition number, suggesting severe multicollinearity. However, after centering and scaling, the condition number remains very large, reinforcing the idea that **model4** is highly multicollinear and overfitted.\n",
    "\n",
    "#### 5. Conclusion:\n",
    "The presence of multicollinearity in the design matrix of **model4** leads to overfitting, where the model fits the training data too closely and fails to generalize well to new data. This issue is exacerbated by the large number of predictors and interaction terms, which introduces complexity beyond the capacity of the data. The high condition number serves as a diagnostic tool to reveal the level of multicollinearity and provides a warning that the model's generalizability is likely compromised. In contrast, simpler models with fewer predictors are less prone to overfitting and tend to perform better on new, unseen data."
   ]
  },
  {
   "cell_type": "markdown",
   "id": "042bafac",
   "metadata": {},
   "source": [
    "# ChatGPT Summary:\n",
    "### **Summary of Interaction**\n",
    "\n",
    "1. **Data Splitting:**\n",
    "   You split the dataset into training and testing sets, using a 50/50 ratio, and ensured that missing values in the \"Type 2\" column were replaced with 'None'. This splitting enabled you to calculate \"in-sample\" R-squared using the training dataset and \"out-of-sample\" R-squared using the testing dataset.\n",
    "\n",
    "2. **Model 3 (Simpler Model):**\n",
    "   You fitted a linear regression model using a formula with two predictors: `Attack` and `Defense`. The \"in-sample\" R-squared value was calculated directly from the model fit, and \"out-of-sample\" R-squared was computed based on predictions from the test set. The results indicated that this simpler model provided good generalization from the training data to the testing data.\n",
    "\n",
    "3. **Model 4 (Complex Model):**\n",
    "   You then created a much more complex model involving a large number of predictor variables, including interactions among several features. The model was fit, but it resulted in overfitting, where the model identified patterns that were specific to the training set but did not generalize well to the test data. This overfitting was indicated by a sharp drop in \"out-of-sample\" R-squared compared to \"in-sample\" R-squared.\n",
    "\n",
    "4. **Multicollinearity and Generalization:**\n",
    "   You also explored the concept of multicollinearity in the design matrix. It was observed that the complexity of the predictors in the model led to a very large condition number, indicating multicollinearity. This suggested that the model's generalizability was compromised because highly correlated predictors created issues in the model's ability to generalize to new, unseen data.\n",
    "\n",
    "5. **Tools and Diagnostics:**\n",
    "   The issue of multicollinearity was diagnosed using the condition number of the \"design matrix,\" and you also discussed the potential utility of centering and scaling the predictor variables to better understand the degree of multicollinearity."
   ]
  },
  {
   "cell_type": "markdown",
   "id": "da613aa8",
   "metadata": {},
   "source": [
    "# 8\n",
    "\n",
    "## 1. Code for Looping Over Model Performance Metrics:\n",
    "- Split the Pokemon data repetedly, using a linear regression model on each split without setting a random seed, to create different training and testing sets each time. This allows to collect a range of \"in-sample\" and \"out-of-sample\" R-squared values and visualize them.\n",
    "\n",
    "## 2. Explanation of Results and Purpose:\n",
    "- The purpose of repeatedly splitting and testing the model is to observe how performance metrics fluctuate due to the random variation in the data splits. The difference between \"in-sample\" and \"out-of-sample\" R-squared values can reveal the potential instability and variance in model performance, indicating sensitivity to overfitting or multicollinearity, especially if the \"out-of-sample\" performance is consistently lower than \"in-sample.\""
   ]
  },
  {
   "cell_type": "code",
   "execution_count": 134,
   "id": "98ce8905",
   "metadata": {},
   "outputs": [
    {
     "data": {
      "application/vnd.plotly.v1+json": {
       "config": {
        "plotlyServerURL": "https://plot.ly"
       },
       "data": [
        {
         "hovertemplate": "In Sample Performance (R-squared)=%{x}<br>Out of Sample Performance (R-squared)=%{y}<extra></extra>",
         "legendgroup": "",
         "marker": {
          "color": "#636efa",
          "symbol": "circle"
         },
         "mode": "markers",
         "name": "",
         "orientation": "v",
         "showlegend": false,
         "type": "scatter",
         "x": [
          0.1678367784811714,
          0.11063387541129288,
          0.2180252435846015,
          0.2247685059961666,
          0.1930648587344811,
          0.08736776568684879,
          0.23288670034407188,
          0.11838142587409073,
          0.21932073090607662,
          0.23395968115467036,
          0.18372275075966804,
          0.31027605307729755,
          0.17446272568439936,
          0.19454495605237732,
          0.20091261610892486,
          0.26171058427318694,
          0.21353066204339566,
          0.15303386396357765,
          0.2252228876996677,
          0.15264261160233272,
          0.21455739745509594,
          0.3131236042002644,
          0.11163091513197654,
          0.1954061237698429,
          0.11945135996017253,
          0.2286780432439801,
          0.1732312337122771,
          0.1058249717287656,
          0.16885281804993102,
          0.16181430196730628,
          0.1953575872715918,
          0.17491554267906861,
          0.1054652563081736,
          0.2919347991723632,
          0.19898400701944596,
          0.19317604994505944,
          0.12150909379820063,
          0.17241361286553225,
          0.10024983253580655,
          0.2033775584879346,
          0.1806803714163251,
          0.2703559187986564,
          0.17050873655238252,
          0.17148768769584422,
          0.16655780525172026,
          0.22634742861243717,
          0.21136421183179366,
          0.20670943192350366,
          0.18716718321093018,
          0.26324712646007764,
          0.18320225374344212,
          0.23694459428466652,
          0.25630615717920613,
          0.2716887637087,
          0.18205482280932384,
          0.1417595388461531,
          0.24198061060384424,
          0.17648764597980138,
          0.1496684828877648,
          0.2006304701237559,
          0.22886425932250987,
          0.15381251264049933,
          0.25389134510647726,
          0.11792735972745061,
          0.22429211012039973,
          0.2939251438246523,
          0.13060158478822026,
          0.22798833417562603,
          0.2447200668299837,
          0.19773583190707644,
          0.2673253617485081,
          0.2536299694216919,
          0.13752754334777673,
          0.15244343834795204,
          0.16138591281406034,
          0.33034811090554206,
          0.15213717679755456,
          0.15922989155807576,
          0.19670474961432105,
          0.1013319275571094,
          0.21810731762934843,
          0.1917559871631851,
          0.18744720091102907,
          0.25685201069064856,
          0.1805763884275715,
          0.2654183922468212,
          0.22547996051019692,
          0.15263476564557354,
          0.27827006302830604,
          0.1850585164778754,
          0.283819239015776,
          0.18707008077761345,
          0.27368626393049433,
          0.2589550969743548,
          0.22696009842826081,
          0.14093145549821828,
          0.2076279120058292,
          0.17647168814257885,
          0.15368856219507832,
          0.1984560661946062
         ],
         "xaxis": "x",
         "y": [
          0.1948197076339919,
          0.2883478435076266,
          0.14902036672601215,
          0.14307942781461164,
          0.17128114440359982,
          0.340183674099743,
          0.14055728978296694,
          0.2913106904229936,
          0.15071971059355105,
          0.13993854773144473,
          0.17981783523676212,
          0.10617286974105979,
          0.18273674831304793,
          0.16777865085331525,
          0.16202566977690658,
          0.12450789434483343,
          0.15075088470100162,
          0.21254639647753645,
          0.1459781637552776,
          0.21156860407399866,
          0.15570405101089,
          0.09151046146169464,
          0.29576284846282225,
          0.16979887013345624,
          0.2546563607405623,
          0.14235874061806125,
          0.17867403947628693,
          0.289085702365421,
          0.19628123415138615,
          0.20038624028026,
          0.1674521438003234,
          0.19050656937144053,
          0.28674745327647594,
          0.12158084790798176,
          0.15569845177543737,
          0.16952471330561295,
          0.2631872069074553,
          0.19225302864741842,
          0.32167588945876563,
          0.1616687510875496,
          0.18332481175245635,
          0.11891402573509363,
          0.19651974623394322,
          0.1901660869807868,
          0.19822264618370444,
          0.14292479667023117,
          0.15588284444926048,
          0.15480440831845851,
          0.16386533249787952,
          0.11226068097520854,
          0.18153808285015885,
          0.13331893164812003,
          0.12706400819819044,
          0.12140846017365449,
          0.18254047003955828,
          0.23184546045117999,
          0.13460381784706665,
          0.19053968212854389,
          0.22470209692537635,
          0.1577326423631332,
          0.14568919154868712,
          0.20304011854389617,
          0.12360405544137498,
          0.27859884563767306,
          0.13990675589999998,
          0.11251555799968249,
          0.25548816841152633,
          0.14867564858245805,
          0.1338246896809072,
          0.16506460907060239,
          0.11593590676729618,
          0.12793566224337305,
          0.23685207999416563,
          0.21218820306534386,
          0.19885526763604264,
          0.09536348289896675,
          0.2231686750492331,
          0.20611529913667484,
          0.16486321952751865,
          0.29286843046735395,
          0.15218662808080455,
          0.17352505099474122,
          0.17398616075380777,
          0.12842057445928068,
          0.1856242821515054,
          0.1256684962181535,
          0.1472713751259256,
          0.21548027653734342,
          0.11498581132243661,
          0.17743747258215758,
          0.11449679275374078,
          0.17538654146606958,
          0.10941778513246689,
          0.1267482495499478,
          0.1493407026238558,
          0.2276119962703254,
          0.16268136063116967,
          0.18935316310453698,
          0.21326138740887735,
          0.16875279206263563
         ],
         "yaxis": "y"
        },
        {
         "line": {
          "dash": "dash"
         },
         "mode": "lines",
         "name": "y=x",
         "type": "scatter",
         "x": [
          0,
          1
         ],
         "y": [
          0,
          1
         ]
        }
       ],
       "layout": {
        "legend": {
         "tracegroupgap": 0
        },
        "template": {
         "data": {
          "bar": [
           {
            "error_x": {
             "color": "#2a3f5f"
            },
            "error_y": {
             "color": "#2a3f5f"
            },
            "marker": {
             "line": {
              "color": "#E5ECF6",
              "width": 0.5
             },
             "pattern": {
              "fillmode": "overlay",
              "size": 10,
              "solidity": 0.2
             }
            },
            "type": "bar"
           }
          ],
          "barpolar": [
           {
            "marker": {
             "line": {
              "color": "#E5ECF6",
              "width": 0.5
             },
             "pattern": {
              "fillmode": "overlay",
              "size": 10,
              "solidity": 0.2
             }
            },
            "type": "barpolar"
           }
          ],
          "carpet": [
           {
            "aaxis": {
             "endlinecolor": "#2a3f5f",
             "gridcolor": "white",
             "linecolor": "white",
             "minorgridcolor": "white",
             "startlinecolor": "#2a3f5f"
            },
            "baxis": {
             "endlinecolor": "#2a3f5f",
             "gridcolor": "white",
             "linecolor": "white",
             "minorgridcolor": "white",
             "startlinecolor": "#2a3f5f"
            },
            "type": "carpet"
           }
          ],
          "choropleth": [
           {
            "colorbar": {
             "outlinewidth": 0,
             "ticks": ""
            },
            "type": "choropleth"
           }
          ],
          "contour": [
           {
            "colorbar": {
             "outlinewidth": 0,
             "ticks": ""
            },
            "colorscale": [
             [
              0,
              "#0d0887"
             ],
             [
              0.1111111111111111,
              "#46039f"
             ],
             [
              0.2222222222222222,
              "#7201a8"
             ],
             [
              0.3333333333333333,
              "#9c179e"
             ],
             [
              0.4444444444444444,
              "#bd3786"
             ],
             [
              0.5555555555555556,
              "#d8576b"
             ],
             [
              0.6666666666666666,
              "#ed7953"
             ],
             [
              0.7777777777777778,
              "#fb9f3a"
             ],
             [
              0.8888888888888888,
              "#fdca26"
             ],
             [
              1,
              "#f0f921"
             ]
            ],
            "type": "contour"
           }
          ],
          "contourcarpet": [
           {
            "colorbar": {
             "outlinewidth": 0,
             "ticks": ""
            },
            "type": "contourcarpet"
           }
          ],
          "heatmap": [
           {
            "colorbar": {
             "outlinewidth": 0,
             "ticks": ""
            },
            "colorscale": [
             [
              0,
              "#0d0887"
             ],
             [
              0.1111111111111111,
              "#46039f"
             ],
             [
              0.2222222222222222,
              "#7201a8"
             ],
             [
              0.3333333333333333,
              "#9c179e"
             ],
             [
              0.4444444444444444,
              "#bd3786"
             ],
             [
              0.5555555555555556,
              "#d8576b"
             ],
             [
              0.6666666666666666,
              "#ed7953"
             ],
             [
              0.7777777777777778,
              "#fb9f3a"
             ],
             [
              0.8888888888888888,
              "#fdca26"
             ],
             [
              1,
              "#f0f921"
             ]
            ],
            "type": "heatmap"
           }
          ],
          "heatmapgl": [
           {
            "colorbar": {
             "outlinewidth": 0,
             "ticks": ""
            },
            "colorscale": [
             [
              0,
              "#0d0887"
             ],
             [
              0.1111111111111111,
              "#46039f"
             ],
             [
              0.2222222222222222,
              "#7201a8"
             ],
             [
              0.3333333333333333,
              "#9c179e"
             ],
             [
              0.4444444444444444,
              "#bd3786"
             ],
             [
              0.5555555555555556,
              "#d8576b"
             ],
             [
              0.6666666666666666,
              "#ed7953"
             ],
             [
              0.7777777777777778,
              "#fb9f3a"
             ],
             [
              0.8888888888888888,
              "#fdca26"
             ],
             [
              1,
              "#f0f921"
             ]
            ],
            "type": "heatmapgl"
           }
          ],
          "histogram": [
           {
            "marker": {
             "pattern": {
              "fillmode": "overlay",
              "size": 10,
              "solidity": 0.2
             }
            },
            "type": "histogram"
           }
          ],
          "histogram2d": [
           {
            "colorbar": {
             "outlinewidth": 0,
             "ticks": ""
            },
            "colorscale": [
             [
              0,
              "#0d0887"
             ],
             [
              0.1111111111111111,
              "#46039f"
             ],
             [
              0.2222222222222222,
              "#7201a8"
             ],
             [
              0.3333333333333333,
              "#9c179e"
             ],
             [
              0.4444444444444444,
              "#bd3786"
             ],
             [
              0.5555555555555556,
              "#d8576b"
             ],
             [
              0.6666666666666666,
              "#ed7953"
             ],
             [
              0.7777777777777778,
              "#fb9f3a"
             ],
             [
              0.8888888888888888,
              "#fdca26"
             ],
             [
              1,
              "#f0f921"
             ]
            ],
            "type": "histogram2d"
           }
          ],
          "histogram2dcontour": [
           {
            "colorbar": {
             "outlinewidth": 0,
             "ticks": ""
            },
            "colorscale": [
             [
              0,
              "#0d0887"
             ],
             [
              0.1111111111111111,
              "#46039f"
             ],
             [
              0.2222222222222222,
              "#7201a8"
             ],
             [
              0.3333333333333333,
              "#9c179e"
             ],
             [
              0.4444444444444444,
              "#bd3786"
             ],
             [
              0.5555555555555556,
              "#d8576b"
             ],
             [
              0.6666666666666666,
              "#ed7953"
             ],
             [
              0.7777777777777778,
              "#fb9f3a"
             ],
             [
              0.8888888888888888,
              "#fdca26"
             ],
             [
              1,
              "#f0f921"
             ]
            ],
            "type": "histogram2dcontour"
           }
          ],
          "mesh3d": [
           {
            "colorbar": {
             "outlinewidth": 0,
             "ticks": ""
            },
            "type": "mesh3d"
           }
          ],
          "parcoords": [
           {
            "line": {
             "colorbar": {
              "outlinewidth": 0,
              "ticks": ""
             }
            },
            "type": "parcoords"
           }
          ],
          "pie": [
           {
            "automargin": true,
            "type": "pie"
           }
          ],
          "scatter": [
           {
            "fillpattern": {
             "fillmode": "overlay",
             "size": 10,
             "solidity": 0.2
            },
            "type": "scatter"
           }
          ],
          "scatter3d": [
           {
            "line": {
             "colorbar": {
              "outlinewidth": 0,
              "ticks": ""
             }
            },
            "marker": {
             "colorbar": {
              "outlinewidth": 0,
              "ticks": ""
             }
            },
            "type": "scatter3d"
           }
          ],
          "scattercarpet": [
           {
            "marker": {
             "colorbar": {
              "outlinewidth": 0,
              "ticks": ""
             }
            },
            "type": "scattercarpet"
           }
          ],
          "scattergeo": [
           {
            "marker": {
             "colorbar": {
              "outlinewidth": 0,
              "ticks": ""
             }
            },
            "type": "scattergeo"
           }
          ],
          "scattergl": [
           {
            "marker": {
             "colorbar": {
              "outlinewidth": 0,
              "ticks": ""
             }
            },
            "type": "scattergl"
           }
          ],
          "scattermapbox": [
           {
            "marker": {
             "colorbar": {
              "outlinewidth": 0,
              "ticks": ""
             }
            },
            "type": "scattermapbox"
           }
          ],
          "scatterpolar": [
           {
            "marker": {
             "colorbar": {
              "outlinewidth": 0,
              "ticks": ""
             }
            },
            "type": "scatterpolar"
           }
          ],
          "scatterpolargl": [
           {
            "marker": {
             "colorbar": {
              "outlinewidth": 0,
              "ticks": ""
             }
            },
            "type": "scatterpolargl"
           }
          ],
          "scatterternary": [
           {
            "marker": {
             "colorbar": {
              "outlinewidth": 0,
              "ticks": ""
             }
            },
            "type": "scatterternary"
           }
          ],
          "surface": [
           {
            "colorbar": {
             "outlinewidth": 0,
             "ticks": ""
            },
            "colorscale": [
             [
              0,
              "#0d0887"
             ],
             [
              0.1111111111111111,
              "#46039f"
             ],
             [
              0.2222222222222222,
              "#7201a8"
             ],
             [
              0.3333333333333333,
              "#9c179e"
             ],
             [
              0.4444444444444444,
              "#bd3786"
             ],
             [
              0.5555555555555556,
              "#d8576b"
             ],
             [
              0.6666666666666666,
              "#ed7953"
             ],
             [
              0.7777777777777778,
              "#fb9f3a"
             ],
             [
              0.8888888888888888,
              "#fdca26"
             ],
             [
              1,
              "#f0f921"
             ]
            ],
            "type": "surface"
           }
          ],
          "table": [
           {
            "cells": {
             "fill": {
              "color": "#EBF0F8"
             },
             "line": {
              "color": "white"
             }
            },
            "header": {
             "fill": {
              "color": "#C8D4E3"
             },
             "line": {
              "color": "white"
             }
            },
            "type": "table"
           }
          ]
         },
         "layout": {
          "annotationdefaults": {
           "arrowcolor": "#2a3f5f",
           "arrowhead": 0,
           "arrowwidth": 1
          },
          "autotypenumbers": "strict",
          "coloraxis": {
           "colorbar": {
            "outlinewidth": 0,
            "ticks": ""
           }
          },
          "colorscale": {
           "diverging": [
            [
             0,
             "#8e0152"
            ],
            [
             0.1,
             "#c51b7d"
            ],
            [
             0.2,
             "#de77ae"
            ],
            [
             0.3,
             "#f1b6da"
            ],
            [
             0.4,
             "#fde0ef"
            ],
            [
             0.5,
             "#f7f7f7"
            ],
            [
             0.6,
             "#e6f5d0"
            ],
            [
             0.7,
             "#b8e186"
            ],
            [
             0.8,
             "#7fbc41"
            ],
            [
             0.9,
             "#4d9221"
            ],
            [
             1,
             "#276419"
            ]
           ],
           "sequential": [
            [
             0,
             "#0d0887"
            ],
            [
             0.1111111111111111,
             "#46039f"
            ],
            [
             0.2222222222222222,
             "#7201a8"
            ],
            [
             0.3333333333333333,
             "#9c179e"
            ],
            [
             0.4444444444444444,
             "#bd3786"
            ],
            [
             0.5555555555555556,
             "#d8576b"
            ],
            [
             0.6666666666666666,
             "#ed7953"
            ],
            [
             0.7777777777777778,
             "#fb9f3a"
            ],
            [
             0.8888888888888888,
             "#fdca26"
            ],
            [
             1,
             "#f0f921"
            ]
           ],
           "sequentialminus": [
            [
             0,
             "#0d0887"
            ],
            [
             0.1111111111111111,
             "#46039f"
            ],
            [
             0.2222222222222222,
             "#7201a8"
            ],
            [
             0.3333333333333333,
             "#9c179e"
            ],
            [
             0.4444444444444444,
             "#bd3786"
            ],
            [
             0.5555555555555556,
             "#d8576b"
            ],
            [
             0.6666666666666666,
             "#ed7953"
            ],
            [
             0.7777777777777778,
             "#fb9f3a"
            ],
            [
             0.8888888888888888,
             "#fdca26"
            ],
            [
             1,
             "#f0f921"
            ]
           ]
          },
          "colorway": [
           "#636efa",
           "#EF553B",
           "#00cc96",
           "#ab63fa",
           "#FFA15A",
           "#19d3f3",
           "#FF6692",
           "#B6E880",
           "#FF97FF",
           "#FECB52"
          ],
          "font": {
           "color": "#2a3f5f"
          },
          "geo": {
           "bgcolor": "white",
           "lakecolor": "white",
           "landcolor": "#E5ECF6",
           "showlakes": true,
           "showland": true,
           "subunitcolor": "white"
          },
          "hoverlabel": {
           "align": "left"
          },
          "hovermode": "closest",
          "mapbox": {
           "style": "light"
          },
          "paper_bgcolor": "white",
          "plot_bgcolor": "#E5ECF6",
          "polar": {
           "angularaxis": {
            "gridcolor": "white",
            "linecolor": "white",
            "ticks": ""
           },
           "bgcolor": "#E5ECF6",
           "radialaxis": {
            "gridcolor": "white",
            "linecolor": "white",
            "ticks": ""
           }
          },
          "scene": {
           "xaxis": {
            "backgroundcolor": "#E5ECF6",
            "gridcolor": "white",
            "gridwidth": 2,
            "linecolor": "white",
            "showbackground": true,
            "ticks": "",
            "zerolinecolor": "white"
           },
           "yaxis": {
            "backgroundcolor": "#E5ECF6",
            "gridcolor": "white",
            "gridwidth": 2,
            "linecolor": "white",
            "showbackground": true,
            "ticks": "",
            "zerolinecolor": "white"
           },
           "zaxis": {
            "backgroundcolor": "#E5ECF6",
            "gridcolor": "white",
            "gridwidth": 2,
            "linecolor": "white",
            "showbackground": true,
            "ticks": "",
            "zerolinecolor": "white"
           }
          },
          "shapedefaults": {
           "line": {
            "color": "#2a3f5f"
           }
          },
          "ternary": {
           "aaxis": {
            "gridcolor": "white",
            "linecolor": "white",
            "ticks": ""
           },
           "baxis": {
            "gridcolor": "white",
            "linecolor": "white",
            "ticks": ""
           },
           "bgcolor": "#E5ECF6",
           "caxis": {
            "gridcolor": "white",
            "linecolor": "white",
            "ticks": ""
           }
          },
          "title": {
           "x": 0.05
          },
          "xaxis": {
           "automargin": true,
           "gridcolor": "white",
           "linecolor": "white",
           "ticks": "",
           "title": {
            "standoff": 15
           },
           "zerolinecolor": "white",
           "zerolinewidth": 2
          },
          "yaxis": {
           "automargin": true,
           "gridcolor": "white",
           "linecolor": "white",
           "ticks": "",
           "title": {
            "standoff": 15
           },
           "zerolinecolor": "white",
           "zerolinewidth": 2
          }
         }
        },
        "title": {
         "text": "In-Sample vs Out-of-Sample R-squared Performance"
        },
        "xaxis": {
         "anchor": "y",
         "domain": [
          0,
          1
         ],
         "title": {
          "text": "In Sample Performance (R-squared)"
         }
        },
        "yaxis": {
         "anchor": "x",
         "domain": [
          0,
          1
         ],
         "title": {
          "text": "Out of Sample Performance (R-squared)"
         }
        }
       }
      },
      "text/html": [
       "<div>                            <div id=\"a7cc2a0c-9290-4caf-99fa-159cf676c299\" class=\"plotly-graph-div\" style=\"height:525px; width:100%;\"></div>            <script type=\"text/javascript\">                require([\"plotly\"], function(Plotly) {                    window.PLOTLYENV=window.PLOTLYENV || {};                                    if (document.getElementById(\"a7cc2a0c-9290-4caf-99fa-159cf676c299\")) {                    Plotly.newPlot(                        \"a7cc2a0c-9290-4caf-99fa-159cf676c299\",                        [{\"hovertemplate\":\"In Sample Performance (R-squared)=%{x}\\u003cbr\\u003eOut of Sample Performance (R-squared)=%{y}\\u003cextra\\u003e\\u003c\\u002fextra\\u003e\",\"legendgroup\":\"\",\"marker\":{\"color\":\"#636efa\",\"symbol\":\"circle\"},\"mode\":\"markers\",\"name\":\"\",\"orientation\":\"v\",\"showlegend\":false,\"x\":[0.1678367784811714,0.11063387541129288,0.2180252435846015,0.2247685059961666,0.1930648587344811,0.08736776568684879,0.23288670034407188,0.11838142587409073,0.21932073090607662,0.23395968115467036,0.18372275075966804,0.31027605307729755,0.17446272568439936,0.19454495605237732,0.20091261610892486,0.26171058427318694,0.21353066204339566,0.15303386396357765,0.2252228876996677,0.15264261160233272,0.21455739745509594,0.3131236042002644,0.11163091513197654,0.1954061237698429,0.11945135996017253,0.2286780432439801,0.1732312337122771,0.1058249717287656,0.16885281804993102,0.16181430196730628,0.1953575872715918,0.17491554267906861,0.1054652563081736,0.2919347991723632,0.19898400701944596,0.19317604994505944,0.12150909379820063,0.17241361286553225,0.10024983253580655,0.2033775584879346,0.1806803714163251,0.2703559187986564,0.17050873655238252,0.17148768769584422,0.16655780525172026,0.22634742861243717,0.21136421183179366,0.20670943192350366,0.18716718321093018,0.26324712646007764,0.18320225374344212,0.23694459428466652,0.25630615717920613,0.2716887637087,0.18205482280932384,0.1417595388461531,0.24198061060384424,0.17648764597980138,0.1496684828877648,0.2006304701237559,0.22886425932250987,0.15381251264049933,0.25389134510647726,0.11792735972745061,0.22429211012039973,0.2939251438246523,0.13060158478822026,0.22798833417562603,0.2447200668299837,0.19773583190707644,0.2673253617485081,0.2536299694216919,0.13752754334777673,0.15244343834795204,0.16138591281406034,0.33034811090554206,0.15213717679755456,0.15922989155807576,0.19670474961432105,0.1013319275571094,0.21810731762934843,0.1917559871631851,0.18744720091102907,0.25685201069064856,0.1805763884275715,0.2654183922468212,0.22547996051019692,0.15263476564557354,0.27827006302830604,0.1850585164778754,0.283819239015776,0.18707008077761345,0.27368626393049433,0.2589550969743548,0.22696009842826081,0.14093145549821828,0.2076279120058292,0.17647168814257885,0.15368856219507832,0.1984560661946062],\"xaxis\":\"x\",\"y\":[0.1948197076339919,0.2883478435076266,0.14902036672601215,0.14307942781461164,0.17128114440359982,0.340183674099743,0.14055728978296694,0.2913106904229936,0.15071971059355105,0.13993854773144473,0.17981783523676212,0.10617286974105979,0.18273674831304793,0.16777865085331525,0.16202566977690658,0.12450789434483343,0.15075088470100162,0.21254639647753645,0.1459781637552776,0.21156860407399866,0.15570405101089,0.09151046146169464,0.29576284846282225,0.16979887013345624,0.2546563607405623,0.14235874061806125,0.17867403947628693,0.289085702365421,0.19628123415138615,0.20038624028026,0.1674521438003234,0.19050656937144053,0.28674745327647594,0.12158084790798176,0.15569845177543737,0.16952471330561295,0.2631872069074553,0.19225302864741842,0.32167588945876563,0.1616687510875496,0.18332481175245635,0.11891402573509363,0.19651974623394322,0.1901660869807868,0.19822264618370444,0.14292479667023117,0.15588284444926048,0.15480440831845851,0.16386533249787952,0.11226068097520854,0.18153808285015885,0.13331893164812003,0.12706400819819044,0.12140846017365449,0.18254047003955828,0.23184546045117999,0.13460381784706665,0.19053968212854389,0.22470209692537635,0.1577326423631332,0.14568919154868712,0.20304011854389617,0.12360405544137498,0.27859884563767306,0.13990675589999998,0.11251555799968249,0.25548816841152633,0.14867564858245805,0.1338246896809072,0.16506460907060239,0.11593590676729618,0.12793566224337305,0.23685207999416563,0.21218820306534386,0.19885526763604264,0.09536348289896675,0.2231686750492331,0.20611529913667484,0.16486321952751865,0.29286843046735395,0.15218662808080455,0.17352505099474122,0.17398616075380777,0.12842057445928068,0.1856242821515054,0.1256684962181535,0.1472713751259256,0.21548027653734342,0.11498581132243661,0.17743747258215758,0.11449679275374078,0.17538654146606958,0.10941778513246689,0.1267482495499478,0.1493407026238558,0.2276119962703254,0.16268136063116967,0.18935316310453698,0.21326138740887735,0.16875279206263563],\"yaxis\":\"y\",\"type\":\"scatter\"},{\"line\":{\"dash\":\"dash\"},\"mode\":\"lines\",\"name\":\"y=x\",\"x\":[0,1],\"y\":[0,1],\"type\":\"scatter\"}],                        {\"template\":{\"data\":{\"histogram2dcontour\":[{\"type\":\"histogram2dcontour\",\"colorbar\":{\"outlinewidth\":0,\"ticks\":\"\"},\"colorscale\":[[0.0,\"#0d0887\"],[0.1111111111111111,\"#46039f\"],[0.2222222222222222,\"#7201a8\"],[0.3333333333333333,\"#9c179e\"],[0.4444444444444444,\"#bd3786\"],[0.5555555555555556,\"#d8576b\"],[0.6666666666666666,\"#ed7953\"],[0.7777777777777778,\"#fb9f3a\"],[0.8888888888888888,\"#fdca26\"],[1.0,\"#f0f921\"]]}],\"choropleth\":[{\"type\":\"choropleth\",\"colorbar\":{\"outlinewidth\":0,\"ticks\":\"\"}}],\"histogram2d\":[{\"type\":\"histogram2d\",\"colorbar\":{\"outlinewidth\":0,\"ticks\":\"\"},\"colorscale\":[[0.0,\"#0d0887\"],[0.1111111111111111,\"#46039f\"],[0.2222222222222222,\"#7201a8\"],[0.3333333333333333,\"#9c179e\"],[0.4444444444444444,\"#bd3786\"],[0.5555555555555556,\"#d8576b\"],[0.6666666666666666,\"#ed7953\"],[0.7777777777777778,\"#fb9f3a\"],[0.8888888888888888,\"#fdca26\"],[1.0,\"#f0f921\"]]}],\"heatmap\":[{\"type\":\"heatmap\",\"colorbar\":{\"outlinewidth\":0,\"ticks\":\"\"},\"colorscale\":[[0.0,\"#0d0887\"],[0.1111111111111111,\"#46039f\"],[0.2222222222222222,\"#7201a8\"],[0.3333333333333333,\"#9c179e\"],[0.4444444444444444,\"#bd3786\"],[0.5555555555555556,\"#d8576b\"],[0.6666666666666666,\"#ed7953\"],[0.7777777777777778,\"#fb9f3a\"],[0.8888888888888888,\"#fdca26\"],[1.0,\"#f0f921\"]]}],\"heatmapgl\":[{\"type\":\"heatmapgl\",\"colorbar\":{\"outlinewidth\":0,\"ticks\":\"\"},\"colorscale\":[[0.0,\"#0d0887\"],[0.1111111111111111,\"#46039f\"],[0.2222222222222222,\"#7201a8\"],[0.3333333333333333,\"#9c179e\"],[0.4444444444444444,\"#bd3786\"],[0.5555555555555556,\"#d8576b\"],[0.6666666666666666,\"#ed7953\"],[0.7777777777777778,\"#fb9f3a\"],[0.8888888888888888,\"#fdca26\"],[1.0,\"#f0f921\"]]}],\"contourcarpet\":[{\"type\":\"contourcarpet\",\"colorbar\":{\"outlinewidth\":0,\"ticks\":\"\"}}],\"contour\":[{\"type\":\"contour\",\"colorbar\":{\"outlinewidth\":0,\"ticks\":\"\"},\"colorscale\":[[0.0,\"#0d0887\"],[0.1111111111111111,\"#46039f\"],[0.2222222222222222,\"#7201a8\"],[0.3333333333333333,\"#9c179e\"],[0.4444444444444444,\"#bd3786\"],[0.5555555555555556,\"#d8576b\"],[0.6666666666666666,\"#ed7953\"],[0.7777777777777778,\"#fb9f3a\"],[0.8888888888888888,\"#fdca26\"],[1.0,\"#f0f921\"]]}],\"surface\":[{\"type\":\"surface\",\"colorbar\":{\"outlinewidth\":0,\"ticks\":\"\"},\"colorscale\":[[0.0,\"#0d0887\"],[0.1111111111111111,\"#46039f\"],[0.2222222222222222,\"#7201a8\"],[0.3333333333333333,\"#9c179e\"],[0.4444444444444444,\"#bd3786\"],[0.5555555555555556,\"#d8576b\"],[0.6666666666666666,\"#ed7953\"],[0.7777777777777778,\"#fb9f3a\"],[0.8888888888888888,\"#fdca26\"],[1.0,\"#f0f921\"]]}],\"mesh3d\":[{\"type\":\"mesh3d\",\"colorbar\":{\"outlinewidth\":0,\"ticks\":\"\"}}],\"scatter\":[{\"fillpattern\":{\"fillmode\":\"overlay\",\"size\":10,\"solidity\":0.2},\"type\":\"scatter\"}],\"parcoords\":[{\"type\":\"parcoords\",\"line\":{\"colorbar\":{\"outlinewidth\":0,\"ticks\":\"\"}}}],\"scatterpolargl\":[{\"type\":\"scatterpolargl\",\"marker\":{\"colorbar\":{\"outlinewidth\":0,\"ticks\":\"\"}}}],\"bar\":[{\"error_x\":{\"color\":\"#2a3f5f\"},\"error_y\":{\"color\":\"#2a3f5f\"},\"marker\":{\"line\":{\"color\":\"#E5ECF6\",\"width\":0.5},\"pattern\":{\"fillmode\":\"overlay\",\"size\":10,\"solidity\":0.2}},\"type\":\"bar\"}],\"scattergeo\":[{\"type\":\"scattergeo\",\"marker\":{\"colorbar\":{\"outlinewidth\":0,\"ticks\":\"\"}}}],\"scatterpolar\":[{\"type\":\"scatterpolar\",\"marker\":{\"colorbar\":{\"outlinewidth\":0,\"ticks\":\"\"}}}],\"histogram\":[{\"marker\":{\"pattern\":{\"fillmode\":\"overlay\",\"size\":10,\"solidity\":0.2}},\"type\":\"histogram\"}],\"scattergl\":[{\"type\":\"scattergl\",\"marker\":{\"colorbar\":{\"outlinewidth\":0,\"ticks\":\"\"}}}],\"scatter3d\":[{\"type\":\"scatter3d\",\"line\":{\"colorbar\":{\"outlinewidth\":0,\"ticks\":\"\"}},\"marker\":{\"colorbar\":{\"outlinewidth\":0,\"ticks\":\"\"}}}],\"scattermapbox\":[{\"type\":\"scattermapbox\",\"marker\":{\"colorbar\":{\"outlinewidth\":0,\"ticks\":\"\"}}}],\"scatterternary\":[{\"type\":\"scatterternary\",\"marker\":{\"colorbar\":{\"outlinewidth\":0,\"ticks\":\"\"}}}],\"scattercarpet\":[{\"type\":\"scattercarpet\",\"marker\":{\"colorbar\":{\"outlinewidth\":0,\"ticks\":\"\"}}}],\"carpet\":[{\"aaxis\":{\"endlinecolor\":\"#2a3f5f\",\"gridcolor\":\"white\",\"linecolor\":\"white\",\"minorgridcolor\":\"white\",\"startlinecolor\":\"#2a3f5f\"},\"baxis\":{\"endlinecolor\":\"#2a3f5f\",\"gridcolor\":\"white\",\"linecolor\":\"white\",\"minorgridcolor\":\"white\",\"startlinecolor\":\"#2a3f5f\"},\"type\":\"carpet\"}],\"table\":[{\"cells\":{\"fill\":{\"color\":\"#EBF0F8\"},\"line\":{\"color\":\"white\"}},\"header\":{\"fill\":{\"color\":\"#C8D4E3\"},\"line\":{\"color\":\"white\"}},\"type\":\"table\"}],\"barpolar\":[{\"marker\":{\"line\":{\"color\":\"#E5ECF6\",\"width\":0.5},\"pattern\":{\"fillmode\":\"overlay\",\"size\":10,\"solidity\":0.2}},\"type\":\"barpolar\"}],\"pie\":[{\"automargin\":true,\"type\":\"pie\"}]},\"layout\":{\"autotypenumbers\":\"strict\",\"colorway\":[\"#636efa\",\"#EF553B\",\"#00cc96\",\"#ab63fa\",\"#FFA15A\",\"#19d3f3\",\"#FF6692\",\"#B6E880\",\"#FF97FF\",\"#FECB52\"],\"font\":{\"color\":\"#2a3f5f\"},\"hovermode\":\"closest\",\"hoverlabel\":{\"align\":\"left\"},\"paper_bgcolor\":\"white\",\"plot_bgcolor\":\"#E5ECF6\",\"polar\":{\"bgcolor\":\"#E5ECF6\",\"angularaxis\":{\"gridcolor\":\"white\",\"linecolor\":\"white\",\"ticks\":\"\"},\"radialaxis\":{\"gridcolor\":\"white\",\"linecolor\":\"white\",\"ticks\":\"\"}},\"ternary\":{\"bgcolor\":\"#E5ECF6\",\"aaxis\":{\"gridcolor\":\"white\",\"linecolor\":\"white\",\"ticks\":\"\"},\"baxis\":{\"gridcolor\":\"white\",\"linecolor\":\"white\",\"ticks\":\"\"},\"caxis\":{\"gridcolor\":\"white\",\"linecolor\":\"white\",\"ticks\":\"\"}},\"coloraxis\":{\"colorbar\":{\"outlinewidth\":0,\"ticks\":\"\"}},\"colorscale\":{\"sequential\":[[0.0,\"#0d0887\"],[0.1111111111111111,\"#46039f\"],[0.2222222222222222,\"#7201a8\"],[0.3333333333333333,\"#9c179e\"],[0.4444444444444444,\"#bd3786\"],[0.5555555555555556,\"#d8576b\"],[0.6666666666666666,\"#ed7953\"],[0.7777777777777778,\"#fb9f3a\"],[0.8888888888888888,\"#fdca26\"],[1.0,\"#f0f921\"]],\"sequentialminus\":[[0.0,\"#0d0887\"],[0.1111111111111111,\"#46039f\"],[0.2222222222222222,\"#7201a8\"],[0.3333333333333333,\"#9c179e\"],[0.4444444444444444,\"#bd3786\"],[0.5555555555555556,\"#d8576b\"],[0.6666666666666666,\"#ed7953\"],[0.7777777777777778,\"#fb9f3a\"],[0.8888888888888888,\"#fdca26\"],[1.0,\"#f0f921\"]],\"diverging\":[[0,\"#8e0152\"],[0.1,\"#c51b7d\"],[0.2,\"#de77ae\"],[0.3,\"#f1b6da\"],[0.4,\"#fde0ef\"],[0.5,\"#f7f7f7\"],[0.6,\"#e6f5d0\"],[0.7,\"#b8e186\"],[0.8,\"#7fbc41\"],[0.9,\"#4d9221\"],[1,\"#276419\"]]},\"xaxis\":{\"gridcolor\":\"white\",\"linecolor\":\"white\",\"ticks\":\"\",\"title\":{\"standoff\":15},\"zerolinecolor\":\"white\",\"automargin\":true,\"zerolinewidth\":2},\"yaxis\":{\"gridcolor\":\"white\",\"linecolor\":\"white\",\"ticks\":\"\",\"title\":{\"standoff\":15},\"zerolinecolor\":\"white\",\"automargin\":true,\"zerolinewidth\":2},\"scene\":{\"xaxis\":{\"backgroundcolor\":\"#E5ECF6\",\"gridcolor\":\"white\",\"linecolor\":\"white\",\"showbackground\":true,\"ticks\":\"\",\"zerolinecolor\":\"white\",\"gridwidth\":2},\"yaxis\":{\"backgroundcolor\":\"#E5ECF6\",\"gridcolor\":\"white\",\"linecolor\":\"white\",\"showbackground\":true,\"ticks\":\"\",\"zerolinecolor\":\"white\",\"gridwidth\":2},\"zaxis\":{\"backgroundcolor\":\"#E5ECF6\",\"gridcolor\":\"white\",\"linecolor\":\"white\",\"showbackground\":true,\"ticks\":\"\",\"zerolinecolor\":\"white\",\"gridwidth\":2}},\"shapedefaults\":{\"line\":{\"color\":\"#2a3f5f\"}},\"annotationdefaults\":{\"arrowcolor\":\"#2a3f5f\",\"arrowhead\":0,\"arrowwidth\":1},\"geo\":{\"bgcolor\":\"white\",\"landcolor\":\"#E5ECF6\",\"subunitcolor\":\"white\",\"showland\":true,\"showlakes\":true,\"lakecolor\":\"white\"},\"title\":{\"x\":0.05},\"mapbox\":{\"style\":\"light\"}}},\"xaxis\":{\"anchor\":\"y\",\"domain\":[0.0,1.0],\"title\":{\"text\":\"In Sample Performance (R-squared)\"}},\"yaxis\":{\"anchor\":\"x\",\"domain\":[0.0,1.0],\"title\":{\"text\":\"Out of Sample Performance (R-squared)\"}},\"legend\":{\"tracegroupgap\":0},\"title\":{\"text\":\"In-Sample vs Out-of-Sample R-squared Performance\"}},                        {\"responsive\": true}                    ).then(function(){\n",
       "                            \n",
       "var gd = document.getElementById('a7cc2a0c-9290-4caf-99fa-159cf676c299');\n",
       "var x = new MutationObserver(function (mutations, observer) {{\n",
       "        var display = window.getComputedStyle(gd).display;\n",
       "        if (!display || display === 'none') {{\n",
       "            console.log([gd, 'removed!']);\n",
       "            Plotly.purge(gd);\n",
       "            observer.disconnect();\n",
       "        }}\n",
       "}});\n",
       "\n",
       "// Listen for the removal of the full notebook cells\n",
       "var notebookContainer = gd.closest('#notebook-container');\n",
       "if (notebookContainer) {{\n",
       "    x.observe(notebookContainer, {childList: true});\n",
       "}}\n",
       "\n",
       "// Listen for the clearing of the current output cell\n",
       "var outputEl = gd.closest('.output');\n",
       "if (outputEl) {{\n",
       "    x.observe(outputEl, {childList: true});\n",
       "}}\n",
       "\n",
       "                        })                };                });            </script>        </div>"
      ]
     },
     "metadata": {},
     "output_type": "display_data"
    }
   ],
   "source": [
    "import pandas as pd\n",
    "import numpy as np\n",
    "import statsmodels.formula.api as smf\n",
    "from sklearn.model_selection import train_test_split\n",
    "import plotly.express as px\n",
    "import plotly.graph_objects as go\n",
    "\n",
    "# Load the Pokémon dataset\n",
    "url = \"https://raw.githubusercontent.com/KeithGalli/pandas/master/pokemon_data.csv\"\n",
    "pokemon_data = pd.read_csv(url)\n",
    "\n",
    "# Set model formula (use model3 for simpler specifications initially)\n",
    "model_formula = 'HP ~ Attack + Defense'\n",
    "\n",
    "# Number of repetitions\n",
    "reps = 100\n",
    "in_sample_Rsquared = np.zeros(reps)\n",
    "out_of_sample_Rsquared = np.zeros(reps)\n",
    "\n",
    "# Run loop to repeatedly split data, fit model, and calculate R-squared values\n",
    "for i in range(reps):\n",
    "    # Split the data into 50-50 train-test split without random seed\n",
    "    train_data, test_data = train_test_split(pokemon_data, test_size=0.5)\n",
    "    \n",
    "    # Fit the model on the training data\n",
    "    model_fit = smf.ols(formula=model_formula, data=train_data).fit()\n",
    "    \n",
    "    # \"In-sample\" R-squared\n",
    "    in_sample_Rsquared[i] = model_fit.rsquared\n",
    "    \n",
    "    # \"Out-of-sample\" R-squared, based on correlation between actual and predicted HP in test set\n",
    "    out_of_sample_Rsquared[i] = np.corrcoef(test_data['HP'], model_fit.predict(test_data))[0, 1] ** 2\n",
    "\n",
    "# Create DataFrame for plotting\n",
    "df = pd.DataFrame({\n",
    "    \"In Sample Performance (R-squared)\": in_sample_Rsquared,\n",
    "    \"Out of Sample Performance (R-squared)\": out_of_sample_Rsquared\n",
    "})\n",
    "\n",
    "# Plot the results\n",
    "fig = px.scatter(df, x=\"In Sample Performance (R-squared)\", y=\"Out of Sample Performance (R-squared)\",\n",
    "                 title=\"In-Sample vs Out-of-Sample R-squared Performance\")\n",
    "fig.add_trace(go.Scatter(x=[0, 1], y=[0, 1], mode=\"lines\", name=\"y=x\", line=dict(dash=\"dash\")))\n",
    "\n",
    "fig.show()\n"
   ]
  },
  {
   "cell_type": "markdown",
   "id": "48308106",
   "metadata": {},
   "source": [
    "## Interpretation of Results:\n",
    "\n",
    "#### 1. Fluctuations in R-squared Values:\n",
    "Each iteration produces different \"in-sample\" and \"out-of-sample\" R-squared values due to the random split of training and testing data. These fluctuations reflect the model’s sensitivity to sample variance—especially if there are significant shifts between \"in-sample\" and \"out-of-sample\" performance.\n",
    "\n",
    "#### 2. Identifying Overfitting Patterns:\n",
    "If \"in-sample\" R-squared values are consistently higher than \"out-of-sample\" R-squared, this suggests that the model may be overfitting, learning specific patterns from the training data that do not generalize well.\n",
    "\n",
    "#### 3. Visual Analysis for Stability:\n",
    "By plotting the R-squared values, we can observe how closely they follow the y=x line. A model that generalizes well will have points closer to this line, indicating that both \"in-sample\" and \"out-of-sample\" performances are similar.\n",
    "\n",
    "#### 4. Purpose of the Demonstration:\n",
    "This exercise highlights the importance of assessing a model’s stability across different data samples. Observing consistent \"out-of-sample\" performance closer to \"in-sample\" performance suggests better generalizability, while significant drops reveal areas where the model may rely too heavily on specific data patterns, potentially due to multicollinearity or model complexity."
   ]
  },
  {
   "cell_type": "markdown",
   "id": "98dcb44f",
   "metadata": {},
   "source": [
    "# ChatGPT Summary:\n",
    "\n",
    "1. **Understanding Model Complexity and Overfitting**: We discussed how a complex model (like `model4_fit`) with high multicollinearity may overfit the training data due to capturing spurious patterns. We looked at the importance of a simpler model (like `model3_fit`) for better generalization, as it is less likely to model noise specific to the training dataset.\n",
    "\n",
    "2. **Implementing Multiple Model Performance Metrics**: Following instructions to assess model generalizability, we explored a for-loop approach. This loop performs repeated 50-50 train-test splits of the Pokémon dataset to generate and collect \"in-sample\" and \"out-of-sample\" R-squared values, allowing observation of how well a simpler model specification generalizes to new data. We used Plotly to visualize the relationship between these metrics.\n",
    "\n",
    "3. **Dataset Loading Issue**: You encountered an error (`NameError: name 'pokemon_data' is not defined`) when running the loop. To resolve this, we reloaded the Pokémon dataset from the specified URL into the variable `pokemon_data` and successfully ran the loop with the updated code.\n",
    "\n",
    "4. **Final Visualization**: We created a scatter plot of in-sample versus out-of-sample R-squared values with a reference line (y=x) to visualize and interpret model generalizability. "
   ]
  },
  {
   "cell_type": "markdown",
   "id": "2c2c05c7",
   "metadata": {},
   "source": [
    "# 9"
   ]
  },
  {
   "cell_type": "code",
   "execution_count": 135,
   "id": "2d8a8b88",
   "metadata": {},
   "outputs": [
    {
     "name": "stdout",
     "output_type": "stream",
     "text": [
      "'In sample' R-squared:     0.26967828636457025 (original)\n",
      "'Out of sample' R-squared: 0.29225032475756824 (original)\n",
      "'In sample' R-squared:     0.3482687905833055 (gen1_predict_future)\n",
      "'Out of sample' R-squared: 0.14658589956997625 (gen1_predict_future)\n"
     ]
    }
   ],
   "source": [
    "# Ensure model7_linear_form is defined first\n",
    "model7_linear_form = 'HP ~ Attack + Speed + Q(\"Sp. Def\") + Q(\"Sp. Atk\")'  # Adjust this according to your dataset\n",
    "\n",
    "# Fit the original model (model7_fit) with the full dataset\n",
    "model7_fit = smf.ols(formula=model7_linear_form, data=pokeaman).fit()\n",
    "\n",
    "# Generate predictions (yhat_model7) for pokeaman_test data\n",
    "yhat_model7 = model7_fit.predict(pokeaman_test)\n",
    "\n",
    "# Fit the model for Generation 1 data\n",
    "model7_gen1_predict_future = smf.ols(formula=model7_linear_form, data=pokeaman[pokeaman.Generation==1])\n",
    "model7_gen1_predict_future_fit = model7_gen1_predict_future.fit()\n",
    "\n",
    "# Print In-sample R-squared for the original model\n",
    "print(\"'In sample' R-squared:    \", model7_fit.rsquared, \"(original)\")\n",
    "\n",
    "# Calculate and print Out-of-sample R-squared for the original model\n",
    "y = pokeaman_test.HP\n",
    "print(\"'Out of sample' R-squared:\", np.corrcoef(y, yhat_model7)[0, 1]**2, \"(original)\")\n",
    "\n",
    "# Print In-sample R-squared for the Generation 1 prediction model\n",
    "print(\"'In sample' R-squared:    \", model7_gen1_predict_future_fit.rsquared, \"(gen1_predict_future)\")\n",
    "\n",
    "# Calculate and print Out-of-sample R-squared for the Generation 1 prediction model\n",
    "y = pokeaman[pokeaman.Generation != 1].HP\n",
    "yhat = model7_gen1_predict_future_fit.predict(pokeaman[pokeaman.Generation != 1])\n",
    "print(\"'Out of sample' R-squared:\", np.corrcoef(y, yhat)[0, 1]**2, \"(gen1_predict_future)\")\n"
   ]
  },
  {
   "cell_type": "markdown",
   "id": "0fc1b14b",
   "metadata": {},
   "source": [
    "## First Code:"
   ]
  },
  {
   "cell_type": "code",
   "execution_count": 136,
   "id": "e6441e0e",
   "metadata": {},
   "outputs": [
    {
     "name": "stdout",
     "output_type": "stream",
     "text": [
      "'In sample' R-squared:     0.26967828636457025 (original)\n",
      "'Out of sample' R-squared: 0.29225032475756824 (original)\n",
      "'In sample' R-squared:     0.3482687905833055 (gen1_predict_future)\n",
      "'Out of sample' R-squared: 0.14658589956997625 (gen1_predict_future)\n"
     ]
    }
   ],
   "source": [
    "model7_gen1_predict_future = smf.ols(formula=model7_linear_form,\n",
    "                                   data=pokeaman[pokeaman.Generation==1])\n",
    "model7_gen1_predict_future_fit = model7_gen1_predict_future.fit()\n",
    "print(\"'In sample' R-squared:    \", model7_fit.rsquared, \"(original)\")\n",
    "y = pokeaman_test.HP\n",
    "print(\"'Out of sample' R-squared:\", np.corrcoef(y,yhat_model7)[0,1]**2, \"(original)\")\n",
    "print(\"'In sample' R-squared:    \", model7_gen1_predict_future_fit.rsquared, \"(gen1_predict_future)\")\n",
    "y = pokeaman[pokeaman.Generation!=1].HP\n",
    "yhat = model7_gen1_predict_future_fit.predict(pokeaman[pokeaman.Generation!=1])\n",
    "print(\"'Out of sample' R-squared:\", np.corrcoef(y,yhat)[0,1]**2, \"(gen1_predict_future)\")"
   ]
  },
  {
   "cell_type": "markdown",
   "id": "a8359eba",
   "metadata": {},
   "source": [
    "## Code Interpretation:\n",
    "### **1. In-Sample and Out-of-Sample R-squared Analysis for Model7**:\n",
    "\n",
    "- The in-sample R-squared for the original model (`model7_fit`) is relatively high, indicating that the model fits the training data well.\n",
    "\n",
    "- However, the out-of-sample R-squared for the original model, when applied to the test dataset (`pokeaman_test.HP`), is lower. This suggests that the model doesn't generalize as effectively to unseen data, which could be a sign of overfitting.\n",
    "\n",
    "- When evaluating the model trained only on **Generation 1** data (`model7_gen1_predict_future`), the in-sample R-squared is again high, which is expected since the model was trained on this data. However, when we test this model on data from `other generations`, the out-of-sample R-squared is computed. If this value is lower, it indicates that the model trained on Generation 1 data may not perform well when applied to other generations, demonstrating potential overfitting.\n",
    "\n",
    "### **2. Model Complexity vs. Generalizability**:\n",
    "\n",
    "- The high in-sample R-squared and lower out-of-sample R-squared suggest that while `model7` fits well to the training data, its generalizability may be limited, especially when tested on new data (i.e., Pokémon from later generations). This highlights the issue of overfitting that can arise with more complex models.\n",
    "\n",
    "- Overall, this emphasizes the importance of balancing **model complexity** with **generalizability.** While a more complex model may provide a better fit to the training data, it can suffer from poor performance on new data."
   ]
  },
  {
   "cell_type": "markdown",
   "id": "4f68be68",
   "metadata": {},
   "source": [
    "## Second Code:"
   ]
  },
  {
   "cell_type": "code",
   "execution_count": 137,
   "id": "78b369b3",
   "metadata": {},
   "outputs": [
    {
     "name": "stdout",
     "output_type": "stream",
     "text": [
      "'In sample' R-squared:     0.26967828636457025 (original)\n",
      "'Out of sample' R-squared: 0.29225032475756824 (original)\n",
      "'In sample' R-squared:     0.2690171108300998 (gen1to5_predict_future)\n",
      "'Out of sample' R-squared: 0.29130914074696457 (gen1to5_predict_future)\n"
     ]
    }
   ],
   "source": [
    "model7_gen1to5_predict_future = smf.ols(formula=model7_linear_form,\n",
    "                                   data=pokeaman[pokeaman.Generation!=6])\n",
    "model7_gen1to5_predict_future_fit = model7_gen1to5_predict_future.fit()\n",
    "print(\"'In sample' R-squared:    \", model7_fit.rsquared, \"(original)\")\n",
    "y = pokeaman_test.HP\n",
    "print(\"'Out of sample' R-squared:\", np.corrcoef(y,yhat_model7)[0,1]**2, \"(original)\")\n",
    "print(\"'In sample' R-squared:    \", model7_gen1to5_predict_future_fit.rsquared, \"(gen1to5_predict_future)\")\n",
    "y = pokeaman[pokeaman.Generation==6].HP\n",
    "yhat = model7_gen1to5_predict_future_fit.predict(pokeaman[pokeaman.Generation==6])\n",
    "print(\"'Out of sample' R-squared:\", np.corrcoef(y,yhat)[0,1]**2, \"(gen1to5_predict_future)\")"
   ]
  },
  {
   "cell_type": "markdown",
   "id": "ca7fddc4",
   "metadata": {},
   "source": [
    "### **1. In-Sample and Out-of-Sample R-squared Analysis for Model7 (Trained on Generations 1-5):**\n",
    "\n",
    "- **In-Sample R-squared for the Original Model (`model7_fit`):**\n",
    "  The in-sample R-squared value for the original model (`model7_fit`) is reported first. This value indicates how well the original model fits the training data. A higher in-sample R-squared suggests a good fit to the training dataset, as the model explains a significant portion of the variance in the data.\n",
    "\n",
    "- **Out-of-Sample R-squared for the Original Model (`yhat_model7`):**\n",
    "  Next, we calculate the out-of-sample R-squared by comparing the predicted values (`yhat_model7`) from the original model with the true values from the test data (`pokeaman_test.HP`). A decrease in R-squared when moving from in-sample to out-of-sample implies that the model does not generalize well to unseen data, which is a classic sign of **overfitting**.\n",
    "\n",
    "- **In-Sample R-squared for Model7 Trained on Generations 1-5 (`model7_gen1to5_predict_future`):**\n",
    "  The in-sample R-squared for the model trained on Generations 1-5 (`model7_gen1to5_predict_future`) is then computed. This value indicates how well the model trained on data from Generations 1 to 5 fits those generations. A higher in-sample R-squared suggests that the model explains the variance in the data from these generations well.\n",
    "\n",
    "- **Out-of-Sample R-squared for Model7 Trained on Generations 1-5 (Tested on Generation 6 Data):**\n",
    "  We then test this model on data from Generation 6 (`pokeaman[pokeaman.Generation==6]`) and compute the out-of-sample R-squared. If this value is lower than the in-sample R-squared, it indicates that the model trained on data from Generations 1-5 does not generalize well to Generation 6. This would again highlight potential **overfitting** to the earlier generations and the model's inability to adapt to data from new generations.\n",
    "\n",
    "\n",
    "### **2. Model Complexity and Generalizability Analysis:**\n",
    "\n",
    "- **Original Model and Overfitting:**\n",
    "  The original model (`model7_fit`) shows high in-sample R-squared but lower out-of-sample R-squared when tested on the test data. This suggests overfitting to the training data and indicates that the model may not generalize well to unseen data, pointing to potential issues with **model complexity**.\n",
    "\n",
    "- **Model Trained on Generations 1-5:**\n",
    "  The model trained on Generations 1-5 (`model7_gen1to5_predict_future`) shows a similar pattern: high in-sample R-squared and lower out-of-sample R-squared when tested on Generation 6 data. This indicates that the model captures patterns in Generations 1-5 but does not generalize well to data from a different generation. \n",
    "\n",
    "- **Impact of Model Complexity:**\n",
    "  The complexity of the model is highlighted in both cases. While the in-sample performance is strong, the out-of-sample performance reveals that the model may be overfitting to specific features of the data from earlier generations. This shows the trade-off between model complexity (which leads to good fit but poor generalizability) and simplicity (which may have better generalizability but at the cost of a poorer fit)."
   ]
  },
  {
   "cell_type": "markdown",
   "id": "2014b0be",
   "metadata": {},
   "source": [
    "# Third Code:"
   ]
  },
  {
   "cell_type": "markdown",
   "id": "3ee040b2",
   "metadata": {},
   "source": [
    "The code is keep generating an error, so I commented out. "
   ]
  },
  {
   "cell_type": "code",
   "execution_count": 138,
   "id": "48e5fb31",
   "metadata": {},
   "outputs": [
    {
     "data": {
      "text/plain": [
       "Index(['#', 'Name', 'Type 1', 'Type 2', 'HP', 'Attack', 'Defense', 'Sp. Atk',\n",
       "       'Sp. Def', 'Speed', 'Generation', 'Legendary', 'str8fyre'],\n",
       "      dtype='object')"
      ]
     },
     "execution_count": 138,
     "metadata": {},
     "output_type": "execute_result"
    }
   ],
   "source": [
    "# Display the column names in the dataset\n",
    "pokeaman.columns\n"
   ]
  },
  {
   "cell_type": "code",
   "execution_count": 139,
   "id": "3eda0688",
   "metadata": {},
   "outputs": [],
   "source": [
    "# model6_gen1_predict_future = smf.ols(formula=model6_linear_form,\n",
    "#                                      data=pokeaman[pokeaman.Generation==1])\n",
    "# model6_gen1_predict_future_fit = model6_gen1_predict_future.fit()\n",
    "\n",
    "# print(\"'In sample' R-squared:    \", model6_fit.rsquared, \"(original)\")\n",
    "\n",
    "# y = pokeaman_test.HP\n",
    "# print(\"'Out of sample' R-squared:\", np.corrcoef(y, yhat_model6)[0, 1]**2, \"(original)\")\n",
    "\n",
    "# print(\"'In sample' R-squared:    \", model6_gen1_predict_future_fit.rsquared, \"(gen1_predict_future)\")\n",
    "\n",
    "# y = pokeaman[pokeaman.Generation != 1].HP\n",
    "# yhat = model6_gen1_predict_future_fit.predict(pokeaman[pokeaman.Generation != 1])\n",
    "# print(\"'Out of sample' R-squared:\", np.corrcoef(y, yhat)[0, 1]**2, \"(gen1_predict_future)\")\n"
   ]
  },
  {
   "cell_type": "markdown",
   "id": "ac8da47d",
   "metadata": {},
   "source": [
    "### **1. In-Sample and Out-of-Sample R-squared Analysis for Model6 (Trained on Generation 1 Data):**\n",
    "\n",
    "#### **In-Sample R-squared for the Original Model (`model6_fit`):**\n",
    "- The in-sample R-squared for the original model (`model6_fit`) represents how well the model fits the training data. A higher R-squared value indicates that the model explains a large proportion of the variance in the dependent variable (HP in this case) for the data it was trained on.\n",
    "- The in-sample R-squared for the original model provides an indication of how well the model captures patterns within the data it has seen. It tells us about the model's performance on the training set.\n",
    "\n",
    "#### **Out-of-Sample R-squared for the Original Model (`yhat_model6`):**\n",
    "- The out-of-sample R-squared is calculated by comparing the predicted values (`yhat_model6`) from the original model with the actual values (`pokeaman_test.HP`) from the test set.\n",
    "- A lower out-of-sample R-squared compared to the in-sample R-squared indicates that the model struggles to generalize to unseen data. This would point to **overfitting**, meaning the model fits the training data well but does not perform as well on new, unseen data. It is important to assess whether the model's good performance is just due to memorization of the training set (overfitting) or whether it reflects generalizable patterns.\n",
    "\n",
    "#### **In-Sample R-squared for Model6 Trained on Generation 1 Data (`model6_gen1_predict_future`):**\n",
    "- This step fits a model on just Generation 1 data (`pokeaman[Generation==1]`) and calculates the in-sample R-squared for this specific model. This R-squared value reflects how well the model explains the variance of HP within Generation 1 alone.\n",
    "- A high in-sample R-squared would suggest that the model explains the variability within Generation 1 well. However, it's crucial to note that this performance may not extend to other generations of Pokémon.\n",
    "\n",
    "#### **Out-of-Sample R-squared for Model6 Trained on Generation 1 Data (Tested on Other Generations):**\n",
    "- In this step, the model trained on Generation 1 data is tested on the data from other generations (`pokeaman[Generation!=1]`).\n",
    "- The out-of-sample R-squared is calculated by comparing the predicted HP values for other generations (`yhat`) with the actual HP values from those generations (`y`).\n",
    "- A lower out-of-sample R-squared for this test suggests that the model trained solely on Generation 1 data does not generalize well to data from other generations. This could indicate **overfitting** to Generation 1 and a lack of adaptability to the patterns of Pokémon from other generations.\n",
    "\n",
    "---\n",
    "\n",
    "### **2. Model Complexity vs. Generalizability:**\n",
    "\n",
    "#### **Overfitting and Limited Generalizability:**\n",
    "- Just like in the previous examples, a high in-sample R-squared paired with a low out-of-sample R-squared suggests that the model is **overfitting** to the training data and may not generalize well to new data.\n",
    "- In this case, the model trained on Generation 1 data has a good fit for that specific subset of the data (high in-sample R-squared), but its performance significantly drops when tested on data from other generations (lower out-of-sample R-squared). This shows that the model may have captured the specific patterns of Generation 1 but is unable to adapt to the diversity in the data from other generations.\n",
    "\n",
    "#### **Generalizability Across Generations:**\n",
    "- When the model trained on Generation 1 data is applied to data from other generations, we see the limitations in terms of generalizability. This suggests that the patterns learned from Generation 1 data are not necessarily applicable or robust enough to handle data from different generations.\n",
    "- If the out-of-sample R-squared is significantly lower for this test, it supports the idea that the model's ability to generalize to new data (Pokémon from other generations) is limited. This indicates that the model's complexity might have made it too tailored to the characteristics of Generation 1, leading to poor performance when applied to data outside that generation.\n",
    "\n",
    "---\n",
    "\n",
    "### **3. Conclusion:**\n",
    "- **Overfitting**: As observed, both the original model and the model trained on Generation 1 data perform well on the training data but fail to generalize to new data (test or other generations). This highlights a classic case of **overfitting**, where the model is too complex for the data and learns idiosyncratic patterns that don't generalize.\n",
    "- **Model Complexity and Generalizability**: This analysis underscores the trade-off between model complexity (which leads to high in-sample performance) and generalizability (which can suffer when the model becomes too specific to the training set). Overfitting can result in poor performance on new, unseen data, which is crucial to consider when evaluating the effectiveness of any model.\n",
    "\n",
    "---\n",
    "\n",
    "This pattern of high in-sample R-squared and low out-of-sample R-squared shows the importance of balancing the fit of the model on the training data with its ability to perform well on new, unseen data. **Cross-validation** or training models on a wider variety of data, such as across multiple generations, could help improve generalizability."
   ]
  },
  {
   "cell_type": "markdown",
   "id": "f877de67",
   "metadata": {},
   "source": [
    "# Fourth Code:\n",
    "Commented out since the code keep generated an error"
   ]
  },
  {
   "cell_type": "code",
   "execution_count": 140,
   "id": "0aa1d393",
   "metadata": {},
   "outputs": [],
   "source": [
    "# model6_gen1to5_predict_future = smf.ols(formula=model6_linear_form,\n",
    "#                                        data=pokeaman[pokeaman.Generation!=6])\n",
    "# model6_gen1to5_predict_future_fit = model6_gen1to5_predict_future.fit()\n",
    "# print(\"'In sample' R-squared:    \", model6_fit.rsquared, \"(original)\")\n",
    "# y = pokeaman_test.HP\n",
    "# print(\"'Out of sample' R-squared:\", np.corrcoef(y,yhat_model6)[0,1]**2, \"(original)\")\n",
    "# print(\"'In sample' R-squared:    \", model6_gen1to5_predict_future_fit.rsquared, \"(gen1to5_predict_future)\")\n",
    "# y = pokeaman[pokeaman.Generation==6].HP\n",
    "# yhat = model6_gen1to5_predict_future_fit.predict(pokeaman[pokeaman.Generation==6])\n",
    "# print(\"'Out of sample' R-squared:\", np.corrcoef(y,yhat)[0,1]**2, \"(gen1to5_predict_future)\")\n"
   ]
  },
  {
   "cell_type": "markdown",
   "id": "6a3f13fe",
   "metadata": {},
   "source": [
    "### **1. In-Sample and Out-of-Sample R-squared Analysis for Model7 (Trained on Generations 1-5):**\n",
    "\n",
    "- **In-Sample R-squared for the Original Model (`model7_fit`):**\n",
    "  The in-sample R-squared value for the original model (`model7_fit`) indicates how well the model fits the training data. A higher in-sample R-squared means that the model is able to explain a large proportion of the variance in the target variable (`HP`) within the training data. If this value is high, it suggests that the model has learned the relationships between the predictors and the target effectively for the data it was trained on.\n",
    "\n",
    "- **Out-of-Sample R-squared for the Original Model (`yhat_model7`):**\n",
    "  The out-of-sample R-squared is calculated by comparing the predicted values (`yhat_model7`) from the original model with the actual values from the test dataset (`pokeaman_test.HP`). A decrease in R-squared when moving from in-sample to out-of-sample indicates that the model does not generalize well to unseen data. This is a potential sign of **overfitting**, where the model has learned the specifics of the training data too well, including noise or irrelevant patterns, which hampers its ability to predict unseen data accurately.\n",
    "\n",
    "- **In-Sample R-squared for Model7 Trained on Generations 1-5 (`model7_gen1to5_predict_future`):**\n",
    "  The in-sample R-squared for the model trained on Generations 1-5 (`model7_gen1to5_predict_future`) measures how well the model explains the variance in the data from these specific generations. A high in-sample R-squared indicates that the model fits the data from Generations 1-5 well, capturing the underlying patterns in the training set. However, it is important to note that a good fit on training data does not necessarily mean that the model will generalize well to new, unseen data.\n",
    "\n",
    "- **Out-of-Sample R-squared for Model7 Trained on Generations 1-5 (Tested on Generation 6 Data):**\n",
    "  The out-of-sample R-squared for the model trained on Generations 1-5 is calculated by testing the model on Generation 6 data. If this R-squared value is lower than the in-sample R-squared, it suggests that the model trained on earlier generations (1-5) does not generalize well to the data from Generation 6. This again points to potential **overfitting** to the earlier generations and a lack of flexibility or adaptability in the model when applied to data from a new generation.\n",
    "\n",
    "\n",
    "### **2. Model Complexity and Generalizability Analysis:**\n",
    "\n",
    "- **Original Model and Overfitting:**\n",
    "  The original model (`model7_fit`) shows a strong in-sample R-squared but a significant drop in out-of-sample R-squared when tested on the test data. This suggests that the model has overfitted to the training data. Overfitting occurs when a model learns too many details and noise in the training data, which leads to poor performance on new, unseen data. The decrease in R-squared between in-sample and out-of-sample predictions highlights that the model is too complex and fails to generalize well to other data.\n",
    "\n",
    "- **Model Trained on Generations 1-5:**\n",
    "  The model trained on Generations 1-5 (`model7_gen1to5_predict_future`) exhibits a similar pattern, with high in-sample R-squared but a lower out-of-sample R-squared when applied to Generation 6 data. This further reinforces the issue of overfitting, as the model captures the patterns in Generations 1-5 well but struggles to apply that knowledge to Generation 6. The drop in R-squared indicates that the model’s predictive ability is limited when faced with new data that differs from the training set.\n",
    "\n",
    "- **Impact of Model Complexity:**\n",
    "  In both cases, the complexity of the model is evident. While the in-sample performance is strong, the out-of-sample performance reveals that the model is not generalizing well to new data. This illustrates the trade-off between model complexity and generalizability:\n",
    "  \n",
    "  - A **complex model** may have excellent in-sample performance by fitting the training data very well, but it may overfit and struggle with new data, leading to poor generalization.\n",
    "  - A **simpler model**, which might not fit the training data as perfectly, may generalize better and perform more consistently across different datasets.\n",
    "\n",
    "  The analysis suggests that while a complex model may seem attractive because of its high in-sample fit, the lack of generalizability signals that model complexity needs to be carefully managed to avoid overfitting and ensure better predictive performance on unseen data.\n"
   ]
  },
  {
   "cell_type": "markdown",
   "id": "ff218ba4",
   "metadata": {},
   "source": [
    "# ChatGPT Summary\n",
    "\n",
    "#### Key Points Discussed:\n",
    "\n",
    "1. **In-Sample vs. Out-of-Sample R-squared Values:**\n",
    "   - I learned how to calculate and interpret the in-sample R-squared, which indicates how well a model fits the training data. A higher in-sample R-squared suggests a better fit to the training data.\n",
    "   - I also explored how to calculate the out-of-sample R-squared, which compares the predicted values from the model to the actual values from a test dataset. A significant drop in out-of-sample R-squared indicates that the model may be overfitting to the training data, as it struggles to generalize to unseen data.\n",
    "\n",
    "2. **Overfitting and Model Complexity:**\n",
    "   - Through the discussion, I understood that models with high in-sample R-squared but lower out-of-sample R-squared values are likely overfitting the data. This means the model has captured noise or irrelevant patterns in the training data, which reduces its ability to predict accurately on new data.\n",
    "   - I explored how overfitting can result from complex models that fit the training data too closely, highlighting the importance of balancing model complexity with generalizability.\n",
    "\n",
    "3. **Impact of Model Training on Different Generations:**\n",
    "   - We also discussed training models on different generations of Pokémon data (Generations 1-5) and testing their ability to generalize to data from Generation 6. This analysis revealed the challenge of creating models that can perform well across different datasets, suggesting the need for caution in using models trained on specific subsets of data.\n",
    "\n",
    "4. **Model Generalization:**\n",
    "   - The analysis underscored the trade-off between model complexity and generalization. A simpler model, though it may not fit the training data as perfectly, could generalize better across different datasets, which is critical in predictive modeling tasks."
   ]
  }
 ],
 "metadata": {
  "kernelspec": {
   "display_name": "Python 3 (ipykernel)",
   "language": "python",
   "name": "python3"
  },
  "language_info": {
   "codemirror_mode": {
    "name": "ipython",
    "version": 3
   },
   "file_extension": ".py",
   "mimetype": "text/x-python",
   "name": "python",
   "nbconvert_exporter": "python",
   "pygments_lexer": "ipython3",
   "version": "3.11.6"
  }
 },
 "nbformat": 4,
 "nbformat_minor": 5
}
