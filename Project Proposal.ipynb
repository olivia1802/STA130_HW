{
 "cells": [
  {
   "cell_type": "markdown",
   "id": "6549eaa4",
   "metadata": {},
   "source": [
    "# Analysis Proposal : Relationship Between Community Engagement and Chronic Health Conditions\n",
    "## 1. Research Question:\n",
    "Does the level of community engagement influence the prevalance of chronic health conditions among individuals? \n",
    "- This question aims to determine whether higher community engagement is associated with fewer chrnoic health issues, which aligns with the broader project goal of understanding the impact of social connection on health. \n",
    "## 2. Variables:\n",
    "- Independent Variable: Community engagement level. This variable may include various metrics, such as frequency of social interactinos, participation in community activities, or feelings of social support.\n",
    "- Dependent Variable: Prevalence of chronic health conditions. This may be a binary variable (e.g., presence or absence of any chronic condition) or categorical (e.g., type and number of chronic conditions). \n",
    "### Rationale for Variable Selection:\n",
    "Community engagement level is selected as it reflects the individual's connectedness with their community, while the prevalence of chronic health conditions represents an important health outcome. \n",
    "\n",
    "## 3. Exploratory Analysis and Visualization:\n",
    "- Use histogram or bar plots for each group (those with and without chronic conditions) to compare levels of engagement.\n",
    "- Box plots to further examine the spread and central tendencies of engagement levels within each health group. \n",
    "\n",
    "## 4. Analysis Method:\n",
    "Use a two-sample t-test to compare the mean levels of community engagement between individuals with and without chronic health conditions. \n",
    "\n",
    "- Null Hypothesis ($H_0$): There's no difference in the prevalence of chronic health conditions between individuals with high and low levels of community engagement. \n",
    "- Alternative Hypothesis ($H_1$): Individuals with high levels of community engagement have a significantly different prevalence of chronic health conditions compared to those with low engagement. \n",
    "\n",
    "### Type of t-test\n",
    "A two-sample t-test for proportion is suitable here if we're comparing the proportion of chronic health conditions between two independent groups (high vs. low community engagement). This test can unveil whether a significant association exists between engagement level and health outcomes. \n",
    "\n",
    "### Assumptions\n",
    "This test assumes that:\n",
    "1. The data for each group are approximately normally distributed.\n",
    "2. The variances of community engagement levels are equal for both groups\n",
    "3. Observations in each group are independent.\n",
    "\n",
    "## 5. Expected Results and Interpretation:\n",
    "### Possible Result: \n",
    "- If the test yields a low p-value (e.g.<0.05), we have an evidence to reject the null hypothesis, suggesting that community engagement level is significantly associated with the prevalence of chronic health conditions. If the p-value is above 0.05, we would conclude there's no signficant difference. \n",
    "\n",
    "### Relevance: \n",
    "- A significant result would indicate that community engagement might play a role in reducing chronic health conditions, supporting initiatives aimed at improving public health through social connections. Conversely, a non-significant result would imply that other factors might be more impactful on chronic health conditions, or that the effect of community engagement is limited."
   ]
  }
 ],
 "metadata": {
  "kernelspec": {
   "display_name": "Python 3 (ipykernel)",
   "language": "python",
   "name": "python3"
  },
  "language_info": {
   "codemirror_mode": {
    "name": "ipython",
    "version": 3
   },
   "file_extension": ".py",
   "mimetype": "text/x-python",
   "name": "python",
   "nbconvert_exporter": "python",
   "pygments_lexer": "ipython3",
   "version": "3.11.6"
  }
 },
 "nbformat": 4,
 "nbformat_minor": 5
}
